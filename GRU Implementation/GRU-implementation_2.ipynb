{
 "cells": [
  {
   "cell_type": "code",
   "execution_count": 1,
   "metadata": {},
   "outputs": [
    {
     "name": "stderr",
     "output_type": "stream",
     "text": [
      "Using TensorFlow backend.\n"
     ]
    },
    {
     "name": "stdout",
     "output_type": "stream",
     "text": [
      "1140\n",
      "300\n"
     ]
    },
    {
     "data": {
      "text/plain": [
       "'test_y = to_categorical(test_y)\\ntrain_y = to_categorical(train_y)\\n'"
      ]
     },
     "execution_count": 1,
     "metadata": {},
     "output_type": "execute_result"
    }
   ],
   "source": [
    "import pandas as pd\n",
    "import os \n",
    "import numpy as np\n",
    "import tensorflow as tf\n",
    "from tensorflow.keras.models import Sequential\n",
    "from tensorflow.keras.layers import Dense, Dropout, GRU\n",
    "from sklearn.model_selection import train_test_split\n",
    "import matplotlib.pyplot as plt\n",
    "from tensorflow.keras.layers import BatchNormalization\n",
    "from sklearn.preprocessing import OneHotEncoder\n",
    "from keras.utils import to_categorical\n",
    "from tensorflow import keras\n",
    "\n",
    "def npz_to_dataFrame():\n",
    "    label = 0\n",
    "    df = pd.DataFrame(columns = [\"Name\", \"Label\"])\n",
    "    for file_name in file:\n",
    "        #if file_name[10] == '2':\n",
    "        if file_name[7] == '1' or file_name[7] == '2' or file_name[7] == '3':\n",
    "            label = 0\n",
    "        elif file_name[7] == '5' or file_name[7] == '7':\n",
    "            label = 1\n",
    "        numpy_data = np.array([[file_name,label]])\n",
    "        df2 = pd.DataFrame(data = numpy_data, columns = [\"Name\", \"Label\"])\n",
    "        df = df.append(df2, ignore_index = True)   \n",
    "    return(df)\n",
    "    \n",
    "    \n",
    "file = os.listdir(\"/Users/sanjay/Desktop/Audio-Embedding/npz-values/\")    \n",
    "df = npz_to_dataFrame()\n",
    "df1 = df.drop([174,861])\n",
    "df = df1\n",
    "\n",
    "print(len(df))\n",
    "train_y = df.Label\n",
    "train_y = np.array(train_y)\n",
    "#y = y.reshape(-1, 1)\n",
    "train_x = df.drop('Label', axis = 1)\n",
    "'''enc = OneHotEncoder()\n",
    "y = enc.fit(y).categories\n",
    "print(y)'''\n",
    "file = os.listdir(\"/Users/sanjay/Desktop/Audio-Embedding/test_npz_values/\")    \n",
    "df = npz_to_dataFrame()\n",
    "'''df1 = df.drop([210,1088])\n",
    "df = df1'''\n",
    "print(len(df))\n",
    "test_y = df.Label\n",
    "test_y = np.array(test_y)\n",
    "#y = y.reshape(-1, 1)\n",
    "test_x = df.drop('Label', axis = 1)\n",
    "\n",
    "\n",
    "\n",
    "'''test_y = to_categorical(test_y)\n",
    "train_y = to_categorical(train_y)\n",
    "'''\n"
   ]
  },
  {
   "cell_type": "code",
   "execution_count": 2,
   "metadata": {},
   "outputs": [
    {
     "name": "stdout",
     "output_type": "stream",
     "text": [
      "['0' '0' '0' '0' '0' '0' '0' '0' '0' '0' '0' '0' '0' '0' '0' '0' '0' '0'\n",
      " '1' '1' '1' '1' '0' '0' '1' '1' '0' '0' '0' '1' '0' '1' '1' '1' '1' '0'\n",
      " '1' '1' '1' '0' '0' '0' '0' '0' '1' '1' '1' '1' '1' '1' '1' '1' '1' '1'\n",
      " '1' '1' '1' '1' '1' '1' '1' '1' '1' '1' '1' '1' '1' '1' '1' '1' '1' '1'\n",
      " '1' '1' '1' '0' '0' '1' '1' '1' '0' '0' '0' '1' '0' '0' '0' '1' '1' '1'\n",
      " '1' '1' '1' '1' '1' '1' '1' '1' '1' '1' '1' '1' '1' '1' '1' '1' '1' '1'\n",
      " '1' '1' '1' '1' '1' '1' '1' '1' '1' '1' '1' '1' '0' '0' '0' '0' '0' '0'\n",
      " '0' '0' '0' '0' '0' '0' '0' '0' '0' '0' '0' '0' '0' '1' '1' '1' '0' '0'\n",
      " '0' '1' '0' '0' '1' '1' '1' '1' '1' '1' '1' '1' '1' '1' '1' '1' '1' '1'\n",
      " '1' '0' '0' '0' '0' '0' '1' '0' '1' '1' '1' '1' '0' '0' '1' '1' '1' '1'\n",
      " '1' '1' '1' '1' '1' '1' '1' '1' '1' '1' '1' '1' '1' '1' '1' '0' '0' '0'\n",
      " '0' '0' '0' '0' '0' '0' '0' '0' '0' '1' '1' '0' '0' '0' '1' '0' '0' '1'\n",
      " '1' '1' '1' '0' '0' '0' '0' '0' '0' '0' '0' '0' '0' '0' '0' '0' '0' '0'\n",
      " '0' '0' '0' '0' '1' '0' '0' '1' '1' '0' '0' '0' '1' '1' '1' '0' '0' '0'\n",
      " '0' '0' '0' '0' '1' '1' '1' '1' '1' '1' '1' '1' '1' '1' '1' '1' '0' '0'\n",
      " '0' '1' '1' '1' '0' '0' '1' '1' '1' '0' '1' '1' '1' '1' '1' '1' '1' '1'\n",
      " '1' '1' '1' '1' '1' '1' '1' '1' '1' '1' '1' '1']\n"
     ]
    }
   ],
   "source": [
    "print(test_y)"
   ]
  },
  {
   "cell_type": "code",
   "execution_count": 11,
   "metadata": {},
   "outputs": [],
   "source": [
    "def get_train_data(df, max_len):\n",
    "    numpy_array = []\n",
    "    numpy_array_2 = []\n",
    "    zero_array = np.array([0]*512)\n",
    "    for i in range(len(df)):\n",
    "        try:\n",
    "            numpy_array_name = df.iloc[i].Name\n",
    "            numpy_array = np.load(\"/Users/sanjay/Desktop/Audio-Embedding/npz-values/\" + numpy_array_name, allow_pickle=True)\n",
    "            numpy_array_1 = numpy_array.f.arr_0\n",
    "            numpy_array_2.append(numpy_array_1)\n",
    "            \n",
    "        except:\n",
    "            print(i)\n",
    "    numpy_array_3 = [[[]]]\n",
    "    for i in range(len(numpy_array_2)):\n",
    "        numpy_array_2[i] = np.transpose(numpy_array_2[i])\n",
    "        if max_len - len(numpy_array_2[i]) != 0:\n",
    "            for j in range((max_len - len(numpy_array_2[i]))):\n",
    "                numpy_array_2[i] = np.append(numpy_array_2[i],[zero_array],axis = 0)\n",
    "        numpy_array_2[i] = np.transpose(numpy_array_2[i])\n",
    "    for i in range(len(numpy_array_2)):\n",
    "        for j in range(len(numpy_array_2[i])):\n",
    "            k = 0\n",
    "            l = 0\n",
    "            while k<=519:\n",
    "                numpy_array_3.append(sum(numpy_array_2[i][j][k:k+10])/10)\n",
    "                k += 10    \n",
    "            numpy_array_3.append(sum(numpy_array_2[i][j][k:k+5])/5)\n",
    "    return np.array(numpy_array_3)\n",
    "    "
   ]
  },
  {
   "cell_type": "code",
   "execution_count": 12,
   "metadata": {},
   "outputs": [],
   "source": [
    "def get_test_data(df, max_len):\n",
    "    numpy_array = []\n",
    "    numpy_array_2 = []\n",
    "    zero_array = np.array([0]*512)\n",
    "    for i in range(len(df)):\n",
    "        try:\n",
    "            numpy_array_name = df.iloc[i].Name\n",
    "            numpy_array = np.load(\"/Users/sanjay/Desktop/Audio-Embedding/test_npz_values/\" + numpy_array_name, allow_pickle=True)\n",
    "            numpy_array_1 = numpy_array.f.arr_0\n",
    "            numpy_array_2.append(numpy_array_1)\n",
    "            \n",
    "        except:\n",
    "            print(i)\n",
    "    \n",
    "    numpy_array_3 = [[[]]]\n",
    "    for i in range(len(numpy_array_2)):\n",
    "        numpy_array_2[i] = np.transpose(numpy_array_2[i])\n",
    "        if max_len - len(numpy_array_2[i]) != 0:\n",
    "            for j in range((max_len - len(numpy_array_2[i]))):\n",
    "                numpy_array_2[i] = np.append(numpy_array_2[i],[zero_array],axis = 0)\n",
    "        numpy_array_2[i] = np.transpose(numpy_array_2[i])\n",
    "    for i in range(len(numpy_array_2)):\n",
    "        for j in range(len(numpy_array_2[i])):\n",
    "            k = 0\n",
    "            l = 0\n",
    "            while k<=519:\n",
    "                numpy_array_3.append(sum(numpy_array_2[i][j][k:k+10])/10)\n",
    "                k += 10    \n",
    "            numpy_array_3.append(sum(numpy_array_2[i][j][k:k+5])/5)\n",
    "    return np.array(numpy_array_3)\n",
    "    "
   ]
  },
  {
   "cell_type": "code",
   "execution_count": 13,
   "metadata": {},
   "outputs": [],
   "source": [
    "def get_maxlen(df):\n",
    "    numpy_array = []\n",
    "    numpy_array_2 = []\n",
    "    for i in range(len(df)):\n",
    "            numpy_array_name = df.iloc[i].Name\n",
    "            numpy_array = np.load(\"/Users/sanjay/Desktop/Audio-Embedding/npz-values/\" + numpy_array_name, allow_pickle=True)\n",
    "            numpy_array_1 = numpy_array.f.arr_0\n",
    "            numpy_array_2.append(numpy_array_1)\n",
    "    max_len = 0\n",
    "    for i in range(len(numpy_array_2)):\n",
    "        for j in range(len(numpy_array_2[i])):\n",
    "            if len(numpy_array_2[i][j]) > max_len:\n",
    "                max_len = len(numpy_array_2[i][j])\n",
    "    return max_len, numpy_array_2"
   ]
  },
  {
   "cell_type": "code",
   "execution_count": 14,
   "metadata": {},
   "outputs": [
    {
     "name": "stdout",
     "output_type": "stream",
     "text": [
      "(300, 53, 512) (1140, 53, 512) (1140,) (300,)\n"
     ]
    }
   ],
   "source": [
    "#max_len , numpy_array_2 = get_maxlen()\n",
    "max_len = 525 #maximum duration of the audio\n",
    "x_train = get_train_data(train_x, max_len)\n",
    "x_train = x_train[1:]\n",
    "x_train = np.array(x_train)\n",
    "x_train= x_train.reshape((1140, 53, 512))\n",
    "\n",
    "x_test = get_test_data(test_x, max_len)\n",
    "x_test = x_test[1:]\n",
    "x_test = np.array(x_test)\n",
    "x_test= x_test.reshape((300, 53, 512))\n",
    "\n",
    "print(x_test.shape, x_train.shape, train_y.shape, test_y.shape)\n",
    "\n"
   ]
  },
  {
   "cell_type": "code",
   "execution_count": 15,
   "metadata": {},
   "outputs": [],
   "source": [
    "x_train = np.asarray(x_train).astype(np.float32)\n",
    "train_y = np.asarray(train_y).astype(np.float32)\n",
    "x_test =  np.asarray(x_test).astype(np.float32)\n",
    "test_y = np.asarray(test_y).astype(np.float32)"
   ]
  },
  {
   "cell_type": "code",
   "execution_count": 16,
   "metadata": {},
   "outputs": [
    {
     "name": "stdout",
     "output_type": "stream",
     "text": [
      "53\n",
      "1140\n"
     ]
    }
   ],
   "source": [
    "n_dim = x_train.shape[1]  \n",
    "n_classes = train_y.shape[0] \n",
    "print(n_dim)\n",
    "print(n_classes)\n",
    "#print(test_x)"
   ]
  },
  {
   "cell_type": "code",
   "execution_count": 17,
   "metadata": {},
   "outputs": [],
   "source": [
    "from keras.callbacks import EarlyStopping, ModelCheckpoint\n",
    "\n",
    "earlystop = EarlyStopping(monitor='val_loss', mode='min', patience=75, restore_best_weights=True)\n",
    "checkpointer = ModelCheckpoint(filepath='/tmp/weights.hdf5', verbose=1, save_best_only=True)\n"
   ]
  },
  {
   "cell_type": "code",
   "execution_count": 18,
   "metadata": {},
   "outputs": [
    {
     "name": "stdout",
     "output_type": "stream",
     "text": [
      "Model: \"sequential\"\n",
      "_________________________________________________________________\n",
      "Layer (type)                 Output Shape              Param #   \n",
      "=================================================================\n",
      "batch_normalization (BatchNo (None, 53, 512)           2048      \n",
      "_________________________________________________________________\n",
      "gru (GRU)                    (None, 53)                90153     \n",
      "_________________________________________________________________\n",
      "dense (Dense)                (None, 26)                1404      \n",
      "_________________________________________________________________\n",
      "dense_1 (Dense)              (None, 13)                351       \n",
      "_________________________________________________________________\n",
      "dense_2 (Dense)              (None, 1)                 14        \n",
      "=================================================================\n",
      "Total params: 93,970\n",
      "Trainable params: 92,946\n",
      "Non-trainable params: 1,024\n",
      "_________________________________________________________________\n",
      "None\n"
     ]
    }
   ],
   "source": [
    "from sklearn.model_selection import GridSearchCV\n",
    "from keras.wrappers.scikit_learn import KerasClassifier\n",
    "from keras.constraints import maxnorm\n",
    "\n",
    "\n",
    "def create_model():  \n",
    "    model = Sequential()\n",
    "    model.add(BatchNormalization(axis=-1, input_shape=(53,512)))\n",
    "    model.add(GRU(n_dim, dropout = 0.1, return_sequences=False, recurrent_dropout = 0.2))\n",
    "    model.add(Dense(26,activation = \"sigmoid\"))\n",
    "    model.add(Dense(13,activation = \"sigmoid\"))\n",
    "    model.add(Dense(1, kernel_initializer='uniform', activation='sigmoid'))          \n",
    "    keras.optimizers.Adam(lr=1e-5, decay=1e-6)\n",
    "    model.compile(loss='binary_crossentropy', metrics=['accuracy'])  \n",
    "    return model\n",
    "   \n",
    "  \n",
    "model = create_model()\n",
    "print(model.summary())"
   ]
  },
  {
   "cell_type": "code",
   "execution_count": 19,
   "metadata": {},
   "outputs": [
    {
     "name": "stdout",
     "output_type": "stream",
     "text": [
      "Train on 1140 samples, validate on 150 samples\n",
      "Epoch 1/80\n",
      "1140/1140 [==============================] - 4s 4ms/sample - loss: 0.6823 - accuracy: 0.5754 - val_loss: 0.6790 - val_accuracy: 0.5867\n",
      "Epoch 2/80\n",
      "1140/1140 [==============================] - 3s 2ms/sample - loss: 0.6585 - accuracy: 0.5789 - val_loss: 0.6603 - val_accuracy: 0.5867\n",
      "Epoch 3/80\n",
      "1140/1140 [==============================] - 3s 2ms/sample - loss: 0.6302 - accuracy: 0.6798 - val_loss: 0.6311 - val_accuracy: 0.7467\n",
      "Epoch 4/80\n",
      "1140/1140 [==============================] - 3s 2ms/sample - loss: 0.5940 - accuracy: 0.7623 - val_loss: 0.5928 - val_accuracy: 0.7533\n",
      "Epoch 5/80\n",
      "1140/1140 [==============================] - 3s 2ms/sample - loss: 0.5616 - accuracy: 0.7719 - val_loss: 0.5883 - val_accuracy: 0.7133\n",
      "Epoch 6/80\n",
      "1140/1140 [==============================] - 3s 2ms/sample - loss: 0.5289 - accuracy: 0.7912 - val_loss: 0.5776 - val_accuracy: 0.7133\n",
      "Epoch 7/80\n",
      "1140/1140 [==============================] - 3s 2ms/sample - loss: 0.5095 - accuracy: 0.7974 - val_loss: 0.5773 - val_accuracy: 0.7267\n",
      "Epoch 8/80\n",
      "1140/1140 [==============================] - 3s 2ms/sample - loss: 0.4875 - accuracy: 0.8079 - val_loss: 0.5801 - val_accuracy: 0.7200\n",
      "Epoch 9/80\n",
      "1140/1140 [==============================] - 3s 2ms/sample - loss: 0.4547 - accuracy: 0.8184 - val_loss: 0.6795 - val_accuracy: 0.6000\n",
      "Epoch 10/80\n",
      "1140/1140 [==============================] - 3s 2ms/sample - loss: 0.4307 - accuracy: 0.8360 - val_loss: 0.6997 - val_accuracy: 0.6200\n",
      "Epoch 11/80\n",
      "1140/1140 [==============================] - 3s 2ms/sample - loss: 0.4026 - accuracy: 0.8465 - val_loss: 0.6358 - val_accuracy: 0.6867\n",
      "Epoch 12/80\n",
      "1140/1140 [==============================] - 3s 2ms/sample - loss: 0.3762 - accuracy: 0.8614 - val_loss: 0.6071 - val_accuracy: 0.7133\n",
      "Epoch 13/80\n",
      "1140/1140 [==============================] - 3s 2ms/sample - loss: 0.3749 - accuracy: 0.8596 - val_loss: 0.6168 - val_accuracy: 0.7133\n",
      "Epoch 14/80\n",
      "1140/1140 [==============================] - 3s 2ms/sample - loss: 0.3279 - accuracy: 0.8851 - val_loss: 0.6681 - val_accuracy: 0.6800\n",
      "Epoch 15/80\n",
      "1140/1140 [==============================] - 3s 2ms/sample - loss: 0.3306 - accuracy: 0.8833 - val_loss: 0.6054 - val_accuracy: 0.7200\n",
      "Epoch 16/80\n",
      "1140/1140 [==============================] - 3s 2ms/sample - loss: 0.3110 - accuracy: 0.8956 - val_loss: 0.6269 - val_accuracy: 0.7333\n",
      "Epoch 17/80\n",
      "1140/1140 [==============================] - 3s 2ms/sample - loss: 0.3001 - accuracy: 0.8982 - val_loss: 0.7989 - val_accuracy: 0.6267\n",
      "Epoch 18/80\n",
      "1140/1140 [==============================] - 3s 2ms/sample - loss: 0.2950 - accuracy: 0.8965 - val_loss: 0.6502 - val_accuracy: 0.7400\n",
      "Epoch 19/80\n",
      "1140/1140 [==============================] - 3s 2ms/sample - loss: 0.2598 - accuracy: 0.9105 - val_loss: 0.7695 - val_accuracy: 0.6667\n",
      "Epoch 20/80\n",
      "1140/1140 [==============================] - 3s 2ms/sample - loss: 0.2431 - accuracy: 0.9202 - val_loss: 0.6709 - val_accuracy: 0.7400\n",
      "Epoch 21/80\n",
      "1140/1140 [==============================] - 3s 2ms/sample - loss: 0.2400 - accuracy: 0.9228 - val_loss: 0.9200 - val_accuracy: 0.5933\n",
      "Epoch 22/80\n",
      "1140/1140 [==============================] - 3s 2ms/sample - loss: 0.2478 - accuracy: 0.9149 - val_loss: 0.6718 - val_accuracy: 0.7400\n",
      "Epoch 23/80\n",
      "1140/1140 [==============================] - 3s 3ms/sample - loss: 0.1965 - accuracy: 0.9395 - val_loss: 0.7873 - val_accuracy: 0.6800\n",
      "Epoch 24/80\n",
      "1140/1140 [==============================] - 3s 2ms/sample - loss: 0.2061 - accuracy: 0.9342 - val_loss: 0.6964 - val_accuracy: 0.7467\n",
      "Epoch 25/80\n",
      "1140/1140 [==============================] - 3s 2ms/sample - loss: 0.2059 - accuracy: 0.9368 - val_loss: 0.8794 - val_accuracy: 0.6533\n",
      "Epoch 26/80\n",
      "1140/1140 [==============================] - 3s 2ms/sample - loss: 0.1927 - accuracy: 0.9368 - val_loss: 0.7193 - val_accuracy: 0.7333\n",
      "Epoch 27/80\n",
      "1140/1140 [==============================] - 3s 2ms/sample - loss: 0.1777 - accuracy: 0.9412 - val_loss: 1.0044 - val_accuracy: 0.6000\n",
      "Epoch 28/80\n",
      "1140/1140 [==============================] - 3s 2ms/sample - loss: 0.1475 - accuracy: 0.9561 - val_loss: 0.7964 - val_accuracy: 0.7333\n",
      "Epoch 29/80\n",
      "1140/1140 [==============================] - 3s 2ms/sample - loss: 0.1422 - accuracy: 0.9596 - val_loss: 0.7769 - val_accuracy: 0.7133\n",
      "Epoch 30/80\n",
      "1140/1140 [==============================] - 3s 2ms/sample - loss: 0.1631 - accuracy: 0.9491 - val_loss: 0.7474 - val_accuracy: 0.7400\n",
      "Epoch 31/80\n",
      "1140/1140 [==============================] - 3s 2ms/sample - loss: 0.1441 - accuracy: 0.9579 - val_loss: 0.8585 - val_accuracy: 0.7200\n",
      "Epoch 32/80\n",
      "1140/1140 [==============================] - 3s 2ms/sample - loss: 0.1320 - accuracy: 0.9658 - val_loss: 0.9957 - val_accuracy: 0.6667\n",
      "Epoch 33/80\n",
      "1140/1140 [==============================] - 3s 2ms/sample - loss: 0.1328 - accuracy: 0.9579 - val_loss: 0.8508 - val_accuracy: 0.7333\n",
      "Epoch 34/80\n",
      "1140/1140 [==============================] - 3s 2ms/sample - loss: 0.1204 - accuracy: 0.9649 - val_loss: 0.8717 - val_accuracy: 0.7067\n",
      "Epoch 35/80\n",
      "1140/1140 [==============================] - 3s 2ms/sample - loss: 0.1100 - accuracy: 0.9658 - val_loss: 0.9587 - val_accuracy: 0.6800\n",
      "Epoch 36/80\n",
      "1140/1140 [==============================] - 3s 2ms/sample - loss: 0.1191 - accuracy: 0.9623 - val_loss: 0.8229 - val_accuracy: 0.7333\n",
      "Epoch 37/80\n",
      "1140/1140 [==============================] - 2s 2ms/sample - loss: 0.1030 - accuracy: 0.9702 - val_loss: 0.9683 - val_accuracy: 0.7067\n",
      "Epoch 38/80\n",
      "1140/1140 [==============================] - 2s 2ms/sample - loss: 0.1185 - accuracy: 0.9632 - val_loss: 1.1506 - val_accuracy: 0.6067\n",
      "Epoch 39/80\n",
      "1140/1140 [==============================] - 2s 2ms/sample - loss: 0.0758 - accuracy: 0.9833 - val_loss: 0.9312 - val_accuracy: 0.7267\n",
      "Epoch 40/80\n",
      "1140/1140 [==============================] - 2s 2ms/sample - loss: 0.0783 - accuracy: 0.9781 - val_loss: 0.9835 - val_accuracy: 0.7000\n",
      "Epoch 41/80\n",
      "1140/1140 [==============================] - 3s 2ms/sample - loss: 0.0920 - accuracy: 0.9719 - val_loss: 0.9909 - val_accuracy: 0.7333\n",
      "Epoch 42/80\n",
      "1140/1140 [==============================] - 2s 2ms/sample - loss: 0.0824 - accuracy: 0.9763 - val_loss: 1.1448 - val_accuracy: 0.6533\n",
      "Epoch 43/80\n",
      "1140/1140 [==============================] - 2s 2ms/sample - loss: 0.0714 - accuracy: 0.9807 - val_loss: 0.9367 - val_accuracy: 0.7467\n",
      "Epoch 44/80\n",
      "1140/1140 [==============================] - 2s 2ms/sample - loss: 0.0801 - accuracy: 0.9754 - val_loss: 1.0635 - val_accuracy: 0.7133\n",
      "Epoch 45/80\n",
      "1140/1140 [==============================] - 2s 2ms/sample - loss: 0.0763 - accuracy: 0.9763 - val_loss: 0.8976 - val_accuracy: 0.7533\n",
      "Epoch 46/80\n",
      "1140/1140 [==============================] - 3s 2ms/sample - loss: 0.0684 - accuracy: 0.9807 - val_loss: 1.0105 - val_accuracy: 0.7200\n",
      "Epoch 47/80\n",
      "1140/1140 [==============================] - 3s 2ms/sample - loss: 0.0552 - accuracy: 0.9860 - val_loss: 1.0973 - val_accuracy: 0.6933\n",
      "Epoch 48/80\n",
      "1140/1140 [==============================] - 3s 2ms/sample - loss: 0.0718 - accuracy: 0.9781 - val_loss: 1.0379 - val_accuracy: 0.7200\n",
      "Epoch 49/80\n",
      "1140/1140 [==============================] - 3s 2ms/sample - loss: 0.0546 - accuracy: 0.9860 - val_loss: 1.0603 - val_accuracy: 0.6933\n",
      "Epoch 50/80\n",
      "1140/1140 [==============================] - 3s 2ms/sample - loss: 0.0599 - accuracy: 0.9825 - val_loss: 1.1250 - val_accuracy: 0.7267\n",
      "Epoch 51/80\n",
      "1140/1140 [==============================] - 3s 2ms/sample - loss: 0.0758 - accuracy: 0.9746 - val_loss: 1.1036 - val_accuracy: 0.6800\n",
      "Epoch 52/80\n",
      "1140/1140 [==============================] - 3s 2ms/sample - loss: 0.0383 - accuracy: 0.9904 - val_loss: 1.0580 - val_accuracy: 0.6933\n",
      "Epoch 53/80\n",
      "1140/1140 [==============================] - 3s 2ms/sample - loss: 0.0570 - accuracy: 0.9825 - val_loss: 1.1666 - val_accuracy: 0.7067\n",
      "Epoch 54/80\n",
      "1140/1140 [==============================] - 3s 2ms/sample - loss: 0.0589 - accuracy: 0.9851 - val_loss: 1.0940 - val_accuracy: 0.6867\n",
      "Epoch 55/80\n",
      "1140/1140 [==============================] - 3s 2ms/sample - loss: 0.0587 - accuracy: 0.9851 - val_loss: 1.1134 - val_accuracy: 0.7133\n",
      "Epoch 56/80\n",
      "1140/1140 [==============================] - 3s 2ms/sample - loss: 0.0525 - accuracy: 0.9833 - val_loss: 1.1184 - val_accuracy: 0.7000\n",
      "Epoch 57/80\n",
      "1140/1140 [==============================] - 3s 2ms/sample - loss: 0.0645 - accuracy: 0.9825 - val_loss: 1.2095 - val_accuracy: 0.6733\n",
      "Epoch 58/80\n",
      "1140/1140 [==============================] - 3s 2ms/sample - loss: 0.0411 - accuracy: 0.9886 - val_loss: 1.2395 - val_accuracy: 0.6533\n",
      "Epoch 59/80\n",
      "1140/1140 [==============================] - 3s 2ms/sample - loss: 0.0527 - accuracy: 0.9851 - val_loss: 1.0823 - val_accuracy: 0.7000\n",
      "Epoch 60/80\n",
      "1140/1140 [==============================] - 3s 2ms/sample - loss: 0.0354 - accuracy: 0.9921 - val_loss: 1.1229 - val_accuracy: 0.7200\n",
      "Epoch 61/80\n",
      "1140/1140 [==============================] - 3s 2ms/sample - loss: 0.0549 - accuracy: 0.9816 - val_loss: 1.0203 - val_accuracy: 0.7400\n",
      "Epoch 62/80\n",
      "1140/1140 [==============================] - 3s 2ms/sample - loss: 0.0505 - accuracy: 0.9860 - val_loss: 1.0652 - val_accuracy: 0.7400\n",
      "Epoch 63/80\n",
      "1140/1140 [==============================] - 3s 2ms/sample - loss: 0.0368 - accuracy: 0.9895 - val_loss: 1.2161 - val_accuracy: 0.6867\n",
      "Epoch 64/80\n",
      "1140/1140 [==============================] - 3s 2ms/sample - loss: 0.0538 - accuracy: 0.9868 - val_loss: 1.3256 - val_accuracy: 0.6600\n",
      "Epoch 65/80\n",
      "1140/1140 [==============================] - 3s 2ms/sample - loss: 0.0466 - accuracy: 0.9860 - val_loss: 1.0048 - val_accuracy: 0.7333\n",
      "Epoch 66/80\n",
      "1140/1140 [==============================] - 3s 2ms/sample - loss: 0.0500 - accuracy: 0.9833 - val_loss: 1.1246 - val_accuracy: 0.7133\n",
      "Epoch 67/80\n",
      "1140/1140 [==============================] - 3s 2ms/sample - loss: 0.0304 - accuracy: 0.9921 - val_loss: 1.4815 - val_accuracy: 0.6400\n",
      "Epoch 68/80\n",
      "1140/1140 [==============================] - 3s 2ms/sample - loss: 0.0491 - accuracy: 0.9842 - val_loss: 1.2427 - val_accuracy: 0.6933\n",
      "Epoch 69/80\n",
      "1140/1140 [==============================] - 3s 2ms/sample - loss: 0.0437 - accuracy: 0.9886 - val_loss: 1.0913 - val_accuracy: 0.7400\n",
      "Epoch 70/80\n",
      "1140/1140 [==============================] - 3s 2ms/sample - loss: 0.0431 - accuracy: 0.9886 - val_loss: 1.2981 - val_accuracy: 0.6600\n",
      "Epoch 71/80\n",
      "1140/1140 [==============================] - 3s 2ms/sample - loss: 0.0418 - accuracy: 0.9904 - val_loss: 1.0995 - val_accuracy: 0.7200\n",
      "Epoch 72/80\n",
      "1140/1140 [==============================] - 3s 2ms/sample - loss: 0.0306 - accuracy: 0.9921 - val_loss: 1.3005 - val_accuracy: 0.6800\n",
      "Epoch 73/80\n",
      "1140/1140 [==============================] - 3s 2ms/sample - loss: 0.0558 - accuracy: 0.9816 - val_loss: 1.1739 - val_accuracy: 0.7200\n",
      "Epoch 74/80\n",
      "1140/1140 [==============================] - 3s 2ms/sample - loss: 0.0267 - accuracy: 0.9947 - val_loss: 1.1149 - val_accuracy: 0.7400\n",
      "Epoch 75/80\n",
      "1140/1140 [==============================] - 3s 2ms/sample - loss: 0.0183 - accuracy: 0.9965 - val_loss: 1.2698 - val_accuracy: 0.7000\n",
      "Epoch 76/80\n",
      "1140/1140 [==============================] - 3s 2ms/sample - loss: 0.0206 - accuracy: 0.9965 - val_loss: 1.2768 - val_accuracy: 0.7067\n",
      "Epoch 77/80\n",
      "1140/1140 [==============================] - 3s 2ms/sample - loss: 0.0351 - accuracy: 0.9877 - val_loss: 1.3711 - val_accuracy: 0.7000\n",
      "Epoch 78/80\n",
      "1140/1140 [==============================] - 3s 2ms/sample - loss: 0.0188 - accuracy: 0.9947 - val_loss: 1.2680 - val_accuracy: 0.7067\n",
      "Epoch 79/80\n",
      "1140/1140 [==============================] - 3s 2ms/sample - loss: 0.0291 - accuracy: 0.9939 - val_loss: 1.6754 - val_accuracy: 0.6400\n",
      "Epoch 80/80\n",
      "1140/1140 [==============================] - 3s 2ms/sample - loss: 0.0210 - accuracy: 0.9956 - val_loss: 1.4004 - val_accuracy: 0.7000\n"
     ]
    }
   ],
   "source": [
    "hist = model.fit(x_train, train_y, epochs=80, batch_size=24,\n",
    "                 validation_data = (x_test[:150], test_y[:150]), callbacks=[earlystop])"
   ]
  },
  {
   "cell_type": "code",
   "execution_count": 20,
   "metadata": {},
   "outputs": [
    {
     "name": "stdout",
     "output_type": "stream",
     "text": [
      "0.6975000016391277\n"
     ]
    }
   ],
   "source": [
    "print(sum(hist.history['val_accuracy'])/len(hist.history['val_accuracy']))"
   ]
  },
  {
   "cell_type": "code",
   "execution_count": 62,
   "metadata": {},
   "outputs": [
    {
     "name": "stdout",
     "output_type": "stream",
     "text": [
      "0.99298245 0.7866667\n"
     ]
    }
   ],
   "source": [
    "print(max(hist.history['accuracy']), max(hist.history['val_accuracy']))"
   ]
  },
  {
   "cell_type": "code",
   "execution_count": 21,
   "metadata": {},
   "outputs": [
    {
     "name": "stdout",
     "output_type": "stream",
     "text": [
      "150/150 [==============================] - 0s 375us/sample - loss: 1.3762 - accuracy: 0.6867\n",
      "[1.376156015396118, 0.68666667]\n"
     ]
    }
   ],
   "source": [
    "evaluate = model.evaluate(x_test[150:], test_y[150:], batch_size=53)\n",
    "print(evaluate)"
   ]
  },
  {
   "cell_type": "code",
   "execution_count": 22,
   "metadata": {},
   "outputs": [
    {
     "data": {
      "image/png": "[encoded data removed]",
      "text/plain": [
       "<Figure size 432x288 with 2 Axes>"
      ]
     },
     "metadata": {
      "needs_background": "light"
     },
     "output_type": "display_data"
    }
   ],
   "source": [
    "fig, axs = plt.subplots(nrows=1, ncols=2, constrained_layout=True)\n",
    "ax = axs[0]\n",
    "ax.plot(hist.history['loss'], label='train')\n",
    "ax.plot(hist.history['val_loss'], label='val')\n",
    "ax.legend()\n",
    "ax.set_ylabel('loss')\n",
    "ax.set_xlabel('epochs')\n",
    "ax = axs[1] \n",
    "ax.plot(hist.history['accuracy'], label='train')\n",
    "ax.plot(hist.history['val_accuracy'], label='val')\n",
    "ax.legend()\n",
    "ax.set_ylabel('accuracy')\n",
    "ax.set_xlabel('epochs')\n",
    "plt.show()"
   ]
  },
  {
   "cell_type": "code",
   "execution_count": null,
   "metadata": {},
   "outputs": [],
   "source": []
  },
  {
   "cell_type": "code",
   "execution_count": null,
   "metadata": {},
   "outputs": [],
   "source": []
  },
  {
   "cell_type": "code",
   "execution_count": null,
   "metadata": {},
   "outputs": [],
   "source": []
  },
  {
   "cell_type": "code",
   "execution_count": null,
   "metadata": {},
   "outputs": [],
   "source": []
  },
  {
   "cell_type": "code",
   "execution_count": null,
   "metadata": {},
   "outputs": [],
   "source": []
  },
  {
   "cell_type": "code",
   "execution_count": null,
   "metadata": {},
   "outputs": [],
   "source": []
  },
  {
   "cell_type": "code",
   "execution_count": null,
   "metadata": {},
   "outputs": [],
   "source": []
  },
  {
   "cell_type": "code",
   "execution_count": null,
   "metadata": {},
   "outputs": [],
   "source": []
  }
 ],
 "metadata": {
  "kernelspec": {
   "display_name": "Python 3",
   "language": "python",
   "name": "python3"
  },
  "language_info": {
   "codemirror_mode": {
    "name": "ipython",
    "version": 3
   },
   "file_extension": ".py",
   "mimetype": "text/x-python",
   "name": "python",
   "nbconvert_exporter": "python",
   "pygments_lexer": "ipython3",
   "version": "3.7.7"
  }
 },
 "nbformat": 4,
 "nbformat_minor": 4
}
