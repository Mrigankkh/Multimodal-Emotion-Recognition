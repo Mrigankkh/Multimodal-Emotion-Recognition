{
 "cells": [
  {
   "cell_type": "code",
   "execution_count": 1,
   "metadata": {},
   "outputs": [
    {
     "name": "stderr",
     "output_type": "stream",
     "text": [
      "Using TensorFlow backend.\n"
     ]
    },
    {
     "name": "stdout",
     "output_type": "stream",
     "text": [
      "1142\n"
     ]
    },
    {
     "data": {
      "text/plain": [
       "'test_y = to_categorical(test_y)\\ntrain_y = to_categorical(train_y)\\n'"
      ]
     },
     "execution_count": 1,
     "metadata": {},
     "output_type": "execute_result"
    }
   ],
   "source": [
    "import pandas as pd\n",
    "import os \n",
    "import numpy as np\n",
    "import tensorflow as tf\n",
    "from tensorflow.keras.models import Sequential\n",
    "from tensorflow.keras.layers import Dense, Dropout, GRU\n",
    "from sklearn.model_selection import train_test_split\n",
    "import matplotlib.pyplot as plt\n",
    "from tensorflow.keras.layers import BatchNormalization\n",
    "from sklearn.preprocessing import OneHotEncoder\n",
    "from keras.utils import to_categorical\n",
    "from tensorflow import keras\n",
    "\n",
    "def npz_to_dataFrame():\n",
    "    label = 0\n",
    "    df = pd.DataFrame(columns = [\"Name\", \"Label\"])\n",
    "    for file_name in file:\n",
    "        #if file_name[10] == '2':\n",
    "        if file_name[7] == '1' or file_name[7] == '2' or file_name[7] == '3':\n",
    "            label = 0\n",
    "        elif file_name[7] == '5' or file_name[7] == '7':\n",
    "            label = 1\n",
    "        numpy_data = np.array([[file_name,label]])\n",
    "        df2 = pd.DataFrame(data = numpy_data, columns = [\"Name\", \"Label\"])\n",
    "        df = df.append(df2, ignore_index = True)   \n",
    "    return(df)\n",
    "    \n",
    "file = os.listdir(\"/Users/sanjay/Documents/Audio-Embedding/npz-values/\")    \n",
    "df = npz_to_dataFrame()\n",
    "\n",
    "\n",
    "print(len(df))\n",
    "\n",
    "\n",
    "\n",
    "\n",
    "'''test_y = to_categorical(test_y)\n",
    "train_y = to_categorical(train_y)\n",
    "'''\n"
   ]
  },
  {
   "cell_type": "code",
   "execution_count": 2,
   "metadata": {},
   "outputs": [
    {
     "name": "stdout",
     "output_type": "stream",
     "text": [
      "174 .DS_Store\n",
      "861 .ipynb_checkpoints\n"
     ]
    }
   ],
   "source": [
    "for i in range(len(df)):\n",
    "    if df.Name[i][0] != \"0\":\n",
    "        print(i, df.Name[i])\n",
    "        "
   ]
  },
  {
   "cell_type": "code",
   "execution_count": 3,
   "metadata": {},
   "outputs": [],
   "source": [
    "df1 = df.drop([174,861])\n",
    "df = df1"
   ]
  },
  {
   "cell_type": "code",
   "execution_count": 4,
   "metadata": {},
   "outputs": [
    {
     "name": "stdout",
     "output_type": "stream",
     "text": [
      "300\n"
     ]
    }
   ],
   "source": [
    "train_y = df.Label\n",
    "train_y = np.array(train_y)\n",
    "#y = y.reshape(-1, 1)\n",
    "train_x = df.drop('Label', axis = 1)\n",
    "'''enc = OneHotEncoder()\n",
    "y = enc.fit(y).categories\n",
    "print(y)'''\n",
    "file = os.listdir(\"/Users/sanjay/Documents/Audio-Embedding/test_npz_values/\")    \n",
    "df = npz_to_dataFrame()\n",
    "'''df1 = df.drop([210,1088])\n",
    "df = df1'''\n",
    "print(len(df))\n",
    "test_y = df.Label\n",
    "test_y = np.array(test_y)\n",
    "#y = y.reshape(-1, 1)\n",
    "test_x = df.drop('Label', axis = 1)"
   ]
  },
  {
   "cell_type": "code",
   "execution_count": 5,
   "metadata": {},
   "outputs": [
    {
     "name": "stdout",
     "output_type": "stream",
     "text": [
      "['0' '0' '0' '0' '0' '0' '0' '0' '0' '0' '0' '0' '0' '0' '0' '0' '0' '0'\n",
      " '1' '1' '1' '1' '0' '0' '1' '1' '0' '0' '0' '1' '0' '1' '1' '1' '1' '0'\n",
      " '1' '1' '1' '0' '0' '0' '0' '0' '1' '1' '1' '1' '1' '1' '1' '1' '1' '1'\n",
      " '1' '1' '1' '1' '1' '1' '1' '1' '1' '1' '1' '1' '1' '1' '1' '1' '1' '1'\n",
      " '1' '1' '1' '0' '0' '1' '1' '1' '0' '0' '0' '1' '0' '0' '0' '1' '1' '1'\n",
      " '1' '1' '1' '1' '1' '1' '1' '1' '1' '1' '1' '1' '1' '1' '1' '1' '1' '1'\n",
      " '1' '1' '1' '1' '1' '1' '1' '1' '1' '1' '1' '1' '0' '0' '0' '0' '0' '0'\n",
      " '0' '0' '0' '0' '0' '0' '0' '0' '0' '0' '0' '0' '0' '1' '1' '1' '0' '0'\n",
      " '0' '1' '0' '0' '1' '1' '1' '1' '1' '1' '1' '1' '1' '1' '1' '1' '1' '1'\n",
      " '1' '0' '0' '0' '0' '0' '1' '0' '1' '1' '1' '1' '0' '0' '1' '1' '1' '1'\n",
      " '1' '1' '1' '1' '1' '1' '1' '1' '1' '1' '1' '1' '1' '1' '1' '0' '0' '0'\n",
      " '0' '0' '0' '0' '0' '0' '0' '0' '0' '1' '1' '0' '0' '0' '1' '0' '0' '1'\n",
      " '1' '1' '1' '0' '0' '0' '0' '0' '0' '0' '0' '0' '0' '0' '0' '0' '0' '0'\n",
      " '0' '0' '0' '0' '1' '0' '0' '1' '1' '0' '0' '0' '1' '1' '1' '0' '0' '0'\n",
      " '0' '0' '0' '0' '1' '1' '1' '1' '1' '1' '1' '1' '1' '1' '1' '1' '0' '0'\n",
      " '0' '1' '1' '1' '0' '0' '1' '1' '1' '0' '1' '1' '1' '1' '1' '1' '1' '1'\n",
      " '1' '1' '1' '1' '1' '1' '1' '1' '1' '1' '1' '1']\n"
     ]
    }
   ],
   "source": [
    "print(test_y)"
   ]
  },
  {
   "cell_type": "code",
   "execution_count": 6,
   "metadata": {},
   "outputs": [],
   "source": [
    "def get_train_data(df, max_len):\n",
    "    numpy_array = []\n",
    "    numpy_array_2 = []\n",
    "    zero_array = np.array([0]*512)\n",
    "    for i in range(len(df)):\n",
    "        try:\n",
    "            numpy_array_name = df.iloc[i].Name\n",
    "            numpy_array = np.load(\"/Users/sanjay/Documents/Audio-Embedding/npz-values/\" + numpy_array_name, allow_pickle=True)\n",
    "            numpy_array_1 = numpy_array.f.arr_0\n",
    "            numpy_array_2.append(numpy_array_1)\n",
    "            \n",
    "        except:\n",
    "            print(i)\n",
    "    numpy_array_3 = [[[]]]\n",
    "    for i in range(len(numpy_array_2)):\n",
    "        numpy_array_2[i] = np.transpose(numpy_array_2[i])\n",
    "        if max_len - len(numpy_array_2[i]) != 0:\n",
    "            for j in range((max_len - len(numpy_array_2[i]))):\n",
    "                numpy_array_2[i] = np.append(numpy_array_2[i],[zero_array],axis = 0)\n",
    "        numpy_array_2[i] = np.transpose(numpy_array_2[i])\n",
    "    for i in range(len(numpy_array_2)):\n",
    "        for j in range(len(numpy_array_2[i])):\n",
    "            k = 0\n",
    "            l = 0\n",
    "            while k<=519:\n",
    "                numpy_array_3.append(sum(numpy_array_2[i][j][k:k+10])/10)\n",
    "                k += 10    \n",
    "            numpy_array_3.append(sum(numpy_array_2[i][j][k:k+5])/5)\n",
    "    return np.array(numpy_array_3)\n",
    "    "
   ]
  },
  {
   "cell_type": "code",
   "execution_count": 7,
   "metadata": {},
   "outputs": [],
   "source": [
    "def get_test_data(df, max_len):\n",
    "    numpy_array = []\n",
    "    numpy_array_2 = []\n",
    "    zero_array = np.array([0]*512)\n",
    "    for i in range(len(df)):\n",
    "        try:\n",
    "            numpy_array_name = df.iloc[i].Name\n",
    "            numpy_array = np.load(\"/Users/sanjay/Documents/Audio-Embedding/test_npz_values/\" + numpy_array_name, allow_pickle=True)\n",
    "            numpy_array_1 = numpy_array.f.arr_0\n",
    "            numpy_array_2.append(numpy_array_1)\n",
    "            \n",
    "        except:\n",
    "            print(i)\n",
    "    \n",
    "    numpy_array_3 = [[[]]]\n",
    "    for i in range(len(numpy_array_2)):\n",
    "        numpy_array_2[i] = np.transpose(numpy_array_2[i])\n",
    "        if max_len - len(numpy_array_2[i]) != 0:\n",
    "            for j in range((max_len - len(numpy_array_2[i]))):\n",
    "                numpy_array_2[i] = np.append(numpy_array_2[i],[zero_array],axis = 0)\n",
    "        numpy_array_2[i] = np.transpose(numpy_array_2[i])\n",
    "    for i in range(len(numpy_array_2)):\n",
    "        for j in range(len(numpy_array_2[i])):\n",
    "            k = 0\n",
    "            l = 0\n",
    "            while k<=519:\n",
    "                numpy_array_3.append(sum(numpy_array_2[i][j][k:k+10])/10)\n",
    "                k += 10    \n",
    "            numpy_array_3.append(sum(numpy_array_2[i][j][k:k+5])/5)\n",
    "    return np.array(numpy_array_3)\n",
    "    "
   ]
  },
  {
   "cell_type": "code",
   "execution_count": 8,
   "metadata": {},
   "outputs": [],
   "source": [
    "def get_maxlen(df):\n",
    "    numpy_array = []\n",
    "    numpy_array_2 = []\n",
    "    for i in range(len(df)):\n",
    "            numpy_array_name = df.iloc[i].Name\n",
    "            numpy_array = np.load(\"/Users/sanjay/Documents/Audio-Embedding/npz-values/\" + numpy_array_name, allow_pickle=True)\n",
    "            numpy_array_1 = numpy_array.f.arr_0\n",
    "            numpy_array_2.append(numpy_array_1)\n",
    "    max_len = 0\n",
    "    for i in range(len(numpy_array_2)):\n",
    "        for j in range(len(numpy_array_2[i])):\n",
    "            if len(numpy_array_2[i][j]) > max_len:\n",
    "                max_len = len(numpy_array_2[i][j])\n",
    "    return max_len, numpy_array_2"
   ]
  },
  {
   "cell_type": "code",
   "execution_count": 9,
   "metadata": {},
   "outputs": [
    {
     "name": "stderr",
     "output_type": "stream",
     "text": [
      "/Users/sanjay/anaconda3/lib/python3.7/site-packages/ipykernel_launcher.py:29: VisibleDeprecationWarning: Creating an ndarray from ragged nested sequences (which is a list-or-tuple of lists-or-tuples-or ndarrays with different lengths or shapes) is deprecated. If you meant to do this, you must specify 'dtype=object' when creating the ndarray\n",
      "/Users/sanjay/anaconda3/lib/python3.7/site-packages/ipykernel_launcher.py:30: VisibleDeprecationWarning: Creating an ndarray from ragged nested sequences (which is a list-or-tuple of lists-or-tuples-or ndarrays with different lengths or shapes) is deprecated. If you meant to do this, you must specify 'dtype=object' when creating the ndarray\n"
     ]
    },
    {
     "name": "stdout",
     "output_type": "stream",
     "text": [
      "(300, 53, 512) (1140, 53, 512) (1140,) (300,)\n"
     ]
    }
   ],
   "source": [
    "#max_len , numpy_array_2 = get_maxlen()\n",
    "max_len = 525 #maximum duration of the audio\n",
    "x_train = get_train_data(train_x, max_len)\n",
    "x_train = x_train[1:]\n",
    "x_train = np.array(x_train)\n",
    "x_train= x_train.reshape((1140, 53, 512))\n",
    "\n",
    "x_test = get_test_data(test_x, max_len)\n",
    "x_test = x_test[1:]\n",
    "x_test = np.array(x_test)\n",
    "x_test= x_test.reshape((300, 53, 512))\n",
    "\n",
    "print(x_test.shape, x_train.shape, train_y.shape, test_y.shape)\n",
    "\n"
   ]
  },
  {
   "cell_type": "code",
   "execution_count": 10,
   "metadata": {},
   "outputs": [],
   "source": [
    "x_train = np.asarray(x_train).astype(np.float32)\n",
    "train_y = np.asarray(train_y).astype(np.float32)\n",
    "x_test =  np.asarray(x_test).astype(np.float32)\n",
    "test_y = np.asarray(test_y).astype(np.float32)"
   ]
  },
  {
   "cell_type": "code",
   "execution_count": 11,
   "metadata": {},
   "outputs": [
    {
     "name": "stdout",
     "output_type": "stream",
     "text": [
      "53\n",
      "1140\n"
     ]
    }
   ],
   "source": [
    "n_dim = x_train.shape[1]  \n",
    "n_classes = train_y.shape[0] \n",
    "print(n_dim)\n",
    "print(n_classes)\n",
    "#print(test_x)"
   ]
  },
  {
   "cell_type": "code",
   "execution_count": 12,
   "metadata": {},
   "outputs": [],
   "source": [
    "from keras.callbacks import EarlyStopping, ModelCheckpoint\n",
    "\n",
    "earlystop = EarlyStopping(monitor='val_loss', mode='min', patience=75, restore_best_weights=True)\n",
    "checkpointer = ModelCheckpoint(filepath='/tmp/weights.hdf5', verbose=1, save_best_only=True)\n"
   ]
  },
  {
   "cell_type": "code",
   "execution_count": 13,
   "metadata": {},
   "outputs": [
    {
     "name": "stdout",
     "output_type": "stream",
     "text": [
      "Model: \"sequential\"\n",
      "_________________________________________________________________\n",
      "Layer (type)                 Output Shape              Param #   \n",
      "=================================================================\n",
      "batch_normalization (BatchNo (None, 53, 512)           2048      \n",
      "_________________________________________________________________\n",
      "gru (GRU)                    (None, 53)                90153     \n",
      "_________________________________________________________________\n",
      "dense (Dense)                (None, 53)                2862      \n",
      "_________________________________________________________________\n",
      "dense_1 (Dense)              (None, 40)                2160      \n",
      "_________________________________________________________________\n",
      "dense_2 (Dense)              (None, 26)                1066      \n",
      "_________________________________________________________________\n",
      "dense_3 (Dense)              (None, 13)                351       \n",
      "_________________________________________________________________\n",
      "dense_4 (Dense)              (None, 1)                 14        \n",
      "=================================================================\n",
      "Total params: 98,654\n",
      "Trainable params: 97,630\n",
      "Non-trainable params: 1,024\n",
      "_________________________________________________________________\n",
      "None\n"
     ]
    }
   ],
   "source": [
    "from sklearn.model_selection import GridSearchCV\n",
    "from keras.wrappers.scikit_learn import KerasClassifier\n",
    "from keras.constraints import maxnorm\n",
    "\n",
    "\n",
    "def create_model():  \n",
    "    model = Sequential()\n",
    "    model.add(BatchNormalization(axis=-1, input_shape=(53,512)))\n",
    "    model.add(GRU(n_dim, dropout = 0.1, return_sequences=False, recurrent_dropout = 0.2))\n",
    "#     model.add(GRU(, dropout = 0.1, return_sequences=False, recurrent_dropout = 0.2))\n",
    "    model.add(Dense(53,activation = \"tanh\"))\n",
    "    model.add(Dense(40,activation = \"tanh\"))\n",
    "    model.add(Dense(26,activation = \"sigmoid\"))\n",
    "    model.add(Dense(13,activation = \"sigmoid\"))\n",
    "    model.add(Dense(1, kernel_initializer='uniform', activation='sigmoid'))          \n",
    "    keras.optimizers.Adam(lr=1e-5, decay=1e-6)\n",
    "    model.compile(loss='binary_crossentropy', metrics=['accuracy'])  \n",
    "    return model\n",
    "   \n",
    "  \n",
    "model = create_model()\n",
    "print(model.summary())"
   ]
  },
  {
   "cell_type": "code",
   "execution_count": 14,
   "metadata": {},
   "outputs": [
    {
     "name": "stdout",
     "output_type": "stream",
     "text": [
      "Epoch 1/80\n",
      "72/72 [==============================] - 7s 68ms/step - loss: 0.6858 - accuracy: 0.5635 - val_loss: 0.6674 - val_accuracy: 0.5867\n",
      "Epoch 2/80\n",
      "72/72 [==============================] - 4s 54ms/step - loss: 0.6491 - accuracy: 0.5974 - val_loss: 0.6450 - val_accuracy: 0.7267\n",
      "Epoch 3/80\n",
      "72/72 [==============================] - 4s 54ms/step - loss: 0.6421 - accuracy: 0.6980 - val_loss: 0.6094 - val_accuracy: 0.7533\n",
      "Epoch 4/80\n",
      "72/72 [==============================] - 3s 49ms/step - loss: 0.6023 - accuracy: 0.7339 - val_loss: 0.5988 - val_accuracy: 0.7267\n",
      "Epoch 5/80\n",
      "72/72 [==============================] - 3s 48ms/step - loss: 0.5819 - accuracy: 0.7382 - val_loss: 0.6421 - val_accuracy: 0.6667\n",
      "Epoch 6/80\n",
      "72/72 [==============================] - 3s 48ms/step - loss: 0.5794 - accuracy: 0.7469 - val_loss: 0.5905 - val_accuracy: 0.7267\n",
      "Epoch 7/80\n",
      "72/72 [==============================] - 3s 47ms/step - loss: 0.5552 - accuracy: 0.7564 - val_loss: 0.6743 - val_accuracy: 0.6133\n",
      "Epoch 8/80\n",
      "72/72 [==============================] - 3s 47ms/step - loss: 0.5144 - accuracy: 0.7853 - val_loss: 0.5431 - val_accuracy: 0.7533\n",
      "Epoch 9/80\n",
      "72/72 [==============================] - 4s 49ms/step - loss: 0.5269 - accuracy: 0.7735 - val_loss: 0.6464 - val_accuracy: 0.6667\n",
      "Epoch 10/80\n",
      "72/72 [==============================] - 4s 49ms/step - loss: 0.4757 - accuracy: 0.8135 - val_loss: 0.6705 - val_accuracy: 0.6467\n",
      "Epoch 11/80\n",
      "72/72 [==============================] - 3s 49ms/step - loss: 0.4764 - accuracy: 0.8020 - val_loss: 0.6092 - val_accuracy: 0.7333\n",
      "Epoch 12/80\n",
      "72/72 [==============================] - 4s 49ms/step - loss: 0.4629 - accuracy: 0.8166 - val_loss: 0.6057 - val_accuracy: 0.7000\n",
      "Epoch 13/80\n",
      "72/72 [==============================] - 4s 49ms/step - loss: 0.3934 - accuracy: 0.8607 - val_loss: 0.6488 - val_accuracy: 0.7000\n",
      "Epoch 14/80\n",
      "72/72 [==============================] - 3s 49ms/step - loss: 0.3550 - accuracy: 0.8829 - val_loss: 0.6365 - val_accuracy: 0.7067\n",
      "Epoch 15/80\n",
      "72/72 [==============================] - 3s 49ms/step - loss: 0.3652 - accuracy: 0.8708 - val_loss: 0.7362 - val_accuracy: 0.6467\n",
      "Epoch 16/80\n",
      "72/72 [==============================] - 3s 49ms/step - loss: 0.3514 - accuracy: 0.8667 - val_loss: 0.7625 - val_accuracy: 0.6267\n",
      "Epoch 17/80\n",
      "72/72 [==============================] - 3s 48ms/step - loss: 0.3250 - accuracy: 0.8877 - val_loss: 0.6297 - val_accuracy: 0.7267\n",
      "Epoch 18/80\n",
      "72/72 [==============================] - 4s 49ms/step - loss: 0.3207 - accuracy: 0.8937 - val_loss: 0.6504 - val_accuracy: 0.7000\n",
      "Epoch 19/80\n",
      "72/72 [==============================] - 3s 48ms/step - loss: 0.3037 - accuracy: 0.8880 - val_loss: 0.9262 - val_accuracy: 0.5733\n",
      "Epoch 20/80\n",
      "72/72 [==============================] - 4s 49ms/step - loss: 0.2938 - accuracy: 0.8981 - val_loss: 0.6953 - val_accuracy: 0.6800\n",
      "Epoch 21/80\n",
      "72/72 [==============================] - 4s 49ms/step - loss: 0.2527 - accuracy: 0.9158 - val_loss: 0.7573 - val_accuracy: 0.6400\n",
      "Epoch 22/80\n",
      "72/72 [==============================] - 3s 49ms/step - loss: 0.2375 - accuracy: 0.9181 - val_loss: 0.7503 - val_accuracy: 0.6933\n",
      "Epoch 23/80\n",
      "72/72 [==============================] - 3s 49ms/step - loss: 0.2150 - accuracy: 0.9318 - val_loss: 0.8753 - val_accuracy: 0.6400\n",
      "Epoch 24/80\n",
      "72/72 [==============================] - 3s 49ms/step - loss: 0.2268 - accuracy: 0.9112 - val_loss: 0.8027 - val_accuracy: 0.6933\n",
      "Epoch 25/80\n",
      "72/72 [==============================] - 3s 49ms/step - loss: 0.1919 - accuracy: 0.9404 - val_loss: 0.7655 - val_accuracy: 0.7067\n",
      "Epoch 26/80\n",
      "72/72 [==============================] - 3s 48ms/step - loss: 0.2171 - accuracy: 0.9350 - val_loss: 0.8331 - val_accuracy: 0.7067\n",
      "Epoch 27/80\n",
      "72/72 [==============================] - 3s 48ms/step - loss: 0.1697 - accuracy: 0.9459 - val_loss: 0.7853 - val_accuracy: 0.7067\n",
      "Epoch 28/80\n",
      "72/72 [==============================] - 3s 49ms/step - loss: 0.1768 - accuracy: 0.9397 - val_loss: 0.8623 - val_accuracy: 0.6400\n",
      "Epoch 29/80\n",
      "72/72 [==============================] - 4s 49ms/step - loss: 0.1660 - accuracy: 0.9447 - val_loss: 0.9477 - val_accuracy: 0.6667\n",
      "Epoch 30/80\n",
      "72/72 [==============================] - 4s 52ms/step - loss: 0.1557 - accuracy: 0.9524 - val_loss: 0.9020 - val_accuracy: 0.6667\n",
      "Epoch 31/80\n",
      "72/72 [==============================] - 4s 55ms/step - loss: 0.1372 - accuracy: 0.9608 - val_loss: 0.9951 - val_accuracy: 0.6667\n",
      "Epoch 32/80\n",
      "72/72 [==============================] - 4s 57ms/step - loss: 0.1420 - accuracy: 0.9548 - val_loss: 0.9133 - val_accuracy: 0.6733\n",
      "Epoch 33/80\n",
      "72/72 [==============================] - 4s 57ms/step - loss: 0.1070 - accuracy: 0.9686 - val_loss: 0.9424 - val_accuracy: 0.6733\n",
      "Epoch 34/80\n",
      "72/72 [==============================] - 4s 57ms/step - loss: 0.1139 - accuracy: 0.9634 - val_loss: 0.9894 - val_accuracy: 0.6867\n",
      "Epoch 35/80\n",
      "72/72 [==============================] - 4s 57ms/step - loss: 0.1126 - accuracy: 0.9693 - val_loss: 1.1009 - val_accuracy: 0.6467\n",
      "Epoch 36/80\n",
      "72/72 [==============================] - 4s 56ms/step - loss: 0.0868 - accuracy: 0.9752 - val_loss: 1.0199 - val_accuracy: 0.6533\n",
      "Epoch 37/80\n",
      "72/72 [==============================] - 4s 55ms/step - loss: 0.0949 - accuracy: 0.9765 - val_loss: 1.0570 - val_accuracy: 0.6600\n",
      "Epoch 38/80\n",
      "72/72 [==============================] - 4s 55ms/step - loss: 0.0900 - accuracy: 0.9768 - val_loss: 1.1568 - val_accuracy: 0.6667\n",
      "Epoch 39/80\n",
      "72/72 [==============================] - 4s 55ms/step - loss: 0.0786 - accuracy: 0.9780 - val_loss: 1.0212 - val_accuracy: 0.6800\n",
      "Epoch 40/80\n",
      "72/72 [==============================] - 4s 55ms/step - loss: 0.0660 - accuracy: 0.9837 - val_loss: 1.0765 - val_accuracy: 0.6733\n",
      "Epoch 41/80\n",
      "72/72 [==============================] - 4s 55ms/step - loss: 0.0799 - accuracy: 0.9745 - val_loss: 1.1510 - val_accuracy: 0.6467\n",
      "Epoch 42/80\n",
      "72/72 [==============================] - 4s 55ms/step - loss: 0.0677 - accuracy: 0.9855 - val_loss: 1.0387 - val_accuracy: 0.6800\n",
      "Epoch 43/80\n",
      "72/72 [==============================] - 4s 55ms/step - loss: 0.0957 - accuracy: 0.9728 - val_loss: 0.9378 - val_accuracy: 0.7333\n",
      "Epoch 44/80\n",
      "72/72 [==============================] - 4s 55ms/step - loss: 0.0779 - accuracy: 0.9793 - val_loss: 1.0252 - val_accuracy: 0.7267\n",
      "Epoch 45/80\n",
      "72/72 [==============================] - 4s 55ms/step - loss: 0.1164 - accuracy: 0.9689 - val_loss: 1.0494 - val_accuracy: 0.6933\n",
      "Epoch 46/80\n",
      "72/72 [==============================] - 4s 55ms/step - loss: 0.0818 - accuracy: 0.9746 - val_loss: 1.2241 - val_accuracy: 0.6533\n",
      "Epoch 47/80\n",
      "72/72 [==============================] - 4s 55ms/step - loss: 0.0916 - accuracy: 0.9714 - val_loss: 1.2010 - val_accuracy: 0.6467\n",
      "Epoch 48/80\n",
      "72/72 [==============================] - 4s 55ms/step - loss: 0.0604 - accuracy: 0.9820 - val_loss: 1.1646 - val_accuracy: 0.6667\n",
      "Epoch 49/80\n",
      "72/72 [==============================] - 4s 55ms/step - loss: 0.0834 - accuracy: 0.9763 - val_loss: 1.0915 - val_accuracy: 0.7000\n",
      "Epoch 50/80\n",
      "72/72 [==============================] - 4s 54ms/step - loss: 0.0572 - accuracy: 0.9860 - val_loss: 1.2631 - val_accuracy: 0.6867\n",
      "Epoch 51/80\n",
      "72/72 [==============================] - 4s 53ms/step - loss: 0.0790 - accuracy: 0.9774 - val_loss: 1.0794 - val_accuracy: 0.6867\n",
      "Epoch 52/80\n",
      "72/72 [==============================] - 4s 53ms/step - loss: 0.0539 - accuracy: 0.9866 - val_loss: 1.2331 - val_accuracy: 0.6733\n",
      "Epoch 53/80\n",
      "72/72 [==============================] - 4s 53ms/step - loss: 0.0670 - accuracy: 0.9784 - val_loss: 1.4119 - val_accuracy: 0.6133\n",
      "Epoch 54/80\n",
      "72/72 [==============================] - 4s 56ms/step - loss: 0.0599 - accuracy: 0.9830 - val_loss: 1.3355 - val_accuracy: 0.6400\n",
      "Epoch 55/80\n",
      "72/72 [==============================] - 4s 57ms/step - loss: 0.0572 - accuracy: 0.9864 - val_loss: 1.2382 - val_accuracy: 0.6733\n",
      "Epoch 56/80\n",
      "72/72 [==============================] - 4s 57ms/step - loss: 0.0407 - accuracy: 0.9900 - val_loss: 1.2075 - val_accuracy: 0.6867\n",
      "Epoch 57/80\n",
      "72/72 [==============================] - 4s 57ms/step - loss: 0.0641 - accuracy: 0.9818 - val_loss: 1.1603 - val_accuracy: 0.7000\n",
      "Epoch 58/80\n",
      "72/72 [==============================] - 4s 55ms/step - loss: 0.0527 - accuracy: 0.9781 - val_loss: 1.2507 - val_accuracy: 0.6533\n"
     ]
    },
    {
     "name": "stdout",
     "output_type": "stream",
     "text": [
      "Epoch 59/80\n",
      "72/72 [==============================] - 4s 55ms/step - loss: 0.0487 - accuracy: 0.9873 - val_loss: 1.5297 - val_accuracy: 0.6333\n",
      "Epoch 60/80\n",
      "72/72 [==============================] - 4s 54ms/step - loss: 0.0538 - accuracy: 0.9820 - val_loss: 1.1133 - val_accuracy: 0.7000\n",
      "Epoch 61/80\n",
      "72/72 [==============================] - 4s 55ms/step - loss: 0.0273 - accuracy: 0.9924 - val_loss: 1.4986 - val_accuracy: 0.6533\n",
      "Epoch 62/80\n",
      "72/72 [==============================] - 4s 55ms/step - loss: 0.0134 - accuracy: 0.9977 - val_loss: 1.3578 - val_accuracy: 0.6933\n",
      "Epoch 63/80\n",
      "72/72 [==============================] - 4s 55ms/step - loss: 0.0314 - accuracy: 0.9888 - val_loss: 1.3994 - val_accuracy: 0.6800\n",
      "Epoch 64/80\n",
      "72/72 [==============================] - 4s 55ms/step - loss: 0.0439 - accuracy: 0.9860 - val_loss: 1.3254 - val_accuracy: 0.7000\n",
      "Epoch 65/80\n",
      "72/72 [==============================] - 4s 55ms/step - loss: 0.0552 - accuracy: 0.9830 - val_loss: 1.3782 - val_accuracy: 0.7133\n",
      "Epoch 66/80\n",
      "72/72 [==============================] - 4s 55ms/step - loss: 0.0457 - accuracy: 0.9856 - val_loss: 1.4165 - val_accuracy: 0.6867\n",
      "Epoch 67/80\n",
      "72/72 [==============================] - 4s 56ms/step - loss: 0.0694 - accuracy: 0.9745 - val_loss: 1.5079 - val_accuracy: 0.6533\n",
      "Epoch 68/80\n",
      "72/72 [==============================] - 4s 57ms/step - loss: 0.0211 - accuracy: 0.9923 - val_loss: 1.4670 - val_accuracy: 0.6667\n",
      "Epoch 69/80\n",
      "72/72 [==============================] - 4s 57ms/step - loss: 0.0280 - accuracy: 0.9911 - val_loss: 1.6889 - val_accuracy: 0.6267\n",
      "Epoch 70/80\n",
      "72/72 [==============================] - 4s 57ms/step - loss: 0.0267 - accuracy: 0.9882 - val_loss: 1.6689 - val_accuracy: 0.5933\n",
      "Epoch 71/80\n",
      "72/72 [==============================] - 4s 56ms/step - loss: 0.0211 - accuracy: 0.9942 - val_loss: 1.6594 - val_accuracy: 0.6600\n",
      "Epoch 72/80\n",
      "72/72 [==============================] - 4s 54ms/step - loss: 0.0338 - accuracy: 0.9869 - val_loss: 1.4770 - val_accuracy: 0.6733\n",
      "Epoch 73/80\n",
      "72/72 [==============================] - 4s 55ms/step - loss: 0.0284 - accuracy: 0.9919 - val_loss: 1.4626 - val_accuracy: 0.6533\n",
      "Epoch 74/80\n",
      "72/72 [==============================] - 4s 55ms/step - loss: 0.0168 - accuracy: 0.9977 - val_loss: 1.3683 - val_accuracy: 0.6933\n",
      "Epoch 75/80\n",
      "72/72 [==============================] - 4s 55ms/step - loss: 0.0224 - accuracy: 0.9937 - val_loss: 1.3314 - val_accuracy: 0.7200\n",
      "Epoch 76/80\n",
      "72/72 [==============================] - 4s 59ms/step - loss: 0.0205 - accuracy: 0.9925 - val_loss: 1.5480 - val_accuracy: 0.6600\n",
      "Epoch 77/80\n",
      "72/72 [==============================] - 4s 59ms/step - loss: 0.0285 - accuracy: 0.9945 - val_loss: 1.4992 - val_accuracy: 0.6867\n",
      "Epoch 78/80\n",
      "72/72 [==============================] - 4s 62ms/step - loss: 0.0245 - accuracy: 0.9921 - val_loss: 1.5013 - val_accuracy: 0.7000\n",
      "Epoch 79/80\n",
      "72/72 [==============================] - 4s 62ms/step - loss: 0.0244 - accuracy: 0.9932 - val_loss: 1.6192 - val_accuracy: 0.6533\n",
      "Epoch 80/80\n",
      "72/72 [==============================] - 4s 60ms/step - loss: 0.0367 - accuracy: 0.9851 - val_loss: 1.7475 - val_accuracy: 0.6133\n"
     ]
    }
   ],
   "source": [
    "hist = model.fit(x_train, train_y, epochs=80, batch_size=16,\n",
    "                 validation_data = (x_test[:150], test_y[:150]), callbacks=[earlystop])"
   ]
  },
  {
   "cell_type": "code",
   "execution_count": 15,
   "metadata": {},
   "outputs": [
    {
     "name": "stdout",
     "output_type": "stream",
     "text": [
      "0.674666665494442\n"
     ]
    }
   ],
   "source": [
    "print(sum(hist.history['val_accuracy'])/len(hist.history['val_accuracy']))"
   ]
  },
  {
   "cell_type": "code",
   "execution_count": 16,
   "metadata": {},
   "outputs": [
    {
     "name": "stdout",
     "output_type": "stream",
     "text": [
      "0.9947368502616882 0.753333330154419\n"
     ]
    }
   ],
   "source": [
    "print(max(hist.history['accuracy']), max(hist.history['val_accuracy']))"
   ]
  },
  {
   "cell_type": "code",
   "execution_count": 17,
   "metadata": {},
   "outputs": [
    {
     "name": "stdout",
     "output_type": "stream",
     "text": [
      "[0.5866666436195374, 0.7266666889190674, 0.753333330154419, 0.7266666889190674, 0.6666666865348816, 0.7266666889190674, 0.6133333444595337, 0.753333330154419, 0.6666666865348816, 0.6466666460037231, 0.7333333492279053, 0.699999988079071, 0.699999988079071, 0.7066666483879089, 0.6466666460037231, 0.6266666650772095, 0.7266666889190674, 0.699999988079071, 0.5733333230018616, 0.6800000071525574, 0.6399999856948853, 0.6933333277702332, 0.6399999856948853, 0.6933333277702332, 0.7066666483879089, 0.7066666483879089, 0.7066666483879089, 0.6399999856948853, 0.6666666865348816, 0.6666666865348816, 0.6666666865348816, 0.6733333468437195, 0.6733333468437195, 0.6866666674613953, 0.6466666460037231, 0.653333306312561, 0.6600000262260437, 0.6666666865348816, 0.6800000071525574, 0.6733333468437195, 0.6466666460037231, 0.6800000071525574, 0.7333333492279053, 0.7266666889190674, 0.6933333277702332, 0.653333306312561, 0.6466666460037231, 0.6666666865348816, 0.699999988079071, 0.6866666674613953, 0.6866666674613953, 0.6733333468437195, 0.6133333444595337, 0.6399999856948853, 0.6733333468437195, 0.6866666674613953, 0.699999988079071, 0.653333306312561, 0.6333333253860474, 0.699999988079071, 0.653333306312561, 0.6933333277702332, 0.6800000071525574, 0.699999988079071, 0.7133333086967468, 0.6866666674613953, 0.653333306312561, 0.6666666865348816, 0.6266666650772095, 0.5933333039283752, 0.6600000262260437, 0.6733333468437195, 0.653333306312561, 0.6933333277702332, 0.7200000286102295, 0.6600000262260437, 0.6866666674613953, 0.699999988079071, 0.653333306312561, 0.6133333444595337]\n"
     ]
    }
   ],
   "source": [
    "print(hist.history['val_accuracy'])"
   ]
  },
  {
   "cell_type": "code",
   "execution_count": null,
   "metadata": {},
   "outputs": [],
   "source": []
  },
  {
   "cell_type": "code",
   "execution_count": null,
   "metadata": {},
   "outputs": [],
   "source": []
  },
  {
   "cell_type": "code",
   "execution_count": 18,
   "metadata": {},
   "outputs": [
    {
     "name": "stdout",
     "output_type": "stream",
     "text": [
      "3/3 [==============================] - 0s 18ms/step - loss: 1.5879 - accuracy: 0.6733\n",
      "[1.587916612625122, 0.6733333468437195]\n"
     ]
    }
   ],
   "source": [
    "evaluate = model.evaluate(x_test[150:], test_y[150:], batch_size=53)\n",
    "print(evaluate)"
   ]
  },
  {
   "cell_type": "code",
   "execution_count": 19,
   "metadata": {},
   "outputs": [
    {
     "name": "stdout",
     "output_type": "stream",
     "text": [
      "[1.587916612625122, 0.6733333468437195]\n"
     ]
    }
   ],
   "source": [
    "print(evaluate)"
   ]
  },
  {
   "cell_type": "code",
   "execution_count": 20,
   "metadata": {},
   "outputs": [
    {
     "data": {
      "image/png": "[encoded data removed]",
      "text/plain": [
       "<Figure size 432x288 with 2 Axes>"
      ]
     },
     "metadata": {
      "needs_background": "light"
     },
     "output_type": "display_data"
    }
   ],
   "source": [
    "fig, axs = plt.subplots(nrows=1, ncols=2, constrained_layout=True)\n",
    "ax = axs[0]\n",
    "ax.plot(hist.history['loss'], label='train')\n",
    "ax.plot(hist.history['val_loss'], label='val')\n",
    "ax.legend()\n",
    "ax.set_ylabel('loss')\n",
    "ax.set_xlabel('epochs')\n",
    "ax = axs[1] \n",
    "ax.plot(hist.history['accuracy'], label='train')\n",
    "ax.plot(hist.history['val_accuracy'], label='val')\n",
    "ax.legend()\n",
    "ax.set_ylabel('accuracy')\n",
    "ax.set_xlabel('epochs')\n",
    "plt.show()"
   ]
  },
  {
   "cell_type": "code",
   "execution_count": 21,
   "metadata": {},
   "outputs": [
    {
     "name": "stdout",
     "output_type": "stream",
     "text": [
      "INFO:tensorflow:Assets written to: GRU_2_trained/assets\n"
     ]
    }
   ],
   "source": [
    "model.save(\"GRU_2_trained\")\n"
   ]
  },
  {
   "cell_type": "code",
   "execution_count": 22,
   "metadata": {},
   "outputs": [],
   "source": [
    "def get_categorical_test_data(label1, label2, df,max_len):\n",
    "    count = 0\n",
    "    numpy_array = []\n",
    "    numpy_array_2 = []\n",
    "    cat_labels = []\n",
    "    zero_array = np.array([0]*512)\n",
    "    for i in range(len(df)):\n",
    "        if(df.Name[i][7] ==label1 or df.Name[i][7] ==label2):\n",
    "            if df.Name[i][7] ==label1:\n",
    "                cat_labels.append(0)\n",
    "            else:\n",
    "                cat_labels.append(1)\n",
    "            count += 1\n",
    "            try:\n",
    "                numpy_array_name = df.iloc[i].Name\n",
    "                numpy_array = np.load(\"/Users/sanjay/Documents/Audio-Embedding/test_npz_values/\" + numpy_array_name, allow_pickle=True)\n",
    "                numpy_array_1 = numpy_array.f.arr_0\n",
    "                numpy_array_2.append(numpy_array_1)\n",
    "\n",
    "            except:\n",
    "                print(i)\n",
    "    \n",
    "    numpy_array_3 = [[[]]]\n",
    "    for i in range(len(numpy_array_2)):\n",
    "        numpy_array_2[i] = np.transpose(numpy_array_2[i])\n",
    "        if max_len - len(numpy_array_2[i]) != 0:\n",
    "            for j in range((max_len - len(numpy_array_2[i]))):\n",
    "                numpy_array_2[i] = np.append(numpy_array_2[i],[zero_array],axis = 0)\n",
    "        numpy_array_2[i] = np.transpose(numpy_array_2[i])\n",
    "    for i in range(len(numpy_array_2)):\n",
    "        for j in range(len(numpy_array_2[i])):\n",
    "            k = 0\n",
    "            l = 0\n",
    "            while k<=519:\n",
    "                numpy_array_3.append(sum(numpy_array_2[i][j][k:k+10])/10)\n",
    "                k += 10    \n",
    "            numpy_array_3.append(sum(numpy_array_2[i][j][k:k+5])/5)\n",
    "    return np.array(numpy_array_3), count, cat_labels"
   ]
  },
  {
   "cell_type": "code",
   "execution_count": 23,
   "metadata": {},
   "outputs": [
    {
     "name": "stderr",
     "output_type": "stream",
     "text": [
      "/Users/sanjay/anaconda3/lib/python3.7/site-packages/ipykernel_launcher.py:38: VisibleDeprecationWarning: Creating an ndarray from ragged nested sequences (which is a list-or-tuple of lists-or-tuples-or ndarrays with different lengths or shapes) is deprecated. If you meant to do this, you must specify 'dtype=object' when creating the ndarray\n"
     ]
    }
   ],
   "source": [
    "neutral_calm_test_x, count, neutral_calm_test_y = get_categorical_test_data('1','2',df, max_len)"
   ]
  },
  {
   "cell_type": "code",
   "execution_count": 24,
   "metadata": {},
   "outputs": [
    {
     "name": "stdout",
     "output_type": "stream",
     "text": [
      "(1628161,)\n"
     ]
    }
   ],
   "source": [
    "print(neutral_calm_test_x.shape)"
   ]
  },
  {
   "cell_type": "code",
   "execution_count": 25,
   "metadata": {},
   "outputs": [],
   "source": [
    "neutral_calm_test_x = neutral_calm_test_x[1:]\n",
    "neutral_calm_test_x = np.array(neutral_calm_test_x)\n",
    "neutral_calm_test_x= neutral_calm_test_x.reshape((count, 53, 512))\n"
   ]
  },
  {
   "cell_type": "code",
   "execution_count": 26,
   "metadata": {},
   "outputs": [
    {
     "name": "stdout",
     "output_type": "stream",
     "text": [
      "(60, 53, 512) 60\n"
     ]
    }
   ],
   "source": [
    "print(neutral_calm_test_x.shape, len(neutral_calm_test_y))"
   ]
  },
  {
   "cell_type": "code",
   "execution_count": 27,
   "metadata": {},
   "outputs": [],
   "source": [
    "neutral_calm_test_x =  np.asarray(neutral_calm_test_x).astype(np.float32)\n",
    "neutral_calm_test_y = np.asarray(neutral_calm_test_y).astype(np.float32)"
   ]
  },
  {
   "cell_type": "code",
   "execution_count": 28,
   "metadata": {},
   "outputs": [],
   "source": [
    "preds_neutral_calm = model.predict(neutral_calm_test_x)\n",
    "preds_neutral_calm = [np.round(x) for x in preds_neutral_calm]\n",
    "preds_neutral_calm = np.asarray(preds_neutral_calm).astype(int)\n"
   ]
  },
  {
   "cell_type": "code",
   "execution_count": 29,
   "metadata": {},
   "outputs": [],
   "source": [
    "from sklearn.metrics import classification_report"
   ]
  },
  {
   "cell_type": "code",
   "execution_count": null,
   "metadata": {},
   "outputs": [],
   "source": []
  },
  {
   "cell_type": "code",
   "execution_count": 30,
   "metadata": {},
   "outputs": [
    {
     "name": "stdout",
     "output_type": "stream",
     "text": [
      "              precision    recall  f1-score   support\n",
      "\n",
      "         0.0       0.34      1.00      0.51        20\n",
      "         1.0       1.00      0.03      0.05        40\n",
      "\n",
      "    accuracy                           0.35        60\n",
      "   macro avg       0.67      0.51      0.28        60\n",
      "weighted avg       0.78      0.35      0.20        60\n",
      "\n"
     ]
    }
   ],
   "source": [
    "print(classification_report(neutral_calm_test_y, preds_neutral_calm))"
   ]
  },
  {
   "cell_type": "code",
   "execution_count": 31,
   "metadata": {},
   "outputs": [
    {
     "name": "stderr",
     "output_type": "stream",
     "text": [
      "/Users/sanjay/anaconda3/lib/python3.7/site-packages/ipykernel_launcher.py:38: VisibleDeprecationWarning: Creating an ndarray from ragged nested sequences (which is a list-or-tuple of lists-or-tuples-or ndarrays with different lengths or shapes) is deprecated. If you meant to do this, you must specify 'dtype=object' when creating the ndarray\n"
     ]
    }
   ],
   "source": [
    "happy_sad_test_x, count, happy_sad_test_y = get_categorical_test_data('3','4',df, max_len)\n",
    "happy_sad_test_x = happy_sad_test_x[1:]\n",
    "happy_sad_test_x = np.array(happy_sad_test_x)\n",
    "happy_sad_test_x= happy_sad_test_x.reshape((count, 53, 512))\n",
    "happy_sad_test_x =  np.asarray(happy_sad_test_x).astype(np.float32)\n",
    "happy_sad_test_y = np.asarray(happy_sad_test_y).astype(np.float32)\n",
    "preds_happy_sad = model.predict(happy_sad_test_x)\n",
    "preds_happy_sad = [np.round(x) for x in preds_happy_sad]\n"
   ]
  },
  {
   "cell_type": "code",
   "execution_count": 32,
   "metadata": {},
   "outputs": [
    {
     "name": "stdout",
     "output_type": "stream",
     "text": [
      "              precision    recall  f1-score   support\n",
      "\n",
      "         0.0       0.53      0.72      0.61        40\n",
      "         1.0       0.56      0.35      0.43        40\n",
      "\n",
      "    accuracy                           0.54        80\n",
      "   macro avg       0.54      0.54      0.52        80\n",
      "weighted avg       0.54      0.54      0.52        80\n",
      "\n"
     ]
    }
   ],
   "source": [
    "preds_happy_sad = np.asarray(preds_happy_sad).astype(int)\n",
    "print(classification_report(happy_sad_test_y, preds_happy_sad))"
   ]
  },
  {
   "cell_type": "code",
   "execution_count": 33,
   "metadata": {},
   "outputs": [
    {
     "name": "stderr",
     "output_type": "stream",
     "text": [
      "/Users/sanjay/anaconda3/lib/python3.7/site-packages/ipykernel_launcher.py:38: VisibleDeprecationWarning: Creating an ndarray from ragged nested sequences (which is a list-or-tuple of lists-or-tuples-or ndarrays with different lengths or shapes) is deprecated. If you meant to do this, you must specify 'dtype=object' when creating the ndarray\n"
     ]
    }
   ],
   "source": [
    "anger_fear_test_x, count, anger_fear_test_y = get_categorical_test_data('5','6',df, max_len)\n",
    "anger_fear_test_x = anger_fear_test_x[1:]\n",
    "anger_fear_test_x = np.array(anger_fear_test_x)\n",
    "anger_fear_test_x= anger_fear_test_x.reshape((count, 53, 512))\n",
    "anger_fear_test_x =  np.asarray(anger_fear_test_x).astype(np.float32)\n",
    "anger_fear_test_y = np.asarray(anger_fear_test_y).astype(np.float32)\n",
    "preds_anger_fear = model.predict(anger_fear_test_x)\n",
    "preds_anger_fear = [np.round(x) for x in preds_anger_fear]"
   ]
  },
  {
   "cell_type": "code",
   "execution_count": 34,
   "metadata": {},
   "outputs": [
    {
     "name": "stdout",
     "output_type": "stream",
     "text": [
      "              precision    recall  f1-score   support\n",
      "\n",
      "         0.0       0.43      0.33      0.37        40\n",
      "         1.0       0.46      0.57      0.51        40\n",
      "\n",
      "    accuracy                           0.45        80\n",
      "   macro avg       0.45      0.45      0.44        80\n",
      "weighted avg       0.45      0.45      0.44        80\n",
      "\n"
     ]
    }
   ],
   "source": [
    "preds_anger_fear = np.asarray(preds_anger_fear).astype(int)\n",
    "print(classification_report(anger_fear_test_y, preds_anger_fear))"
   ]
  },
  {
   "cell_type": "code",
   "execution_count": 35,
   "metadata": {},
   "outputs": [
    {
     "name": "stderr",
     "output_type": "stream",
     "text": [
      "/Users/sanjay/anaconda3/lib/python3.7/site-packages/ipykernel_launcher.py:38: VisibleDeprecationWarning: Creating an ndarray from ragged nested sequences (which is a list-or-tuple of lists-or-tuples-or ndarrays with different lengths or shapes) is deprecated. If you meant to do this, you must specify 'dtype=object' when creating the ndarray\n"
     ]
    },
    {
     "name": "stdout",
     "output_type": "stream",
     "text": [
      "              precision    recall  f1-score   support\n",
      "\n",
      "         0.0       0.52      0.35      0.42        40\n",
      "         1.0       0.51      0.68      0.58        40\n",
      "\n",
      "    accuracy                           0.51        80\n",
      "   macro avg       0.51      0.51      0.50        80\n",
      "weighted avg       0.51      0.51      0.50        80\n",
      "\n"
     ]
    }
   ],
   "source": [
    "dis_surp_test_x, count, dis_surp_test_y = get_categorical_test_data('7','8',df, max_len)\n",
    "dis_surp_test_x = dis_surp_test_x[1:]\n",
    "dis_surp_test_x = np.array(dis_surp_test_x)\n",
    "dis_surp_test_x= dis_surp_test_x.reshape((count, 53, 512))\n",
    "dis_surp_test_x =  np.asarray(dis_surp_test_x).astype(np.float32)\n",
    "dis_surp_test_y = np.asarray(dis_surp_test_y).astype(np.float32)\n",
    "preds_dis_surp = model.predict(dis_surp_test_x)\n",
    "preds_dis_surp = [np.round(x) for x in preds_dis_surp]\n",
    "preds_dis_surp = np.asarray(preds_dis_surp).astype(int)\n",
    "print(classification_report(dis_surp_test_y, preds_dis_surp))"
   ]
  },
  {
   "cell_type": "code",
   "execution_count": null,
   "metadata": {},
   "outputs": [],
   "source": []
  }
 ],
 "metadata": {
  "kernelspec": {
   "display_name": "Python 3",
   "language": "python",
   "name": "python3"
  },
  "language_info": {
   "codemirror_mode": {
    "name": "ipython",
    "version": 3
   },
   "file_extension": ".py",
   "mimetype": "text/x-python",
   "name": "python",
   "nbconvert_exporter": "python",
   "pygments_lexer": "ipython3",
   "version": "3.7.7"
  }
 },
 "nbformat": 4,
 "nbformat_minor": 4
}
