{
 "cells": [
  {
   "cell_type": "code",
   "execution_count": 1,
   "metadata": {},
   "outputs": [
    {
     "name": "stderr",
     "output_type": "stream",
     "text": [
      "Using TensorFlow backend.\n"
     ]
    },
    {
     "name": "stdout",
     "output_type": "stream",
     "text": [
      "1142\n"
     ]
    },
    {
     "data": {
      "text/plain": [
       "'test_y = to_categorical(test_y)\\ntrain_y = to_categorical(train_y)\\n'"
      ]
     },
     "execution_count": 1,
     "metadata": {},
     "output_type": "execute_result"
    }
   ],
   "source": [
    "import pandas as pd\n",
    "import os \n",
    "import numpy as np\n",
    "import tensorflow as tf\n",
    "from tensorflow.keras.models import Sequential\n",
    "from tensorflow.keras.layers import Dense, Dropout, GRU\n",
    "from sklearn.model_selection import train_test_split\n",
    "import matplotlib.pyplot as plt\n",
    "from tensorflow.keras.layers import BatchNormalization\n",
    "from sklearn.preprocessing import OneHotEncoder\n",
    "from keras.utils import to_categorical\n",
    "from tensorflow import keras\n",
    "\n",
    "def npz_to_dataFrame():\n",
    "    label = 0\n",
    "    df = pd.DataFrame(columns = [\"Name\", \"Label\"])\n",
    "    for file_name in file:\n",
    "        #if file_name[10] == '2':\n",
    "        if file_name[7] == '1' or file_name[7] == '2' or file_name[7] == '3':\n",
    "            label = 0\n",
    "        elif file_name[7] == '5' or file_name[7] == '7':\n",
    "            label = 1\n",
    "        numpy_data = np.array([[file_name,label]])\n",
    "        df2 = pd.DataFrame(data = numpy_data, columns = [\"Name\", \"Label\"])\n",
    "        df = df.append(df2, ignore_index = True)   \n",
    "    return(df)\n",
    "    \n",
    "file = os.listdir(\"/Users/sanjay/Documents/Audio-Embedding/npz-values/\")    \n",
    "df = npz_to_dataFrame()\n",
    "\n",
    "\n",
    "print(len(df))\n",
    "\n",
    "\n",
    "\n",
    "\n",
    "'''test_y = to_categorical(test_y)\n",
    "train_y = to_categorical(train_y)\n",
    "'''\n"
   ]
  },
  {
   "cell_type": "code",
   "execution_count": 2,
   "metadata": {},
   "outputs": [
    {
     "name": "stdout",
     "output_type": "stream",
     "text": [
      "174 .DS_Store\n",
      "861 .ipynb_checkpoints\n"
     ]
    }
   ],
   "source": [
    "for i in range(len(df)):\n",
    "    if df.Name[i][0] != \"0\":\n",
    "        print(i, df.Name[i])\n",
    "        "
   ]
  },
  {
   "cell_type": "code",
   "execution_count": 3,
   "metadata": {},
   "outputs": [],
   "source": [
    "df1 = df.drop([174,861])\n",
    "df = df1"
   ]
  },
  {
   "cell_type": "code",
   "execution_count": 4,
   "metadata": {},
   "outputs": [
    {
     "name": "stdout",
     "output_type": "stream",
     "text": [
      "300\n"
     ]
    }
   ],
   "source": [
    "train_y = df.Label\n",
    "train_y = np.array(train_y)\n",
    "#y = y.reshape(-1, 1)\n",
    "train_x = df.drop('Label', axis = 1)\n",
    "'''enc = OneHotEncoder()\n",
    "y = enc.fit(y).categories\n",
    "print(y)'''\n",
    "file = os.listdir(\"/Users/sanjay/Documents/Audio-Embedding/test_npz_values/\")    \n",
    "df = npz_to_dataFrame()\n",
    "'''df1 = df.drop([210,1088])\n",
    "df = df1'''\n",
    "print(len(df))\n",
    "test_y = df.Label\n",
    "test_y = np.array(test_y)\n",
    "#y = y.reshape(-1, 1)\n",
    "test_x = df.drop('Label', axis = 1)"
   ]
  },
  {
   "cell_type": "code",
   "execution_count": 5,
   "metadata": {},
   "outputs": [
    {
     "name": "stdout",
     "output_type": "stream",
     "text": [
      "['0' '0' '0' '0' '0' '0' '0' '0' '0' '0' '0' '0' '0' '0' '0' '0' '0' '0'\n",
      " '1' '1' '1' '1' '0' '0' '1' '1' '0' '0' '0' '1' '0' '1' '1' '1' '1' '0'\n",
      " '1' '1' '1' '0' '0' '0' '0' '0' '1' '1' '1' '1' '1' '1' '1' '1' '1' '1'\n",
      " '1' '1' '1' '1' '1' '1' '1' '1' '1' '1' '1' '1' '1' '1' '1' '1' '1' '1'\n",
      " '1' '1' '1' '0' '0' '1' '1' '1' '0' '0' '0' '1' '0' '0' '0' '1' '1' '1'\n",
      " '1' '1' '1' '1' '1' '1' '1' '1' '1' '1' '1' '1' '1' '1' '1' '1' '1' '1'\n",
      " '1' '1' '1' '1' '1' '1' '1' '1' '1' '1' '1' '1' '0' '0' '0' '0' '0' '0'\n",
      " '0' '0' '0' '0' '0' '0' '0' '0' '0' '0' '0' '0' '0' '1' '1' '1' '0' '0'\n",
      " '0' '1' '0' '0' '1' '1' '1' '1' '1' '1' '1' '1' '1' '1' '1' '1' '1' '1'\n",
      " '1' '0' '0' '0' '0' '0' '1' '0' '1' '1' '1' '1' '0' '0' '1' '1' '1' '1'\n",
      " '1' '1' '1' '1' '1' '1' '1' '1' '1' '1' '1' '1' '1' '1' '1' '0' '0' '0'\n",
      " '0' '0' '0' '0' '0' '0' '0' '0' '0' '1' '1' '0' '0' '0' '1' '0' '0' '1'\n",
      " '1' '1' '1' '0' '0' '0' '0' '0' '0' '0' '0' '0' '0' '0' '0' '0' '0' '0'\n",
      " '0' '0' '0' '0' '1' '0' '0' '1' '1' '0' '0' '0' '1' '1' '1' '0' '0' '0'\n",
      " '0' '0' '0' '0' '1' '1' '1' '1' '1' '1' '1' '1' '1' '1' '1' '1' '0' '0'\n",
      " '0' '1' '1' '1' '0' '0' '1' '1' '1' '0' '1' '1' '1' '1' '1' '1' '1' '1'\n",
      " '1' '1' '1' '1' '1' '1' '1' '1' '1' '1' '1' '1']\n"
     ]
    }
   ],
   "source": [
    "print(test_y)"
   ]
  },
  {
   "cell_type": "code",
   "execution_count": 6,
   "metadata": {},
   "outputs": [],
   "source": [
    "def get_train_data(df, max_len):\n",
    "    numpy_array = []\n",
    "    numpy_array_2 = []\n",
    "    zero_array = np.array([0]*512)\n",
    "    for i in range(len(df)):\n",
    "        try:\n",
    "            numpy_array_name = df.iloc[i].Name\n",
    "            numpy_array = np.load(\"/Users/sanjay/Documents/Audio-Embedding/npz-values/\" + numpy_array_name, allow_pickle=True)\n",
    "            numpy_array_1 = numpy_array.f.arr_0\n",
    "            numpy_array_2.append(numpy_array_1)\n",
    "            \n",
    "        except:\n",
    "            print(i)\n",
    "    numpy_array_3 = [[[]]]\n",
    "    for i in range(len(numpy_array_2)):\n",
    "        numpy_array_2[i] = np.transpose(numpy_array_2[i])\n",
    "        if max_len - len(numpy_array_2[i]) != 0:\n",
    "            for j in range((max_len - len(numpy_array_2[i]))):\n",
    "                numpy_array_2[i] = np.append(numpy_array_2[i],[zero_array],axis = 0)\n",
    "        numpy_array_2[i] = np.transpose(numpy_array_2[i])\n",
    "    for i in range(len(numpy_array_2)):\n",
    "        for j in range(len(numpy_array_2[i])):\n",
    "            k = 0\n",
    "            l = 0\n",
    "            while k<=519:\n",
    "                numpy_array_3.append(sum(numpy_array_2[i][j][k:k+10])/10)\n",
    "                k += 10    \n",
    "            numpy_array_3.append(sum(numpy_array_2[i][j][k:k+5])/5)\n",
    "    return np.array(numpy_array_3)\n",
    "    "
   ]
  },
  {
   "cell_type": "code",
   "execution_count": 7,
   "metadata": {},
   "outputs": [],
   "source": [
    "def get_test_data(df, max_len):\n",
    "    numpy_array = []\n",
    "    numpy_array_2 = []\n",
    "    zero_array = np.array([0]*512)\n",
    "    for i in range(len(df)):\n",
    "        try:\n",
    "            numpy_array_name = df.iloc[i].Name\n",
    "            numpy_array = np.load(\"/Users/sanjay/Documents/Audio-Embedding/test_npz_values/\" + numpy_array_name, allow_pickle=True)\n",
    "            numpy_array_1 = numpy_array.f.arr_0\n",
    "            numpy_array_2.append(numpy_array_1)\n",
    "            \n",
    "        except:\n",
    "            print(i)\n",
    "    \n",
    "    numpy_array_3 = [[[]]]\n",
    "    for i in range(len(numpy_array_2)):\n",
    "        numpy_array_2[i] = np.transpose(numpy_array_2[i])\n",
    "        if max_len - len(numpy_array_2[i]) != 0:\n",
    "            for j in range((max_len - len(numpy_array_2[i]))):\n",
    "                numpy_array_2[i] = np.append(numpy_array_2[i],[zero_array],axis = 0)\n",
    "        numpy_array_2[i] = np.transpose(numpy_array_2[i])\n",
    "    for i in range(len(numpy_array_2)):\n",
    "        for j in range(len(numpy_array_2[i])):\n",
    "            k = 0\n",
    "            l = 0\n",
    "            while k<=519:\n",
    "                numpy_array_3.append(sum(numpy_array_2[i][j][k:k+10])/10)\n",
    "                k += 10    \n",
    "            numpy_array_3.append(sum(numpy_array_2[i][j][k:k+5])/5)\n",
    "    return np.array(numpy_array_3)\n",
    "    "
   ]
  },
  {
   "cell_type": "code",
   "execution_count": 8,
   "metadata": {},
   "outputs": [],
   "source": [
    "def get_maxlen(df):\n",
    "    numpy_array = []\n",
    "    numpy_array_2 = []\n",
    "    for i in range(len(df)):\n",
    "            numpy_array_name = df.iloc[i].Name\n",
    "            numpy_array = np.load(\"/Users/sanjay/Documents/Audio-Embedding/npz-values/\" + numpy_array_name, allow_pickle=True)\n",
    "            numpy_array_1 = numpy_array.f.arr_0\n",
    "            numpy_array_2.append(numpy_array_1)\n",
    "    max_len = 0\n",
    "    for i in range(len(numpy_array_2)):\n",
    "        for j in range(len(numpy_array_2[i])):\n",
    "            if len(numpy_array_2[i][j]) > max_len:\n",
    "                max_len = len(numpy_array_2[i][j])\n",
    "    return max_len, numpy_array_2"
   ]
  },
  {
   "cell_type": "code",
   "execution_count": 9,
   "metadata": {},
   "outputs": [
    {
     "name": "stderr",
     "output_type": "stream",
     "text": [
      "/Users/sanjay/anaconda3/lib/python3.7/site-packages/ipykernel_launcher.py:29: VisibleDeprecationWarning: Creating an ndarray from ragged nested sequences (which is a list-or-tuple of lists-or-tuples-or ndarrays with different lengths or shapes) is deprecated. If you meant to do this, you must specify 'dtype=object' when creating the ndarray\n",
      "/Users/sanjay/anaconda3/lib/python3.7/site-packages/ipykernel_launcher.py:30: VisibleDeprecationWarning: Creating an ndarray from ragged nested sequences (which is a list-or-tuple of lists-or-tuples-or ndarrays with different lengths or shapes) is deprecated. If you meant to do this, you must specify 'dtype=object' when creating the ndarray\n"
     ]
    },
    {
     "name": "stdout",
     "output_type": "stream",
     "text": [
      "(300, 53, 512) (1140, 53, 512) (1140,) (300,)\n"
     ]
    }
   ],
   "source": [
    "#max_len , numpy_array_2 = get_maxlen()\n",
    "max_len = 525 #maximum duration of the audio\n",
    "x_train = get_train_data(train_x, max_len)\n",
    "x_train = x_train[1:]\n",
    "x_train = np.array(x_train)\n",
    "x_train= x_train.reshape((1140, 53, 512))\n",
    "\n",
    "x_test = get_test_data(test_x, max_len)\n",
    "x_test = x_test[1:]\n",
    "x_test = np.array(x_test)\n",
    "x_test= x_test.reshape((300, 53, 512))\n",
    "\n",
    "print(x_test.shape, x_train.shape, train_y.shape, test_y.shape)\n",
    "\n"
   ]
  },
  {
   "cell_type": "code",
   "execution_count": 10,
   "metadata": {},
   "outputs": [],
   "source": [
    "x_train = np.asarray(x_train).astype(np.float32)\n",
    "train_y = np.asarray(train_y).astype(np.float32)\n",
    "x_test =  np.asarray(x_test).astype(np.float32)\n",
    "test_y = np.asarray(test_y).astype(np.float32)"
   ]
  },
  {
   "cell_type": "code",
   "execution_count": 11,
   "metadata": {},
   "outputs": [
    {
     "name": "stdout",
     "output_type": "stream",
     "text": [
      "53\n",
      "1140\n"
     ]
    }
   ],
   "source": [
    "n_dim = x_train.shape[1]  \n",
    "n_classes = train_y.shape[0] \n",
    "print(n_dim)\n",
    "print(n_classes)\n",
    "#print(test_x)"
   ]
  },
  {
   "cell_type": "code",
   "execution_count": 12,
   "metadata": {},
   "outputs": [],
   "source": [
    "from keras.callbacks import EarlyStopping, ModelCheckpoint\n",
    "\n",
    "earlystop = EarlyStopping(monitor='val_loss', mode='min', patience=75, restore_best_weights=True)\n",
    "checkpointer = ModelCheckpoint(filepath='/tmp/weights.hdf5', verbose=1, save_best_only=True)\n"
   ]
  },
  {
   "cell_type": "code",
   "execution_count": 20,
   "metadata": {},
   "outputs": [
    {
     "name": "stdout",
     "output_type": "stream",
     "text": [
      "Model: \"sequential_7\"\n",
      "_________________________________________________________________\n",
      "Layer (type)                 Output Shape              Param #   \n",
      "=================================================================\n",
      "batch_normalization_7 (Batch (None, 53, 512)           2048      \n",
      "_________________________________________________________________\n",
      "gru_12 (GRU)                 (None, 53)                90153     \n",
      "_________________________________________________________________\n",
      "dense_6 (Dense)              (None, 53)                2862      \n",
      "_________________________________________________________________\n",
      "dense_7 (Dense)              (None, 26)                1404      \n",
      "_________________________________________________________________\n",
      "dense_8 (Dense)              (None, 13)                351       \n",
      "_________________________________________________________________\n",
      "dense_9 (Dense)              (None, 1)                 14        \n",
      "=================================================================\n",
      "Total params: 96,832\n",
      "Trainable params: 95,808\n",
      "Non-trainable params: 1,024\n",
      "_________________________________________________________________\n",
      "None\n"
     ]
    }
   ],
   "source": [
    "from sklearn.model_selection import GridSearchCV\n",
    "from keras.wrappers.scikit_learn import KerasClassifier\n",
    "from keras.constraints import maxnorm\n",
    "\n",
    "\n",
    "def create_model():  \n",
    "    model = Sequential()\n",
    "    model.add(BatchNormalization(axis=-1, input_shape=(53,512)))\n",
    "    model.add(GRU(n_dim, dropout = 0.1, return_sequences=False, recurrent_dropout = 0.2))\n",
    "#     model.add(GRU(, dropout = 0.1, return_sequences=False, recurrent_dropout = 0.2))\n",
    "    model.add(Dense(53,activation = \"tanh\"))\n",
    "    model.add(Dense(26,activation = \"sigmoid\"))\n",
    "    model.add(Dense(13,activation = \"sigmoid\"))\n",
    "    model.add(Dense(1, kernel_initializer='uniform', activation='sigmoid'))          \n",
    "    keras.optimizers.Adam(lr=1e-5, decay=1e-6)\n",
    "    model.compile(loss='binary_crossentropy', metrics=['accuracy'])  \n",
    "    return model\n",
    "   \n",
    "  \n",
    "model = create_model()\n",
    "print(model.summary())"
   ]
  },
  {
   "cell_type": "code",
   "execution_count": 21,
   "metadata": {},
   "outputs": [
    {
     "name": "stdout",
     "output_type": "stream",
     "text": [
      "Epoch 1/80\n",
      "72/72 [==============================] - 6s 57ms/step - loss: 0.6882 - accuracy: 0.5706 - val_loss: 0.6768 - val_accuracy: 0.5867\n",
      "Epoch 2/80\n",
      "72/72 [==============================] - 4s 51ms/step - loss: 0.6629 - accuracy: 0.5775 - val_loss: 0.6436 - val_accuracy: 0.5867\n",
      "Epoch 3/80\n",
      "72/72 [==============================] - 4s 50ms/step - loss: 0.6287 - accuracy: 0.6585 - val_loss: 0.6050 - val_accuracy: 0.7333\n",
      "Epoch 4/80\n",
      "72/72 [==============================] - 4s 50ms/step - loss: 0.5984 - accuracy: 0.7320 - val_loss: 0.5723 - val_accuracy: 0.7533\n",
      "Epoch 5/80\n",
      "72/72 [==============================] - 4s 50ms/step - loss: 0.5522 - accuracy: 0.7845 - val_loss: 0.7048 - val_accuracy: 0.5067\n",
      "Epoch 6/80\n",
      "72/72 [==============================] - 4s 50ms/step - loss: 0.5461 - accuracy: 0.7624 - val_loss: 0.5876 - val_accuracy: 0.7000\n",
      "Epoch 7/80\n",
      "72/72 [==============================] - 4s 50ms/step - loss: 0.4837 - accuracy: 0.8197 - val_loss: 0.5315 - val_accuracy: 0.7800\n",
      "Epoch 8/80\n",
      "72/72 [==============================] - 3s 45ms/step - loss: 0.4685 - accuracy: 0.8127 - val_loss: 0.5894 - val_accuracy: 0.7267\n",
      "Epoch 9/80\n",
      "72/72 [==============================] - 3s 45ms/step - loss: 0.4255 - accuracy: 0.8494 - val_loss: 0.5440 - val_accuracy: 0.7667\n",
      "Epoch 10/80\n",
      "72/72 [==============================] - 3s 46ms/step - loss: 0.4135 - accuracy: 0.8470 - val_loss: 0.5589 - val_accuracy: 0.7733\n",
      "Epoch 11/80\n",
      "72/72 [==============================] - 3s 46ms/step - loss: 0.4367 - accuracy: 0.8278 - val_loss: 0.6135 - val_accuracy: 0.6867\n",
      "Epoch 12/80\n",
      "72/72 [==============================] - 3s 46ms/step - loss: 0.3479 - accuracy: 0.8801 - val_loss: 0.5728 - val_accuracy: 0.7467\n",
      "Epoch 13/80\n",
      "72/72 [==============================] - 3s 47ms/step - loss: 0.3203 - accuracy: 0.8954 - val_loss: 0.6382 - val_accuracy: 0.7333\n",
      "Epoch 14/80\n",
      "72/72 [==============================] - 3s 47ms/step - loss: 0.3177 - accuracy: 0.8906 - val_loss: 0.6392 - val_accuracy: 0.7333\n",
      "Epoch 15/80\n",
      "72/72 [==============================] - 3s 47ms/step - loss: 0.3209 - accuracy: 0.8953 - val_loss: 0.6121 - val_accuracy: 0.7467\n",
      "Epoch 16/80\n",
      "72/72 [==============================] - 3s 47ms/step - loss: 0.2786 - accuracy: 0.9093 - val_loss: 0.7121 - val_accuracy: 0.6867\n",
      "Epoch 17/80\n",
      "72/72 [==============================] - 3s 48ms/step - loss: 0.2577 - accuracy: 0.9261 - val_loss: 0.6908 - val_accuracy: 0.7000\n",
      "Epoch 18/80\n",
      "72/72 [==============================] - 3s 47ms/step - loss: 0.2372 - accuracy: 0.9249 - val_loss: 0.7025 - val_accuracy: 0.7200\n",
      "Epoch 19/80\n",
      "72/72 [==============================] - 3s 48ms/step - loss: 0.2531 - accuracy: 0.9223 - val_loss: 0.6671 - val_accuracy: 0.7267\n",
      "Epoch 20/80\n",
      "72/72 [==============================] - 3s 48ms/step - loss: 0.1992 - accuracy: 0.9389 - val_loss: 1.1071 - val_accuracy: 0.5267\n",
      "Epoch 21/80\n",
      "72/72 [==============================] - 3s 47ms/step - loss: 0.2425 - accuracy: 0.9079 - val_loss: 0.7342 - val_accuracy: 0.7200\n",
      "Epoch 22/80\n",
      "72/72 [==============================] - 3s 47ms/step - loss: 0.2307 - accuracy: 0.9210 - val_loss: 0.8134 - val_accuracy: 0.6800\n",
      "Epoch 23/80\n",
      "72/72 [==============================] - 3s 49ms/step - loss: 0.1792 - accuracy: 0.9482 - val_loss: 0.9783 - val_accuracy: 0.6067\n",
      "Epoch 24/80\n",
      "72/72 [==============================] - 3s 48ms/step - loss: 0.1371 - accuracy: 0.9665 - val_loss: 0.9283 - val_accuracy: 0.6400\n",
      "Epoch 25/80\n",
      "72/72 [==============================] - 3s 47ms/step - loss: 0.1572 - accuracy: 0.9501 - val_loss: 0.8056 - val_accuracy: 0.7000\n",
      "Epoch 26/80\n",
      "72/72 [==============================] - 3s 48ms/step - loss: 0.1577 - accuracy: 0.9525 - val_loss: 0.9480 - val_accuracy: 0.6467\n",
      "Epoch 27/80\n",
      "72/72 [==============================] - 3s 47ms/step - loss: 0.1346 - accuracy: 0.9502 - val_loss: 0.9122 - val_accuracy: 0.6933\n",
      "Epoch 28/80\n",
      "72/72 [==============================] - 3s 48ms/step - loss: 0.1339 - accuracy: 0.9659 - val_loss: 0.9035 - val_accuracy: 0.7000\n",
      "Epoch 29/80\n",
      "72/72 [==============================] - 3s 48ms/step - loss: 0.1183 - accuracy: 0.9674 - val_loss: 0.9763 - val_accuracy: 0.6800\n",
      "Epoch 30/80\n",
      "72/72 [==============================] - 3s 48ms/step - loss: 0.0993 - accuracy: 0.9725 - val_loss: 0.9291 - val_accuracy: 0.7200\n",
      "Epoch 31/80\n",
      "72/72 [==============================] - 3s 47ms/step - loss: 0.1141 - accuracy: 0.9655 - val_loss: 1.0267 - val_accuracy: 0.6600\n",
      "Epoch 32/80\n",
      "72/72 [==============================] - 3s 47ms/step - loss: 0.0959 - accuracy: 0.9773 - val_loss: 0.9103 - val_accuracy: 0.7333\n",
      "Epoch 33/80\n",
      "72/72 [==============================] - 3s 48ms/step - loss: 0.0856 - accuracy: 0.9712 - val_loss: 1.0003 - val_accuracy: 0.6867\n",
      "Epoch 34/80\n",
      "72/72 [==============================] - 3s 47ms/step - loss: 0.1025 - accuracy: 0.9649 - val_loss: 1.0146 - val_accuracy: 0.7267\n",
      "Epoch 35/80\n",
      "72/72 [==============================] - 3s 47ms/step - loss: 0.1089 - accuracy: 0.9695 - val_loss: 1.0353 - val_accuracy: 0.6867\n",
      "Epoch 36/80\n",
      "72/72 [==============================] - 3s 48ms/step - loss: 0.0961 - accuracy: 0.9722 - val_loss: 0.9242 - val_accuracy: 0.7600\n",
      "Epoch 37/80\n",
      "72/72 [==============================] - 3s 47ms/step - loss: 0.0923 - accuracy: 0.9773 - val_loss: 1.0624 - val_accuracy: 0.6600\n",
      "Epoch 38/80\n",
      "72/72 [==============================] - 3s 47ms/step - loss: 0.0775 - accuracy: 0.9800 - val_loss: 1.1176 - val_accuracy: 0.6467\n",
      "Epoch 39/80\n",
      "72/72 [==============================] - 3s 48ms/step - loss: 0.0714 - accuracy: 0.9822 - val_loss: 0.9837 - val_accuracy: 0.7000\n",
      "Epoch 40/80\n",
      "72/72 [==============================] - 3s 48ms/step - loss: 0.0958 - accuracy: 0.9714 - val_loss: 0.8947 - val_accuracy: 0.7400\n",
      "Epoch 41/80\n",
      "72/72 [==============================] - 3s 48ms/step - loss: 0.0560 - accuracy: 0.9864 - val_loss: 1.0805 - val_accuracy: 0.7200\n",
      "Epoch 42/80\n",
      "72/72 [==============================] - 3s 48ms/step - loss: 0.0449 - accuracy: 0.9900 - val_loss: 1.1015 - val_accuracy: 0.7400\n",
      "Epoch 43/80\n",
      "72/72 [==============================] - 3s 48ms/step - loss: 0.0950 - accuracy: 0.9705 - val_loss: 1.0300 - val_accuracy: 0.7267\n",
      "Epoch 44/80\n",
      "72/72 [==============================] - 3s 47ms/step - loss: 0.0945 - accuracy: 0.9678 - val_loss: 0.9962 - val_accuracy: 0.7333\n",
      "Epoch 45/80\n",
      "72/72 [==============================] - 3s 48ms/step - loss: 0.0690 - accuracy: 0.9804 - val_loss: 1.1714 - val_accuracy: 0.6800\n",
      "Epoch 46/80\n",
      "72/72 [==============================] - 3s 48ms/step - loss: 0.0677 - accuracy: 0.9807 - val_loss: 1.0097 - val_accuracy: 0.6800\n",
      "Epoch 47/80\n",
      "72/72 [==============================] - 3s 47ms/step - loss: 0.0751 - accuracy: 0.9735 - val_loss: 1.0815 - val_accuracy: 0.6933\n",
      "Epoch 48/80\n",
      "72/72 [==============================] - 3s 48ms/step - loss: 0.0459 - accuracy: 0.9896 - val_loss: 1.3474 - val_accuracy: 0.6200\n",
      "Epoch 49/80\n",
      "72/72 [==============================] - 3s 48ms/step - loss: 0.0612 - accuracy: 0.9854 - val_loss: 1.0541 - val_accuracy: 0.7000\n",
      "Epoch 50/80\n",
      "72/72 [==============================] - 3s 47ms/step - loss: 0.0742 - accuracy: 0.9786 - val_loss: 1.1042 - val_accuracy: 0.7333\n",
      "Epoch 51/80\n",
      "72/72 [==============================] - 3s 48ms/step - loss: 0.0550 - accuracy: 0.9883 - val_loss: 1.3271 - val_accuracy: 0.6733\n",
      "Epoch 52/80\n",
      "72/72 [==============================] - 3s 48ms/step - loss: 0.0539 - accuracy: 0.9825 - val_loss: 1.1315 - val_accuracy: 0.7333\n",
      "Epoch 53/80\n",
      "72/72 [==============================] - 3s 47ms/step - loss: 0.0679 - accuracy: 0.9802 - val_loss: 1.0354 - val_accuracy: 0.7200\n",
      "Epoch 54/80\n",
      "72/72 [==============================] - 3s 47ms/step - loss: 0.0388 - accuracy: 0.9903 - val_loss: 1.2527 - val_accuracy: 0.6933\n",
      "Epoch 55/80\n",
      "72/72 [==============================] - 3s 48ms/step - loss: 0.0586 - accuracy: 0.9853 - val_loss: 1.0424 - val_accuracy: 0.7467\n",
      "Epoch 56/80\n",
      "72/72 [==============================] - 3s 47ms/step - loss: 0.0423 - accuracy: 0.9903 - val_loss: 1.0873 - val_accuracy: 0.7333\n",
      "Epoch 57/80\n",
      "72/72 [==============================] - 3s 47ms/step - loss: 0.0378 - accuracy: 0.9900 - val_loss: 1.0866 - val_accuracy: 0.7400\n",
      "Epoch 58/80\n",
      "72/72 [==============================] - 3s 48ms/step - loss: 0.0535 - accuracy: 0.9847 - val_loss: 1.1728 - val_accuracy: 0.7467\n"
     ]
    },
    {
     "name": "stdout",
     "output_type": "stream",
     "text": [
      "Epoch 59/80\n",
      "72/72 [==============================] - 3s 47ms/step - loss: 0.0542 - accuracy: 0.9889 - val_loss: 1.1895 - val_accuracy: 0.7400\n",
      "Epoch 60/80\n",
      "72/72 [==============================] - 3s 47ms/step - loss: 0.0360 - accuracy: 0.9896 - val_loss: 1.2140 - val_accuracy: 0.6867\n",
      "Epoch 61/80\n",
      "72/72 [==============================] - 3s 48ms/step - loss: 0.0362 - accuracy: 0.9915 - val_loss: 1.2698 - val_accuracy: 0.7267\n",
      "Epoch 62/80\n",
      "72/72 [==============================] - 3s 49ms/step - loss: 0.0525 - accuracy: 0.9893 - val_loss: 1.3043 - val_accuracy: 0.7133\n",
      "Epoch 63/80\n",
      "72/72 [==============================] - 4s 49ms/step - loss: 0.0558 - accuracy: 0.9812 - val_loss: 1.3228 - val_accuracy: 0.7133\n",
      "Epoch 64/80\n",
      "72/72 [==============================] - 3s 45ms/step - loss: 0.0328 - accuracy: 0.9890 - val_loss: 1.2575 - val_accuracy: 0.7200\n",
      "Epoch 65/80\n",
      "72/72 [==============================] - 3s 45ms/step - loss: 0.0304 - accuracy: 0.9935 - val_loss: 1.3874 - val_accuracy: 0.6733\n",
      "Epoch 66/80\n",
      "72/72 [==============================] - 3s 44ms/step - loss: 0.0193 - accuracy: 0.9960 - val_loss: 1.3320 - val_accuracy: 0.7200\n",
      "Epoch 67/80\n",
      "72/72 [==============================] - 3s 46ms/step - loss: 0.0217 - accuracy: 0.9949 - val_loss: 1.1847 - val_accuracy: 0.7333\n",
      "Epoch 68/80\n",
      "72/72 [==============================] - 3s 46ms/step - loss: 0.0367 - accuracy: 0.9884 - val_loss: 1.2861 - val_accuracy: 0.7000\n",
      "Epoch 69/80\n",
      "72/72 [==============================] - 3s 46ms/step - loss: 0.0407 - accuracy: 0.9907 - val_loss: 1.3439 - val_accuracy: 0.6933\n",
      "Epoch 70/80\n",
      "72/72 [==============================] - 3s 46ms/step - loss: 0.0331 - accuracy: 0.9928 - val_loss: 1.4053 - val_accuracy: 0.6933\n",
      "Epoch 71/80\n",
      "72/72 [==============================] - 3s 46ms/step - loss: 0.0267 - accuracy: 0.9926 - val_loss: 1.3584 - val_accuracy: 0.7333\n",
      "Epoch 72/80\n",
      "72/72 [==============================] - 3s 46ms/step - loss: 0.0277 - accuracy: 0.9929 - val_loss: 1.2682 - val_accuracy: 0.7133\n",
      "Epoch 73/80\n",
      "72/72 [==============================] - 3s 45ms/step - loss: 0.0473 - accuracy: 0.9897 - val_loss: 1.3541 - val_accuracy: 0.7133\n",
      "Epoch 74/80\n",
      "72/72 [==============================] - 3s 46ms/step - loss: 0.0362 - accuracy: 0.9910 - val_loss: 1.3276 - val_accuracy: 0.7200\n",
      "Epoch 75/80\n",
      "72/72 [==============================] - 3s 47ms/step - loss: 0.0253 - accuracy: 0.9948 - val_loss: 1.3150 - val_accuracy: 0.7067\n",
      "Epoch 76/80\n",
      "72/72 [==============================] - 3s 47ms/step - loss: 0.0168 - accuracy: 0.9965 - val_loss: 1.3940 - val_accuracy: 0.6800\n",
      "Epoch 77/80\n",
      "72/72 [==============================] - 3s 47ms/step - loss: 0.0452 - accuracy: 0.9870 - val_loss: 1.4587 - val_accuracy: 0.6800\n",
      "Epoch 78/80\n",
      "72/72 [==============================] - 3s 47ms/step - loss: 0.0442 - accuracy: 0.9850 - val_loss: 1.2744 - val_accuracy: 0.7400\n",
      "Epoch 79/80\n",
      "72/72 [==============================] - 3s 47ms/step - loss: 0.0158 - accuracy: 0.9947 - val_loss: 1.4544 - val_accuracy: 0.7067\n",
      "Epoch 80/80\n",
      "72/72 [==============================] - 3s 48ms/step - loss: 0.0069 - accuracy: 0.9998 - val_loss: 1.4397 - val_accuracy: 0.7067\n"
     ]
    }
   ],
   "source": [
    "hist = model.fit(x_train, train_y, epochs=80, batch_size=16,\n",
    "                 validation_data = (x_test[:150], test_y[:150]), callbacks=[earlystop])"
   ]
  },
  {
   "cell_type": "code",
   "execution_count": 22,
   "metadata": {},
   "outputs": [
    {
     "name": "stdout",
     "output_type": "stream",
     "text": [
      "0.7016666695475579\n"
     ]
    }
   ],
   "source": [
    "print(sum(hist.history['val_accuracy'])/len(hist.history['val_accuracy']))"
   ]
  },
  {
   "cell_type": "code",
   "execution_count": 23,
   "metadata": {},
   "outputs": [
    {
     "name": "stdout",
     "output_type": "stream",
     "text": [
      "0.9982455968856812 0.7799999713897705\n"
     ]
    }
   ],
   "source": [
    "print(max(hist.history['accuracy']), max(hist.history['val_accuracy']))"
   ]
  },
  {
   "cell_type": "code",
   "execution_count": 24,
   "metadata": {},
   "outputs": [
    {
     "name": "stdout",
     "output_type": "stream",
     "text": [
      "[0.5866666436195374, 0.5866666436195374, 0.7333333492279053, 0.753333330154419, 0.5066666603088379, 0.699999988079071, 0.7799999713897705, 0.7266666889190674, 0.7666666507720947, 0.7733333110809326, 0.6866666674613953, 0.746666669845581, 0.7333333492279053, 0.7333333492279053, 0.746666669845581, 0.6866666674613953, 0.699999988079071, 0.7200000286102295, 0.7266666889190674, 0.5266666412353516, 0.7200000286102295, 0.6800000071525574, 0.6066666841506958, 0.6399999856948853, 0.699999988079071, 0.6466666460037231, 0.6933333277702332, 0.699999988079071, 0.6800000071525574, 0.7200000286102295, 0.6600000262260437, 0.7333333492279053, 0.6866666674613953, 0.7266666889190674, 0.6866666674613953, 0.7599999904632568, 0.6600000262260437, 0.6466666460037231, 0.699999988079071, 0.7400000095367432, 0.7200000286102295, 0.7400000095367432, 0.7266666889190674, 0.7333333492279053, 0.6800000071525574, 0.6800000071525574, 0.6933333277702332, 0.6200000047683716, 0.699999988079071, 0.7333333492279053, 0.6733333468437195, 0.7333333492279053, 0.7200000286102295, 0.6933333277702332, 0.746666669845581, 0.7333333492279053, 0.7400000095367432, 0.746666669845581, 0.7400000095367432, 0.6866666674613953, 0.7266666889190674, 0.7133333086967468, 0.7133333086967468, 0.7200000286102295, 0.6733333468437195, 0.7200000286102295, 0.7333333492279053, 0.699999988079071, 0.6933333277702332, 0.6933333277702332, 0.7333333492279053, 0.7133333086967468, 0.7133333086967468, 0.7200000286102295, 0.7066666483879089, 0.6800000071525574, 0.6800000071525574, 0.7400000095367432, 0.7066666483879089, 0.7066666483879089]\n"
     ]
    }
   ],
   "source": [
    "print(hist.history['val_accuracy'])"
   ]
  },
  {
   "cell_type": "code",
   "execution_count": null,
   "metadata": {},
   "outputs": [],
   "source": []
  },
  {
   "cell_type": "code",
   "execution_count": null,
   "metadata": {},
   "outputs": [],
   "source": []
  },
  {
   "cell_type": "code",
   "execution_count": 25,
   "metadata": {},
   "outputs": [
    {
     "name": "stdout",
     "output_type": "stream",
     "text": [
      "3/3 [==============================] - 0s 15ms/step - loss: 1.3124 - accuracy: 0.7200\n",
      "[1.312421202659607, 0.7200000286102295]\n"
     ]
    }
   ],
   "source": [
    "evaluate = model.evaluate(x_test[150:], test_y[150:], batch_size=53)\n",
    "print(evaluate)"
   ]
  },
  {
   "cell_type": "code",
   "execution_count": 26,
   "metadata": {},
   "outputs": [
    {
     "name": "stdout",
     "output_type": "stream",
     "text": [
      "[1.312421202659607, 0.7200000286102295]\n"
     ]
    }
   ],
   "source": [
    "print(evaluate)"
   ]
  },
  {
   "cell_type": "code",
   "execution_count": 27,
   "metadata": {},
   "outputs": [
    {
     "data": {
      "image/png": "[encoded data removed]",
      "text/plain": [
       "<Figure size 432x288 with 2 Axes>"
      ]
     },
     "metadata": {
      "needs_background": "light"
     },
     "output_type": "display_data"
    }
   ],
   "source": [
    "fig, axs = plt.subplots(nrows=1, ncols=2, constrained_layout=True)\n",
    "ax = axs[0]\n",
    "ax.plot(hist.history['loss'], label='train')\n",
    "ax.plot(hist.history['val_loss'], label='val')\n",
    "ax.legend()\n",
    "ax.set_ylabel('loss')\n",
    "ax.set_xlabel('epochs')\n",
    "ax = axs[1] \n",
    "ax.plot(hist.history['accuracy'], label='train')\n",
    "ax.plot(hist.history['val_accuracy'], label='val')\n",
    "ax.legend()\n",
    "ax.set_ylabel('accuracy')\n",
    "ax.set_xlabel('epochs')\n",
    "plt.show()"
   ]
  },
  {
   "cell_type": "code",
   "execution_count": 28,
   "metadata": {},
   "outputs": [
    {
     "name": "stdout",
     "output_type": "stream",
     "text": [
      "INFO:tensorflow:Assets written to: GRU_2_trained/assets\n"
     ]
    }
   ],
   "source": [
    "model.save(\"GRU_2_trained\")\n"
   ]
  },
  {
   "cell_type": "code",
   "execution_count": 29,
   "metadata": {},
   "outputs": [],
   "source": [
    "def get_categorical_test_data(label1, label2, df,max_len):\n",
    "    count = 0\n",
    "    numpy_array = []\n",
    "    numpy_array_2 = []\n",
    "    cat_labels = []\n",
    "    zero_array = np.array([0]*512)\n",
    "    for i in range(len(df)):\n",
    "        if(df.Name[i][7] ==label1 or df.Name[i][7] ==label2):\n",
    "            if df.Name[i][7] ==label1:\n",
    "                cat_labels.append(0)\n",
    "            else:\n",
    "                cat_labels.append(1)\n",
    "            count += 1\n",
    "            try:\n",
    "                numpy_array_name = df.iloc[i].Name\n",
    "                numpy_array = np.load(\"/Users/sanjay/Documents/Audio-Embedding/test_npz_values/\" + numpy_array_name, allow_pickle=True)\n",
    "                numpy_array_1 = numpy_array.f.arr_0\n",
    "                numpy_array_2.append(numpy_array_1)\n",
    "\n",
    "            except:\n",
    "                print(i)\n",
    "    \n",
    "    numpy_array_3 = [[[]]]\n",
    "    for i in range(len(numpy_array_2)):\n",
    "        numpy_array_2[i] = np.transpose(numpy_array_2[i])\n",
    "        if max_len - len(numpy_array_2[i]) != 0:\n",
    "            for j in range((max_len - len(numpy_array_2[i]))):\n",
    "                numpy_array_2[i] = np.append(numpy_array_2[i],[zero_array],axis = 0)\n",
    "        numpy_array_2[i] = np.transpose(numpy_array_2[i])\n",
    "    for i in range(len(numpy_array_2)):\n",
    "        for j in range(len(numpy_array_2[i])):\n",
    "            k = 0\n",
    "            l = 0\n",
    "            while k<=519:\n",
    "                numpy_array_3.append(sum(numpy_array_2[i][j][k:k+10])/10)\n",
    "                k += 10    \n",
    "            numpy_array_3.append(sum(numpy_array_2[i][j][k:k+5])/5)\n",
    "    return np.array(numpy_array_3), count, cat_labels"
   ]
  },
  {
   "cell_type": "code",
   "execution_count": 30,
   "metadata": {},
   "outputs": [
    {
     "name": "stderr",
     "output_type": "stream",
     "text": [
      "/Users/sanjay/anaconda3/lib/python3.7/site-packages/ipykernel_launcher.py:38: VisibleDeprecationWarning: Creating an ndarray from ragged nested sequences (which is a list-or-tuple of lists-or-tuples-or ndarrays with different lengths or shapes) is deprecated. If you meant to do this, you must specify 'dtype=object' when creating the ndarray\n"
     ]
    }
   ],
   "source": [
    "neutral_calm_test_x, count, neutral_calm_test_y = get_categorical_test_data('1','2',df, max_len)"
   ]
  },
  {
   "cell_type": "code",
   "execution_count": 31,
   "metadata": {},
   "outputs": [
    {
     "name": "stdout",
     "output_type": "stream",
     "text": [
      "(1628161,)\n"
     ]
    }
   ],
   "source": [
    "print(neutral_calm_test_x.shape)"
   ]
  },
  {
   "cell_type": "code",
   "execution_count": 32,
   "metadata": {},
   "outputs": [],
   "source": [
    "neutral_calm_test_x = neutral_calm_test_x[1:]\n",
    "neutral_calm_test_x = np.array(neutral_calm_test_x)\n",
    "neutral_calm_test_x= neutral_calm_test_x.reshape((count, 53, 512))\n"
   ]
  },
  {
   "cell_type": "code",
   "execution_count": 33,
   "metadata": {},
   "outputs": [
    {
     "name": "stdout",
     "output_type": "stream",
     "text": [
      "(60, 53, 512) 60\n"
     ]
    }
   ],
   "source": [
    "print(neutral_calm_test_x.shape, len(neutral_calm_test_y))"
   ]
  },
  {
   "cell_type": "code",
   "execution_count": 34,
   "metadata": {},
   "outputs": [],
   "source": [
    "neutral_calm_test_x =  np.asarray(neutral_calm_test_x).astype(np.float32)\n",
    "neutral_calm_test_y = np.asarray(neutral_calm_test_y).astype(np.float32)"
   ]
  },
  {
   "cell_type": "code",
   "execution_count": 35,
   "metadata": {},
   "outputs": [],
   "source": [
    "preds_neutral_calm = model.predict(neutral_calm_test_x)\n",
    "preds_neutral_calm = [np.round(x) for x in preds_neutral_calm]\n",
    "preds_neutral_calm = np.asarray(preds_neutral_calm).astype(int)\n"
   ]
  },
  {
   "cell_type": "code",
   "execution_count": 36,
   "metadata": {},
   "outputs": [],
   "source": [
    "from sklearn.metrics import classification_report"
   ]
  },
  {
   "cell_type": "code",
   "execution_count": null,
   "metadata": {},
   "outputs": [],
   "source": []
  },
  {
   "cell_type": "code",
   "execution_count": 37,
   "metadata": {},
   "outputs": [
    {
     "name": "stdout",
     "output_type": "stream",
     "text": [
      "              precision    recall  f1-score   support\n",
      "\n",
      "         0.0       0.38      1.00      0.55        20\n",
      "         1.0       1.00      0.17      0.30        40\n",
      "\n",
      "    accuracy                           0.45        60\n",
      "   macro avg       0.69      0.59      0.42        60\n",
      "weighted avg       0.79      0.45      0.38        60\n",
      "\n"
     ]
    }
   ],
   "source": [
    "print(classification_report(neutral_calm_test_y, preds_neutral_calm))"
   ]
  },
  {
   "cell_type": "code",
   "execution_count": 38,
   "metadata": {},
   "outputs": [
    {
     "name": "stderr",
     "output_type": "stream",
     "text": [
      "/Users/sanjay/anaconda3/lib/python3.7/site-packages/ipykernel_launcher.py:38: VisibleDeprecationWarning: Creating an ndarray from ragged nested sequences (which is a list-or-tuple of lists-or-tuples-or ndarrays with different lengths or shapes) is deprecated. If you meant to do this, you must specify 'dtype=object' when creating the ndarray\n"
     ]
    }
   ],
   "source": [
    "happy_sad_test_x, count, happy_sad_test_y = get_categorical_test_data('3','4',df, max_len)\n",
    "happy_sad_test_x = happy_sad_test_x[1:]\n",
    "happy_sad_test_x = np.array(happy_sad_test_x)\n",
    "happy_sad_test_x= happy_sad_test_x.reshape((count, 53, 512))\n",
    "happy_sad_test_x =  np.asarray(happy_sad_test_x).astype(np.float32)\n",
    "happy_sad_test_y = np.asarray(happy_sad_test_y).astype(np.float32)\n",
    "preds_happy_sad = model.predict(happy_sad_test_x)\n",
    "preds_happy_sad = [np.round(x) for x in preds_happy_sad]\n"
   ]
  },
  {
   "cell_type": "code",
   "execution_count": 39,
   "metadata": {},
   "outputs": [
    {
     "name": "stdout",
     "output_type": "stream",
     "text": [
      "              precision    recall  f1-score   support\n",
      "\n",
      "         0.0       0.56      0.70      0.62        40\n",
      "         1.0       0.60      0.45      0.51        40\n",
      "\n",
      "    accuracy                           0.57        80\n",
      "   macro avg       0.58      0.57      0.57        80\n",
      "weighted avg       0.58      0.57      0.57        80\n",
      "\n"
     ]
    }
   ],
   "source": [
    "preds_happy_sad = np.asarray(preds_happy_sad).astype(int)\n",
    "print(classification_report(happy_sad_test_y, preds_happy_sad))"
   ]
  },
  {
   "cell_type": "code",
   "execution_count": 40,
   "metadata": {},
   "outputs": [
    {
     "name": "stderr",
     "output_type": "stream",
     "text": [
      "/Users/sanjay/anaconda3/lib/python3.7/site-packages/ipykernel_launcher.py:38: VisibleDeprecationWarning: Creating an ndarray from ragged nested sequences (which is a list-or-tuple of lists-or-tuples-or ndarrays with different lengths or shapes) is deprecated. If you meant to do this, you must specify 'dtype=object' when creating the ndarray\n"
     ]
    }
   ],
   "source": [
    "anger_fear_test_x, count, anger_fear_test_y = get_categorical_test_data('5','6',df, max_len)\n",
    "anger_fear_test_x = anger_fear_test_x[1:]\n",
    "anger_fear_test_x = np.array(anger_fear_test_x)\n",
    "anger_fear_test_x= anger_fear_test_x.reshape((count, 53, 512))\n",
    "anger_fear_test_x =  np.asarray(anger_fear_test_x).astype(np.float32)\n",
    "anger_fear_test_y = np.asarray(anger_fear_test_y).astype(np.float32)\n",
    "preds_anger_fear = model.predict(anger_fear_test_x)\n",
    "preds_anger_fear = [np.round(x) for x in preds_anger_fear]"
   ]
  },
  {
   "cell_type": "code",
   "execution_count": 41,
   "metadata": {},
   "outputs": [
    {
     "name": "stdout",
     "output_type": "stream",
     "text": [
      "              precision    recall  f1-score   support\n",
      "\n",
      "         0.0       0.41      0.17      0.25        40\n",
      "         1.0       0.48      0.75      0.58        40\n",
      "\n",
      "    accuracy                           0.46        80\n",
      "   macro avg       0.44      0.46      0.41        80\n",
      "weighted avg       0.44      0.46      0.41        80\n",
      "\n"
     ]
    }
   ],
   "source": [
    "preds_anger_fear = np.asarray(preds_anger_fear).astype(int)\n",
    "print(classification_report(anger_fear_test_y, preds_anger_fear))"
   ]
  },
  {
   "cell_type": "code",
   "execution_count": 42,
   "metadata": {},
   "outputs": [
    {
     "name": "stderr",
     "output_type": "stream",
     "text": [
      "/Users/sanjay/anaconda3/lib/python3.7/site-packages/ipykernel_launcher.py:38: VisibleDeprecationWarning: Creating an ndarray from ragged nested sequences (which is a list-or-tuple of lists-or-tuples-or ndarrays with different lengths or shapes) is deprecated. If you meant to do this, you must specify 'dtype=object' when creating the ndarray\n"
     ]
    },
    {
     "name": "stdout",
     "output_type": "stream",
     "text": [
      "              precision    recall  f1-score   support\n",
      "\n",
      "         0.0       0.19      0.07      0.11        40\n",
      "         1.0       0.42      0.68      0.52        40\n",
      "\n",
      "    accuracy                           0.38        80\n",
      "   macro avg       0.30      0.38      0.31        80\n",
      "weighted avg       0.30      0.38      0.31        80\n",
      "\n"
     ]
    }
   ],
   "source": [
    "dis_surp_test_x, count, dis_surp_test_y = get_categorical_test_data('7','8',df, max_len)\n",
    "dis_surp_test_x = dis_surp_test_x[1:]\n",
    "dis_surp_test_x = np.array(dis_surp_test_x)\n",
    "dis_surp_test_x= dis_surp_test_x.reshape((count, 53, 512))\n",
    "dis_surp_test_x =  np.asarray(dis_surp_test_x).astype(np.float32)\n",
    "dis_surp_test_y = np.asarray(dis_surp_test_y).astype(np.float32)\n",
    "preds_dis_surp = model.predict(dis_surp_test_x)\n",
    "preds_dis_surp = [np.round(x) for x in preds_dis_surp]\n",
    "preds_dis_surp = np.asarray(preds_dis_surp).astype(int)\n",
    "print(classification_report(dis_surp_test_y, preds_dis_surp))"
   ]
  },
  {
   "cell_type": "code",
   "execution_count": null,
   "metadata": {},
   "outputs": [],
   "source": []
  }
 ],
 "metadata": {
  "kernelspec": {
   "display_name": "Python 3",
   "language": "python",
   "name": "python3"
  },
  "language_info": {
   "codemirror_mode": {
    "name": "ipython",
    "version": 3
   },
   "file_extension": ".py",
   "mimetype": "text/x-python",
   "name": "python",
   "nbconvert_exporter": "python",
   "pygments_lexer": "ipython3",
   "version": "3.7.7"
  }
 },
 "nbformat": 4,
 "nbformat_minor": 4
}
