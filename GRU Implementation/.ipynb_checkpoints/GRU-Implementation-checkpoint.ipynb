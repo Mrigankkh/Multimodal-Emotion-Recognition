{
 "cells": [
  {
   "cell_type": "code",
   "execution_count": 1,
   "metadata": {},
   "outputs": [
    {
     "name": "stdout",
     "output_type": "stream",
     "text": [
      "1140\n",
      "0       0\n",
      "1       1\n",
      "2       1\n",
      "3       1\n",
      "4       0\n",
      "       ..\n",
      "1137    1\n",
      "1138    1\n",
      "1139    1\n",
      "1140    0\n",
      "1141    0\n",
      "Name: Label, Length: 1140, dtype: object\n"
     ]
    }
   ],
   "source": [
    "import pandas as pd\n",
    "import os \n",
    "import numpy as np\n",
    "import tensorflow as tf\n",
    "from tensorflow.keras.models import Sequential\n",
    "from tensorflow.keras.layers import Dense, Dropout, GRU\n",
    "from sklearn.model_selection import train_test_split\n",
    "from sklearn.metrics import classification_report, confusion_matrix\n",
    "import matplotlib.pyplot as plt\n",
    "from tensorflow.keras.layers import BatchNormalization\n",
    "\n",
    "def npz_to_dataFrame():\n",
    "    label = 0\n",
    "    df = pd.DataFrame(columns = [\"Name\", \"Label\"])\n",
    "    for file_name in file:\n",
    "        #if file_name[10] == '2':\n",
    "        if file_name[7] == '1' or file_name[7] == '2' or file_name[7] == '3':\n",
    "            label = 0\n",
    "        elif file_name[7] == '5' or file_name[7] == '7':\n",
    "            label = 1\n",
    "        numpy_data = np.array([[file_name,label]])\n",
    "        df2 = pd.DataFrame(data = numpy_data, columns = [\"Name\", \"Label\"])\n",
    "        df = df.append(df2, ignore_index = True)   \n",
    "    return(df)\n",
    "    \n",
    "    \n",
    "file = os.listdir(\"/Users/sanjay/Documents/Audio-Embedding/npz-values/\")    \n",
    "df = npz_to_dataFrame()\n",
    "df1 = df.drop([174,861])\n",
    "df = df1\n",
    "print(len(df))\n",
    "y = df.Label\n",
    "x = df.drop('Label', axis = 1)\n",
    "print(y)"
   ]
  },
  {
   "cell_type": "code",
   "execution_count": 2,
   "metadata": {},
   "outputs": [],
   "source": [
    "def get_data(df, max_len):\n",
    "    numpy_array = []\n",
    "    numpy_array_2 = []\n",
    "    zero_array = np.array([0]*512)\n",
    "    for i in range(len(df)):\n",
    "        try:\n",
    "            numpy_array_name = df.iloc[i].Name\n",
    "            numpy_array = np.load(\"/Users/sanjay/Documents/Audio-Embedding/npz-values/\" + numpy_array_name, allow_pickle=True)\n",
    "            numpy_array_1 = numpy_array.f.arr_0\n",
    "            numpy_array_2.append(numpy_array_1)\n",
    "            \n",
    "        except:\n",
    "            print(i)\n",
    "    numpy_array_3 = [[[]]]\n",
    "    for i in range(len(numpy_array_2)):\n",
    "        numpy_array_2[i] = np.transpose(numpy_array_2[i])\n",
    "        if max_len - len(numpy_array_2[i]) != 0:\n",
    "            for j in range((max_len - len(numpy_array_2[i]))):\n",
    "                numpy_array_2[i] = np.append(numpy_array_2[i],[zero_array],axis = 0)\n",
    "        numpy_array_2[i] = np.transpose(numpy_array_2[i])\n",
    "    for i in range(len(numpy_array_2)):\n",
    "        for j in range(len(numpy_array_2[i])):\n",
    "            k = 0\n",
    "            l = 0\n",
    "            while k<=519:\n",
    "                numpy_array_3.append(sum(numpy_array_2[i][j][k:k+10])/10)\n",
    "                k += 10    \n",
    "            numpy_array_3.append(sum(numpy_array_2[i][j][k:k+5])/5)\n",
    "    return np.array(numpy_array_3)"
   ]
  },
  {
   "cell_type": "code",
   "execution_count": 3,
   "metadata": {},
   "outputs": [],
   "source": [
    "def get_maxlen(df):\n",
    "    numpy_array = []\n",
    "    numpy_array_2 = []\n",
    "    for i in range(len(df)):\n",
    "            numpy_array_name = df.iloc[i].Name\n",
    "            numpy_array = np.load(\"/Users/sanjay/Documents/Audio-Embedding/npz-values/\" + numpy_array_name, allow_pickle=True)\n",
    "            numpy_array_1 = numpy_array.f.arr_0\n",
    "            numpy_array_2.append(numpy_array_1)\n",
    "    max_len = 0\n",
    "    for i in range(len(numpy_array_2)):\n",
    "        for j in range(len(numpy_array_2[i])):\n",
    "            if len(numpy_array_2[i][j]) > max_len:\n",
    "                max_len = len(numpy_array_2[i][j])\n",
    "    return max_len, numpy_array_2"
   ]
  },
  {
   "cell_type": "code",
   "execution_count": 4,
   "metadata": {},
   "outputs": [],
   "source": [
    "max_len , numpy_array_2 = get_maxlen(df)\n",
    "x_tr,x_ts,y_tr,y_ts=train_test_split(x,y,test_size=0.2)\n",
    "\n",
    "x_train = get_data(x_tr, max_len)\n",
    "x_test = get_data(x_ts, max_len)\n",
    "\n",
    "\n",
    "\n",
    "\n"
   ]
  },
  {
   "cell_type": "code",
   "execution_count": 5,
   "metadata": {},
   "outputs": [
    {
     "name": "stdout",
     "output_type": "stream",
     "text": [
      "(24748032,)\n",
      "(6187008,)\n"
     ]
    }
   ],
   "source": [
    "x_train = x_train[1:]\n",
    "x_test = x_test[1:]\n",
    "print(x_train.shape)\n",
    "print(x_test.shape)"
   ]
  },
  {
   "cell_type": "code",
   "execution_count": 6,
   "metadata": {},
   "outputs": [],
   "source": [
    "\n",
    "x_train= x_train.reshape((912, 53, 512))\n",
    "x_test= x_test.reshape((228, 53, 512))\n"
   ]
  },
  {
   "cell_type": "code",
   "execution_count": 7,
   "metadata": {},
   "outputs": [
    {
     "name": "stdout",
     "output_type": "stream",
     "text": [
      "525\n",
      "(912, 53, 512)\n"
     ]
    }
   ],
   "source": [
    "print(max_len)\n",
    "\n",
    "x_train = np.array(x_train).astype(np.float32)\n",
    "x_test = np.array(x_test).astype(np.float32)\n",
    "train_y = np.array(y_tr).astype(np.float32)\n",
    "test_y = np.array(y_ts).astype(np.float32)\n",
    "\n",
    "print(np.shape(x_train))\n",
    "#print(y_train.head())"
   ]
  },
  {
   "cell_type": "code",
   "execution_count": 8,
   "metadata": {},
   "outputs": [
    {
     "name": "stdout",
     "output_type": "stream",
     "text": [
      "53\n",
      "912\n"
     ]
    }
   ],
   "source": [
    "n_dim = x_train.shape[1]  \n",
    "n_classes = train_y.shape[0] \n",
    "print(n_dim)\n",
    "print(n_classes)\n",
    "#print(test_x)"
   ]
  },
  {
   "cell_type": "code",
   "execution_count": 9,
   "metadata": {},
   "outputs": [
    {
     "name": "stderr",
     "output_type": "stream",
     "text": [
      "Using TensorFlow backend.\n"
     ]
    }
   ],
   "source": [
    "from keras.callbacks import EarlyStopping, ModelCheckpoint\n",
    "\n",
    "earlystop = EarlyStopping(monitor='val_loss', mode='min', patience=75, restore_best_weights=True)\n",
    "checkpointer = ModelCheckpoint(filepath='/tmp/weights.hdf5', verbose=1, save_best_only=True)"
   ]
  },
  {
   "cell_type": "code",
   "execution_count": 26,
   "metadata": {},
   "outputs": [
    {
     "name": "stdout",
     "output_type": "stream",
     "text": [
      "Model: \"sequential_2\"\n",
      "_________________________________________________________________\n",
      "Layer (type)                 Output Shape              Param #   \n",
      "=================================================================\n",
      "batch_normalization_2 (Batch (None, 53, 512)           2048      \n",
      "_________________________________________________________________\n",
      "gru_2 (GRU)                  (None, 53)                90153     \n",
      "_________________________________________________________________\n",
      "dense_6 (Dense)              (None, 26)                1404      \n",
      "_________________________________________________________________\n",
      "dense_7 (Dense)              (None, 13)                351       \n",
      "_________________________________________________________________\n",
      "dense_8 (Dense)              (None, 1)                 14        \n",
      "=================================================================\n",
      "Total params: 93,970\n",
      "Trainable params: 92,946\n",
      "Non-trainable params: 1,024\n",
      "_________________________________________________________________\n",
      "None\n"
     ]
    }
   ],
   "source": [
    "from sklearn.model_selection import GridSearchCV\n",
    "from keras.wrappers.scikit_learn import KerasClassifier\n",
    "from keras.constraints import maxnorm\n",
    "from tensorflow import keras\n",
    "\n",
    "\n",
    "def create_model():  \n",
    "    model = Sequential()\n",
    "    model.add(BatchNormalization(axis=-1, input_shape=(53,512)))\n",
    "    model.add(GRU(n_dim, dropout = 0.1, return_sequences=False, recurrent_dropout = 0.2))\n",
    "    model.add(Dense(26,activation = \"relu\"))\n",
    "    model.add(Dense(13,activation = \"relu\"))\n",
    "    model.add(Dense(1, kernel_initializer='uniform', activation='sigmoid'))          \n",
    "    keras.optimizers.Adam(lr=1e-3, decay=1e-5)\n",
    "    model.compile(loss='binary_crossentropy', metrics=['accuracy'])  \n",
    "    return model\n",
    "   \n",
    "  \n",
    "model = create_model()\n",
    "print(model.summary())"
   ]
  },
  {
   "cell_type": "code",
   "execution_count": 27,
   "metadata": {},
   "outputs": [
    {
     "name": "stdout",
     "output_type": "stream",
     "text": [
      "Train on 912 samples, validate on 150 samples\n",
      "Epoch 1/80\n",
      "912/912 [==============================] - 4s 4ms/sample - loss: 0.6697 - accuracy: 0.6294 - val_loss: 0.6807 - val_accuracy: 0.6733\n",
      "Epoch 2/80\n",
      "912/912 [==============================] - 2s 2ms/sample - loss: 0.6084 - accuracy: 0.7193 - val_loss: 0.6583 - val_accuracy: 0.6600\n",
      "Epoch 3/80\n",
      "912/912 [==============================] - 2s 2ms/sample - loss: 0.5557 - accuracy: 0.7456 - val_loss: 0.6754 - val_accuracy: 0.5667\n",
      "Epoch 4/80\n",
      "912/912 [==============================] - 2s 2ms/sample - loss: 0.5201 - accuracy: 0.7522 - val_loss: 0.6266 - val_accuracy: 0.6467\n",
      "Epoch 5/80\n",
      "912/912 [==============================] - 2s 2ms/sample - loss: 0.4752 - accuracy: 0.7917 - val_loss: 0.6458 - val_accuracy: 0.6200\n",
      "Epoch 6/80\n",
      "912/912 [==============================] - 2s 2ms/sample - loss: 0.4312 - accuracy: 0.8180 - val_loss: 0.6619 - val_accuracy: 0.6400\n",
      "Epoch 7/80\n",
      "912/912 [==============================] - 2s 2ms/sample - loss: 0.4139 - accuracy: 0.8158 - val_loss: 0.6067 - val_accuracy: 0.6800\n",
      "Epoch 8/80\n",
      "912/912 [==============================] - 2s 2ms/sample - loss: 0.3532 - accuracy: 0.8498 - val_loss: 0.7770 - val_accuracy: 0.5933\n",
      "Epoch 9/80\n",
      "912/912 [==============================] - 2s 2ms/sample - loss: 0.3588 - accuracy: 0.8410 - val_loss: 0.6049 - val_accuracy: 0.7000\n",
      "Epoch 10/80\n",
      "912/912 [==============================] - 2s 2ms/sample - loss: 0.3097 - accuracy: 0.8750 - val_loss: 0.6072 - val_accuracy: 0.7267\n",
      "Epoch 11/80\n",
      "912/912 [==============================] - 2s 2ms/sample - loss: 0.2909 - accuracy: 0.8783 - val_loss: 0.6144 - val_accuracy: 0.7133\n",
      "Epoch 12/80\n",
      "912/912 [==============================] - 2s 2ms/sample - loss: 0.2669 - accuracy: 0.8893 - val_loss: 0.5992 - val_accuracy: 0.7467\n",
      "Epoch 13/80\n",
      "912/912 [==============================] - 2s 2ms/sample - loss: 0.2472 - accuracy: 0.9013 - val_loss: 0.5585 - val_accuracy: 0.7333\n",
      "Epoch 14/80\n",
      "912/912 [==============================] - 2s 2ms/sample - loss: 0.2229 - accuracy: 0.9101 - val_loss: 0.6117 - val_accuracy: 0.7200\n",
      "Epoch 15/80\n",
      "912/912 [==============================] - 2s 2ms/sample - loss: 0.2248 - accuracy: 0.9024 - val_loss: 0.6287 - val_accuracy: 0.7200\n",
      "Epoch 16/80\n",
      "912/912 [==============================] - 2s 2ms/sample - loss: 0.1630 - accuracy: 0.9386 - val_loss: 0.6854 - val_accuracy: 0.7667\n",
      "Epoch 17/80\n",
      "912/912 [==============================] - 2s 2ms/sample - loss: 0.1895 - accuracy: 0.9221 - val_loss: 0.6845 - val_accuracy: 0.7467\n",
      "Epoch 18/80\n",
      "912/912 [==============================] - 2s 2ms/sample - loss: 0.1412 - accuracy: 0.9496 - val_loss: 0.6975 - val_accuracy: 0.7533\n",
      "Epoch 19/80\n",
      "912/912 [==============================] - 2s 2ms/sample - loss: 0.1252 - accuracy: 0.9550 - val_loss: 0.7474 - val_accuracy: 0.7867\n",
      "Epoch 20/80\n",
      "912/912 [==============================] - 2s 2ms/sample - loss: 0.1459 - accuracy: 0.9408 - val_loss: 0.7212 - val_accuracy: 0.7467\n",
      "Epoch 21/80\n",
      "912/912 [==============================] - 2s 2ms/sample - loss: 0.1333 - accuracy: 0.9507 - val_loss: 0.8470 - val_accuracy: 0.7200\n",
      "Epoch 22/80\n",
      "912/912 [==============================] - 2s 2ms/sample - loss: 0.1065 - accuracy: 0.9605 - val_loss: 0.7973 - val_accuracy: 0.7333\n",
      "Epoch 23/80\n",
      "912/912 [==============================] - 2s 2ms/sample - loss: 0.1010 - accuracy: 0.9561 - val_loss: 0.8587 - val_accuracy: 0.7600\n",
      "Epoch 24/80\n",
      "912/912 [==============================] - 2s 2ms/sample - loss: 0.0762 - accuracy: 0.9704 - val_loss: 1.3298 - val_accuracy: 0.6933\n",
      "Epoch 25/80\n",
      "912/912 [==============================] - 2s 2ms/sample - loss: 0.0815 - accuracy: 0.9770 - val_loss: 0.9545 - val_accuracy: 0.7533\n",
      "Epoch 26/80\n",
      "912/912 [==============================] - 2s 2ms/sample - loss: 0.0880 - accuracy: 0.9682 - val_loss: 1.0194 - val_accuracy: 0.7200\n",
      "Epoch 27/80\n",
      "912/912 [==============================] - 2s 2ms/sample - loss: 0.0724 - accuracy: 0.9737 - val_loss: 0.8376 - val_accuracy: 0.7867\n",
      "Epoch 28/80\n",
      "912/912 [==============================] - 2s 2ms/sample - loss: 0.0922 - accuracy: 0.9627 - val_loss: 0.8882 - val_accuracy: 0.7533\n",
      "Epoch 29/80\n",
      "912/912 [==============================] - 2s 2ms/sample - loss: 0.0827 - accuracy: 0.9693 - val_loss: 0.8737 - val_accuracy: 0.7400\n",
      "Epoch 30/80\n",
      "912/912 [==============================] - 2s 2ms/sample - loss: 0.0543 - accuracy: 0.9879 - val_loss: 0.9921 - val_accuracy: 0.7267\n",
      "Epoch 31/80\n",
      "912/912 [==============================] - 2s 2ms/sample - loss: 0.0843 - accuracy: 0.9638 - val_loss: 1.0081 - val_accuracy: 0.7267\n",
      "Epoch 32/80\n",
      "912/912 [==============================] - 2s 2ms/sample - loss: 0.0309 - accuracy: 0.9879 - val_loss: 1.1041 - val_accuracy: 0.7267\n",
      "Epoch 33/80\n",
      "912/912 [==============================] - 2s 2ms/sample - loss: 0.0638 - accuracy: 0.9792 - val_loss: 1.4457 - val_accuracy: 0.6600\n",
      "Epoch 34/80\n",
      "912/912 [==============================] - 2s 2ms/sample - loss: 0.0535 - accuracy: 0.9836 - val_loss: 1.3132 - val_accuracy: 0.7067\n",
      "Epoch 35/80\n",
      "912/912 [==============================] - 2s 2ms/sample - loss: 0.0439 - accuracy: 0.9846 - val_loss: 1.0150 - val_accuracy: 0.7467\n",
      "Epoch 36/80\n",
      "912/912 [==============================] - 2s 2ms/sample - loss: 0.0587 - accuracy: 0.9803 - val_loss: 1.1234 - val_accuracy: 0.7067\n",
      "Epoch 37/80\n",
      "912/912 [==============================] - 2s 2ms/sample - loss: 0.0389 - accuracy: 0.9879 - val_loss: 1.2660 - val_accuracy: 0.7267\n",
      "Epoch 38/80\n",
      "912/912 [==============================] - 2s 2ms/sample - loss: 0.0457 - accuracy: 0.9814 - val_loss: 1.5431 - val_accuracy: 0.6800\n",
      "Epoch 39/80\n",
      "912/912 [==============================] - 2s 2ms/sample - loss: 0.0414 - accuracy: 0.9857 - val_loss: 1.2779 - val_accuracy: 0.7467\n",
      "Epoch 40/80\n",
      "912/912 [==============================] - 2s 2ms/sample - loss: 0.0262 - accuracy: 0.9890 - val_loss: 1.5367 - val_accuracy: 0.7067\n",
      "Epoch 41/80\n",
      "912/912 [==============================] - 2s 2ms/sample - loss: 0.0380 - accuracy: 0.9868 - val_loss: 1.2412 - val_accuracy: 0.7200\n",
      "Epoch 42/80\n",
      "912/912 [==============================] - 2s 2ms/sample - loss: 0.0413 - accuracy: 0.9846 - val_loss: 1.3163 - val_accuracy: 0.7200\n",
      "Epoch 43/80\n",
      "912/912 [==============================] - 2s 2ms/sample - loss: 0.0338 - accuracy: 0.9879 - val_loss: 1.1914 - val_accuracy: 0.7400\n",
      "Epoch 44/80\n",
      "912/912 [==============================] - 2s 2ms/sample - loss: 0.0306 - accuracy: 0.9868 - val_loss: 1.2290 - val_accuracy: 0.7400\n",
      "Epoch 45/80\n",
      "912/912 [==============================] - 2s 2ms/sample - loss: 0.0133 - accuracy: 0.9956 - val_loss: 1.4447 - val_accuracy: 0.7533\n",
      "Epoch 46/80\n",
      "912/912 [==============================] - 2s 2ms/sample - loss: 0.0330 - accuracy: 0.9868 - val_loss: 1.3250 - val_accuracy: 0.7533\n",
      "Epoch 47/80\n",
      "912/912 [==============================] - 2s 2ms/sample - loss: 0.0210 - accuracy: 0.9934 - val_loss: 1.4186 - val_accuracy: 0.7600\n",
      "Epoch 48/80\n",
      "912/912 [==============================] - 2s 2ms/sample - loss: 0.0289 - accuracy: 0.9890 - val_loss: 1.5692 - val_accuracy: 0.7400\n",
      "Epoch 49/80\n",
      "912/912 [==============================] - 2s 2ms/sample - loss: 0.0377 - accuracy: 0.9836 - val_loss: 1.3740 - val_accuracy: 0.7467\n",
      "Epoch 50/80\n",
      "912/912 [==============================] - 2s 2ms/sample - loss: 0.0058 - accuracy: 0.9989 - val_loss: 1.7957 - val_accuracy: 0.7067\n",
      "Epoch 51/80\n",
      "912/912 [==============================] - 2s 2ms/sample - loss: 0.0267 - accuracy: 0.9868 - val_loss: 1.5174 - val_accuracy: 0.7400\n",
      "Epoch 52/80\n",
      "912/912 [==============================] - 2s 2ms/sample - loss: 0.0365 - accuracy: 0.9868 - val_loss: 1.4835 - val_accuracy: 0.7200\n",
      "Epoch 53/80\n",
      "912/912 [==============================] - 2s 2ms/sample - loss: 0.0218 - accuracy: 0.9923 - val_loss: 1.5421 - val_accuracy: 0.7200\n",
      "Epoch 54/80\n",
      "912/912 [==============================] - 2s 2ms/sample - loss: 0.0174 - accuracy: 0.9901 - val_loss: 1.9684 - val_accuracy: 0.7333\n",
      "Epoch 55/80\n",
      "912/912 [==============================] - 2s 2ms/sample - loss: 0.0246 - accuracy: 0.9945 - val_loss: 1.4294 - val_accuracy: 0.7400\n",
      "Epoch 56/80\n",
      "912/912 [==============================] - 2s 2ms/sample - loss: 0.0332 - accuracy: 0.9901 - val_loss: 1.4166 - val_accuracy: 0.7200\n",
      "Epoch 57/80\n"
     ]
    },
    {
     "name": "stdout",
     "output_type": "stream",
     "text": [
      "912/912 [==============================] - 2s 2ms/sample - loss: 0.0399 - accuracy: 0.9879 - val_loss: 1.4029 - val_accuracy: 0.7267\n",
      "Epoch 58/80\n",
      "912/912 [==============================] - 2s 2ms/sample - loss: 0.0148 - accuracy: 0.9967 - val_loss: 1.5034 - val_accuracy: 0.7333\n",
      "Epoch 59/80\n",
      "912/912 [==============================] - 2s 2ms/sample - loss: 0.0399 - accuracy: 0.9912 - val_loss: 1.5960 - val_accuracy: 0.7067\n",
      "Epoch 60/80\n",
      "912/912 [==============================] - 2s 2ms/sample - loss: 0.0172 - accuracy: 0.9923 - val_loss: 1.5250 - val_accuracy: 0.7200\n",
      "Epoch 61/80\n",
      "912/912 [==============================] - 2s 2ms/sample - loss: 0.0350 - accuracy: 0.9890 - val_loss: 1.6218 - val_accuracy: 0.7733\n",
      "Epoch 62/80\n",
      "912/912 [==============================] - 2s 2ms/sample - loss: 0.0405 - accuracy: 0.9879 - val_loss: 1.4881 - val_accuracy: 0.7267\n",
      "Epoch 63/80\n",
      "912/912 [==============================] - 2s 2ms/sample - loss: 0.0159 - accuracy: 0.9945 - val_loss: 1.5314 - val_accuracy: 0.7400\n",
      "Epoch 64/80\n",
      "912/912 [==============================] - 2s 2ms/sample - loss: 0.0425 - accuracy: 0.9846 - val_loss: 1.5121 - val_accuracy: 0.7200\n",
      "Epoch 65/80\n",
      "912/912 [==============================] - 2s 2ms/sample - loss: 0.0026 - accuracy: 1.0000 - val_loss: 1.4394 - val_accuracy: 0.7267\n",
      "Epoch 66/80\n",
      "912/912 [==============================] - 2s 2ms/sample - loss: 0.0274 - accuracy: 0.9945 - val_loss: 1.4984 - val_accuracy: 0.7467\n",
      "Epoch 67/80\n",
      "912/912 [==============================] - 2s 2ms/sample - loss: 0.0339 - accuracy: 0.9912 - val_loss: 1.7137 - val_accuracy: 0.7400\n",
      "Epoch 68/80\n",
      "912/912 [==============================] - 2s 2ms/sample - loss: 0.0041 - accuracy: 0.9989 - val_loss: 1.5227 - val_accuracy: 0.7200\n",
      "Epoch 69/80\n",
      "912/912 [==============================] - 2s 2ms/sample - loss: 0.0087 - accuracy: 0.9978 - val_loss: 1.5902 - val_accuracy: 0.7400\n",
      "Epoch 70/80\n",
      "912/912 [==============================] - 2s 2ms/sample - loss: 0.0299 - accuracy: 0.9923 - val_loss: 1.5117 - val_accuracy: 0.7533\n",
      "Epoch 71/80\n",
      "912/912 [==============================] - 2s 2ms/sample - loss: 0.0098 - accuracy: 0.9945 - val_loss: 1.6328 - val_accuracy: 0.7200\n",
      "Epoch 72/80\n",
      "912/912 [==============================] - 2s 2ms/sample - loss: 0.0282 - accuracy: 0.9923 - val_loss: 1.7402 - val_accuracy: 0.7200\n",
      "Epoch 73/80\n",
      "912/912 [==============================] - 2s 2ms/sample - loss: 0.0250 - accuracy: 0.9879 - val_loss: 1.6590 - val_accuracy: 0.7333\n",
      "Epoch 74/80\n",
      "912/912 [==============================] - 2s 2ms/sample - loss: 0.0016 - accuracy: 1.0000 - val_loss: 1.6962 - val_accuracy: 0.7600\n",
      "Epoch 75/80\n",
      "912/912 [==============================] - 2s 2ms/sample - loss: 0.0231 - accuracy: 0.9901 - val_loss: 1.6386 - val_accuracy: 0.7200\n",
      "Epoch 76/80\n",
      "912/912 [==============================] - 2s 2ms/sample - loss: 0.0270 - accuracy: 0.9901 - val_loss: 1.5437 - val_accuracy: 0.7333\n",
      "Epoch 77/80\n",
      "912/912 [==============================] - 2s 2ms/sample - loss: 0.0114 - accuracy: 0.9956 - val_loss: 1.6290 - val_accuracy: 0.7600\n",
      "Epoch 78/80\n",
      "912/912 [==============================] - 2s 2ms/sample - loss: 0.0140 - accuracy: 0.9978 - val_loss: 1.5187 - val_accuracy: 0.7400\n",
      "Epoch 79/80\n",
      "912/912 [==============================] - 2s 2ms/sample - loss: 0.0208 - accuracy: 0.9923 - val_loss: 1.5500 - val_accuracy: 0.7333\n",
      "Epoch 80/80\n",
      "912/912 [==============================] - 2s 2ms/sample - loss: 0.0184 - accuracy: 0.9912 - val_loss: 1.5099 - val_accuracy: 0.7200\n"
     ]
    }
   ],
   "source": [
    "hist = model.fit(x_train, train_y, epochs=80, batch_size=32,\n",
    "                 validation_data = (x_test[:150], test_y[:150]), callbacks=[earlystop])"
   ]
  },
  {
   "cell_type": "code",
   "execution_count": 36,
   "metadata": {},
   "outputs": [
    {
     "name": "stdout",
     "output_type": "stream",
     "text": [
      "[1 1 1 1 1 1 0 0 1 0 0 1 0 0 1 0 0 1 0 1 1 1 1 0 0 0 1 1 0 0 1 1 1 0 1 0 1\n",
      " 1 1 1 0 0 1 0 1 0 1 0 1 1 1 0 1 0 0 1 1 1 1 1 1 1 0 0 1 1 0 0 0 1 0 1 1 1\n",
      " 1 1 0 0 1 1 1 1 1 1 1 1 1 1 0 0 0 1 0 1 0 1 1 1 1 1 1 0 1 1 0 1 1 0 0 0 0\n",
      " 0 0 1 0 1 0 1 1 1 0 1 1 1 0 0 0 1 1 1 1 1 1 0 1 1 0 0 1 0 0 1 0 1 0 1 1 1\n",
      " 1 1 0 0 1 0 1 0 1 1 0 1 0 1 1 1 1 1 1 0 1 1 0 1 1 1 0 1 0 0 1 1 0 0 1 1 1\n",
      " 0 0 0 1 0 1 1 0 1 1 1 0 1 1 0 1 0 0 0 1 0 1 1 1 0 0 1 0 0 1 1 1 0 0 1 0 1\n",
      " 1 0 0 0 1 0]\n"
     ]
    }
   ],
   "source": [
    "Y_pred = model.predict_classes(x_test)\n",
    "y_pred = Y_pred.flatten()\n",
    "\n"
   ]
  },
  {
   "cell_type": "code",
   "execution_count": 37,
   "metadata": {},
   "outputs": [
    {
     "name": "stdout",
     "output_type": "stream",
     "text": [
      "1.0 0.7866667\n"
     ]
    }
   ],
   "source": [
    "print(max(hist.history['accuracy']), max(hist.history['val_accuracy']))"
   ]
  },
  {
   "cell_type": "code",
   "execution_count": 38,
   "metadata": {},
   "outputs": [
    {
     "name": "stdout",
     "output_type": "stream",
     "text": [
      "228/228 [==============================] - 0s 489us/sample - loss: 1.3676 - accuracy: 0.7500\n",
      "[1.367613184870335, 0.75]\n"
     ]
    }
   ],
   "source": [
    "evaluate = model.evaluate(x_test, test_y, batch_size=32)\n",
    "print(evaluate)"
   ]
  },
  {
   "cell_type": "code",
   "execution_count": 39,
   "metadata": {},
   "outputs": [
    {
     "data": {
      "image/png": "[encoded data removed]",
      "text/plain": [
       "<Figure size 432x288 with 2 Axes>"
      ]
     },
     "metadata": {
      "needs_background": "light"
     },
     "output_type": "display_data"
    }
   ],
   "source": [
    "fig, axs = plt.subplots(nrows=1, ncols=2, constrained_layout=True)\n",
    "ax = axs[0]\n",
    "ax.plot(hist.history['loss'], label='train')\n",
    "ax.plot(hist.history['val_loss'], label='val')\n",
    "ax.legend()\n",
    "ax.set_ylabel('loss')\n",
    "ax.set_xlabel('epochs')\n",
    "ax = axs[1] \n",
    "ax.plot(hist.history['accuracy'], label='train')\n",
    "ax.plot(hist.history['val_accuracy'], label='val')\n",
    "ax.legend()\n",
    "ax.set_ylabel('accuracy')\n",
    "ax.set_xlabel('epochs')\n",
    "plt.show()"
   ]
  },
  {
   "cell_type": "code",
   "execution_count": 48,
   "metadata": {},
   "outputs": [
    {
     "name": "stdout",
     "output_type": "stream",
     "text": [
      "[[ 65  29]\n",
      " [ 28 106]]\n"
     ]
    }
   ],
   "source": [
    "cf_matrix = confusion_matrix(y_true=test_y, y_pred=y_pred)\n",
    "print(cf_matrix)"
   ]
  },
  {
   "cell_type": "code",
   "execution_count": 41,
   "metadata": {},
   "outputs": [
    {
     "data": {
      "text/plain": [
       "<matplotlib.axes._subplots.AxesSubplot at 0x7fc11467ab50>"
      ]
     },
     "execution_count": 41,
     "metadata": {},
     "output_type": "execute_result"
    },
    {
     "data": {
      "image/png": "[encoded data removed]",
      "text/plain": [
       "<Figure size 432x288 with 2 Axes>"
      ]
     },
     "metadata": {
      "needs_background": "light"
     },
     "output_type": "display_data"
    }
   ],
   "source": [
    "import seaborn as sns\n",
    "sns.heatmap(cf_matrix, annot=True)"
   ]
  },
  {
   "cell_type": "code",
   "execution_count": 42,
   "metadata": {},
   "outputs": [
    {
     "data": {
      "text/plain": [
       "<matplotlib.axes._subplots.AxesSubplot at 0x7fc11b50a750>"
      ]
     },
     "execution_count": 42,
     "metadata": {},
     "output_type": "execute_result"
    },
    {
     "data": {
      "image/png": "[encoded data removed]",
      "text/plain": [
       "<Figure size 432x288 with 2 Axes>"
      ]
     },
     "metadata": {
      "needs_background": "light"
     },
     "output_type": "display_data"
    }
   ],
   "source": [
    "sns.heatmap(cf_matrix/np.sum(cf_matrix), annot=True, \n",
    "            fmt='.2%', cmap='Blues')"
   ]
  },
  {
   "cell_type": "code",
   "execution_count": 43,
   "metadata": {},
   "outputs": [
    {
     "name": "stdout",
     "output_type": "stream",
     "text": [
      "Precision:  [0.69892473 0.78518519]\n",
      "Recall:  [0.69148936 0.79104478]\n",
      "F-score:  [0.69518717 0.78810409]\n"
     ]
    }
   ],
   "source": [
    "from sklearn.metrics import precision_recall_fscore_support\n",
    "metrics = precision_recall_fscore_support(test_y, y_pred)\n",
    "\n",
    "print(\"Precision: \", metrics[0])\n",
    "print(\"Recall: \", metrics[1])\n",
    "print(\"F-score: \", metrics[2])\n"
   ]
  },
  {
   "cell_type": "code",
   "execution_count": 44,
   "metadata": {},
   "outputs": [
    {
     "name": "stdout",
     "output_type": "stream",
     "text": [
      "              precision    recall  f1-score   support\n",
      "\n",
      "         0.0       0.70      0.69      0.70        94\n",
      "         1.0       0.79      0.79      0.79       134\n",
      "\n",
      "    accuracy                           0.75       228\n",
      "   macro avg       0.74      0.74      0.74       228\n",
      "weighted avg       0.75      0.75      0.75       228\n",
      "\n"
     ]
    }
   ],
   "source": [
    "from sklearn.metrics import classification_report\n",
    "clsfn_rpt = classification_report(y_true=test_y, y_pred=y_pred)\n",
    "print(clsfn_rpt)"
   ]
  },
  {
   "cell_type": "code",
   "execution_count": null,
   "metadata": {},
   "outputs": [],
   "source": [
    "keras.models.save_model(model, \"wav2vec-80-20.h5\")"
   ]
  },
  {
   "cell_type": "code",
   "execution_count": null,
   "metadata": {},
   "outputs": [],
   "source": []
  },
  {
   "cell_type": "code",
   "execution_count": null,
   "metadata": {},
   "outputs": [],
   "source": []
  },
  {
   "cell_type": "code",
   "execution_count": null,
   "metadata": {},
   "outputs": [],
   "source": []
  }
 ],
 "metadata": {
  "kernelspec": {
   "display_name": "Python 3",
   "language": "python",
   "name": "python3"
  },
  "language_info": {
   "codemirror_mode": {
    "name": "ipython",
    "version": 3
   },
   "file_extension": ".py",
   "mimetype": "text/x-python",
   "name": "python",
   "nbconvert_exporter": "python",
   "pygments_lexer": "ipython3",
   "version": "3.7.7"
  }
 },
 "nbformat": 4,
 "nbformat_minor": 4
}
