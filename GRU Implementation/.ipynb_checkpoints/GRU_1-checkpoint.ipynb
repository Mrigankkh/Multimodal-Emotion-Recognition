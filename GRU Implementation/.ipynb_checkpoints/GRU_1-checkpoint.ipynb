{
 "cells": [
  {
   "cell_type": "code",
   "execution_count": 2,
   "metadata": {},
   "outputs": [
    {
     "name": "stdout",
     "output_type": "stream",
     "text": [
      "1142\n"
     ]
    },
    {
     "data": {
      "text/plain": [
       "'test_y = to_categorical(test_y)\\ntrain_y = to_categorical(train_y)\\n'"
      ]
     },
     "execution_count": 2,
     "metadata": {},
     "output_type": "execute_result"
    }
   ],
   "source": [
    "import pandas as pd\n",
    "import os \n",
    "import numpy as np\n",
    "import tensorflow as tf\n",
    "from tensorflow.keras.models import Sequential\n",
    "from tensorflow.keras.layers import Dense, Dropout, GRU\n",
    "from sklearn.model_selection import train_test_split\n",
    "import matplotlib.pyplot as plt\n",
    "from tensorflow.keras.layers import BatchNormalization\n",
    "from sklearn.preprocessing import OneHotEncoder\n",
    "from keras.utils import to_categorical\n",
    "from tensorflow import keras\n",
    "\n",
    "def npz_to_dataFrame():\n",
    "    label = 0\n",
    "    df = pd.DataFrame(columns = [\"Name\", \"Label\"])\n",
    "    for file_name in file:\n",
    "        #if file_name[10] == '2':\n",
    "        if file_name[7] == '1' or file_name[7] == '2' or file_name[7] == '3':\n",
    "            label = 0\n",
    "        elif file_name[7] == '5' or file_name[7] == '7':\n",
    "            label = 1\n",
    "        numpy_data = np.array([[file_name,label]])\n",
    "        df2 = pd.DataFrame(data = numpy_data, columns = [\"Name\", \"Label\"])\n",
    "        df = df.append(df2, ignore_index = True)   \n",
    "    return(df)\n",
    "    \n",
    "file = os.listdir(\"/Users/sanjay/Documents/Audio-Embedding/npz-values/\")    \n",
    "df = npz_to_dataFrame()\n",
    "\n",
    "\n",
    "print(len(df))\n",
    "\n",
    "\n",
    "\n",
    "\n",
    "'''test_y = to_categorical(test_y)\n",
    "train_y = to_categorical(train_y)\n",
    "'''\n"
   ]
  },
  {
   "cell_type": "code",
   "execution_count": 10,
   "metadata": {},
   "outputs": [
    {
     "name": "stdout",
     "output_type": "stream",
     "text": [
      "174 .DS_Store\n",
      "861 .ipynb_checkpoints\n"
     ]
    }
   ],
   "source": [
    "for i in range(len(df)):\n",
    "    if df.Name[i][0] != \"0\":\n",
    "        print(i, df.Name[i])\n",
    "        "
   ]
  },
  {
   "cell_type": "code",
   "execution_count": 11,
   "metadata": {},
   "outputs": [],
   "source": [
    "df1 = df.drop([174,861])\n",
    "df = df1"
   ]
  },
  {
   "cell_type": "code",
   "execution_count": 12,
   "metadata": {},
   "outputs": [
    {
     "name": "stdout",
     "output_type": "stream",
     "text": [
      "300\n"
     ]
    }
   ],
   "source": [
    "train_y = df.Label\n",
    "train_y = np.array(train_y)\n",
    "#y = y.reshape(-1, 1)\n",
    "train_x = df.drop('Label', axis = 1)\n",
    "'''enc = OneHotEncoder()\n",
    "y = enc.fit(y).categories\n",
    "print(y)'''\n",
    "file = os.listdir(\"/Users/sanjay/Documents/Audio-Embedding/test_npz_values/\")    \n",
    "df = npz_to_dataFrame()\n",
    "'''df1 = df.drop([210,1088])\n",
    "df = df1'''\n",
    "print(len(df))\n",
    "test_y = df.Label\n",
    "test_y = np.array(test_y)\n",
    "#y = y.reshape(-1, 1)\n",
    "test_x = df.drop('Label', axis = 1)"
   ]
  },
  {
   "cell_type": "code",
   "execution_count": 13,
   "metadata": {},
   "outputs": [
    {
     "name": "stdout",
     "output_type": "stream",
     "text": [
      "['0' '0' '0' '0' '0' '0' '0' '0' '0' '0' '0' '0' '0' '0' '0' '0' '0' '0'\n",
      " '1' '1' '1' '1' '0' '0' '1' '1' '0' '0' '0' '1' '0' '1' '1' '1' '1' '0'\n",
      " '1' '1' '1' '0' '0' '0' '0' '0' '1' '1' '1' '1' '1' '1' '1' '1' '1' '1'\n",
      " '1' '1' '1' '1' '1' '1' '1' '1' '1' '1' '1' '1' '1' '1' '1' '1' '1' '1'\n",
      " '1' '1' '1' '0' '0' '1' '1' '1' '0' '0' '0' '1' '0' '0' '0' '1' '1' '1'\n",
      " '1' '1' '1' '1' '1' '1' '1' '1' '1' '1' '1' '1' '1' '1' '1' '1' '1' '1'\n",
      " '1' '1' '1' '1' '1' '1' '1' '1' '1' '1' '1' '1' '0' '0' '0' '0' '0' '0'\n",
      " '0' '0' '0' '0' '0' '0' '0' '0' '0' '0' '0' '0' '0' '1' '1' '1' '0' '0'\n",
      " '0' '1' '0' '0' '1' '1' '1' '1' '1' '1' '1' '1' '1' '1' '1' '1' '1' '1'\n",
      " '1' '0' '0' '0' '0' '0' '1' '0' '1' '1' '1' '1' '0' '0' '1' '1' '1' '1'\n",
      " '1' '1' '1' '1' '1' '1' '1' '1' '1' '1' '1' '1' '1' '1' '1' '0' '0' '0'\n",
      " '0' '0' '0' '0' '0' '0' '0' '0' '0' '1' '1' '0' '0' '0' '1' '0' '0' '1'\n",
      " '1' '1' '1' '0' '0' '0' '0' '0' '0' '0' '0' '0' '0' '0' '0' '0' '0' '0'\n",
      " '0' '0' '0' '0' '1' '0' '0' '1' '1' '0' '0' '0' '1' '1' '1' '0' '0' '0'\n",
      " '0' '0' '0' '0' '1' '1' '1' '1' '1' '1' '1' '1' '1' '1' '1' '1' '0' '0'\n",
      " '0' '1' '1' '1' '0' '0' '1' '1' '1' '0' '1' '1' '1' '1' '1' '1' '1' '1'\n",
      " '1' '1' '1' '1' '1' '1' '1' '1' '1' '1' '1' '1']\n"
     ]
    }
   ],
   "source": [
    "print(test_y)"
   ]
  },
  {
   "cell_type": "code",
   "execution_count": 14,
   "metadata": {},
   "outputs": [],
   "source": [
    "def get_train_data(df, max_len):\n",
    "    numpy_array = []\n",
    "    numpy_array_2 = []\n",
    "    zero_array = np.array([0]*512)\n",
    "    for i in range(len(df)):\n",
    "        try:\n",
    "            numpy_array_name = df.iloc[i].Name\n",
    "            numpy_array = np.load(\"/Users/sanjay/Documents/Audio-Embedding/npz-values/\" + numpy_array_name, allow_pickle=True)\n",
    "            numpy_array_1 = numpy_array.f.arr_0\n",
    "            numpy_array_2.append(numpy_array_1)\n",
    "            \n",
    "        except:\n",
    "            print(i)\n",
    "    numpy_array_3 = [[[]]]\n",
    "    for i in range(len(numpy_array_2)):\n",
    "        numpy_array_2[i] = np.transpose(numpy_array_2[i])\n",
    "        if max_len - len(numpy_array_2[i]) != 0:\n",
    "            for j in range((max_len - len(numpy_array_2[i]))):\n",
    "                numpy_array_2[i] = np.append(numpy_array_2[i],[zero_array],axis = 0)\n",
    "        numpy_array_2[i] = np.transpose(numpy_array_2[i])\n",
    "    for i in range(len(numpy_array_2)):\n",
    "        for j in range(len(numpy_array_2[i])):\n",
    "            k = 0\n",
    "            l = 0\n",
    "            while k<=519:\n",
    "                numpy_array_3.append(sum(numpy_array_2[i][j][k:k+10])/10)\n",
    "                k += 10    \n",
    "            numpy_array_3.append(sum(numpy_array_2[i][j][k:k+5])/5)\n",
    "    return np.array(numpy_array_3)\n",
    "    "
   ]
  },
  {
   "cell_type": "code",
   "execution_count": 15,
   "metadata": {},
   "outputs": [],
   "source": [
    "def get_test_data(df, max_len):\n",
    "    numpy_array = []\n",
    "    numpy_array_2 = []\n",
    "    zero_array = np.array([0]*512)\n",
    "    for i in range(len(df)):\n",
    "        try:\n",
    "            numpy_array_name = df.iloc[i].Name\n",
    "            numpy_array = np.load(\"/Users/sanjay/Documents/Audio-Embedding/test_npz_values/\" + numpy_array_name, allow_pickle=True)\n",
    "            numpy_array_1 = numpy_array.f.arr_0\n",
    "            numpy_array_2.append(numpy_array_1)\n",
    "            \n",
    "        except:\n",
    "            print(i)\n",
    "    \n",
    "    numpy_array_3 = [[[]]]\n",
    "    for i in range(len(numpy_array_2)):\n",
    "        numpy_array_2[i] = np.transpose(numpy_array_2[i])\n",
    "        if max_len - len(numpy_array_2[i]) != 0:\n",
    "            for j in range((max_len - len(numpy_array_2[i]))):\n",
    "                numpy_array_2[i] = np.append(numpy_array_2[i],[zero_array],axis = 0)\n",
    "        numpy_array_2[i] = np.transpose(numpy_array_2[i])\n",
    "    for i in range(len(numpy_array_2)):\n",
    "        for j in range(len(numpy_array_2[i])):\n",
    "            k = 0\n",
    "            l = 0\n",
    "            while k<=519:\n",
    "                numpy_array_3.append(sum(numpy_array_2[i][j][k:k+10])/10)\n",
    "                k += 10    \n",
    "            numpy_array_3.append(sum(numpy_array_2[i][j][k:k+5])/5)\n",
    "    return np.array(numpy_array_3)\n",
    "    "
   ]
  },
  {
   "cell_type": "code",
   "execution_count": 16,
   "metadata": {},
   "outputs": [],
   "source": [
    "def get_maxlen(df):\n",
    "    numpy_array = []\n",
    "    numpy_array_2 = []\n",
    "    for i in range(len(df)):\n",
    "            numpy_array_name = df.iloc[i].Name\n",
    "            numpy_array = np.load(\"/Users/sanjay/Documents/Audio-Embedding/npz-values/\" + numpy_array_name, allow_pickle=True)\n",
    "            numpy_array_1 = numpy_array.f.arr_0\n",
    "            numpy_array_2.append(numpy_array_1)\n",
    "    max_len = 0\n",
    "    for i in range(len(numpy_array_2)):\n",
    "        for j in range(len(numpy_array_2[i])):\n",
    "            if len(numpy_array_2[i][j]) > max_len:\n",
    "                max_len = len(numpy_array_2[i][j])\n",
    "    return max_len, numpy_array_2"
   ]
  },
  {
   "cell_type": "code",
   "execution_count": 17,
   "metadata": {},
   "outputs": [
    {
     "name": "stderr",
     "output_type": "stream",
     "text": [
      "/Users/sanjay/anaconda3/lib/python3.7/site-packages/ipykernel_launcher.py:29: VisibleDeprecationWarning: Creating an ndarray from ragged nested sequences (which is a list-or-tuple of lists-or-tuples-or ndarrays with different lengths or shapes) is deprecated. If you meant to do this, you must specify 'dtype=object' when creating the ndarray\n"
     ]
    },
    {
     "name": "stdout",
     "output_type": "stream",
     "text": [
      "(300, 53, 512) (1140, 53, 512) (1140,) (300,)\n"
     ]
    },
    {
     "name": "stderr",
     "output_type": "stream",
     "text": [
      "/Users/sanjay/anaconda3/lib/python3.7/site-packages/ipykernel_launcher.py:30: VisibleDeprecationWarning: Creating an ndarray from ragged nested sequences (which is a list-or-tuple of lists-or-tuples-or ndarrays with different lengths or shapes) is deprecated. If you meant to do this, you must specify 'dtype=object' when creating the ndarray\n"
     ]
    }
   ],
   "source": [
    "#max_len , numpy_array_2 = get_maxlen()\n",
    "max_len = 525 #maximum duration of the audio\n",
    "x_train = get_train_data(train_x, max_len)\n",
    "x_train = x_train[1:]\n",
    "x_train = np.array(x_train)\n",
    "x_train= x_train.reshape((1140, 53, 512))\n",
    "\n",
    "x_test = get_test_data(test_x, max_len)\n",
    "x_test = x_test[1:]\n",
    "x_test = np.array(x_test)\n",
    "x_test= x_test.reshape((300, 53, 512))\n",
    "\n",
    "print(x_test.shape, x_train.shape, train_y.shape, test_y.shape)\n",
    "\n"
   ]
  },
  {
   "cell_type": "code",
   "execution_count": 18,
   "metadata": {},
   "outputs": [],
   "source": [
    "x_train = np.asarray(x_train).astype(np.float32)\n",
    "train_y = np.asarray(train_y).astype(np.float32)\n",
    "x_test =  np.asarray(x_test).astype(np.float32)\n",
    "test_y = np.asarray(test_y).astype(np.float32)"
   ]
  },
  {
   "cell_type": "code",
   "execution_count": 19,
   "metadata": {},
   "outputs": [
    {
     "name": "stdout",
     "output_type": "stream",
     "text": [
      "53\n",
      "1140\n"
     ]
    }
   ],
   "source": [
    "n_dim = x_train.shape[1]  \n",
    "n_classes = train_y.shape[0] \n",
    "print(n_dim)\n",
    "print(n_classes)\n",
    "#print(test_x)"
   ]
  },
  {
   "cell_type": "code",
   "execution_count": 20,
   "metadata": {},
   "outputs": [],
   "source": [
    "from keras.callbacks import EarlyStopping, ModelCheckpoint\n",
    "\n",
    "earlystop = EarlyStopping(monitor='val_loss', mode='min', patience=75, restore_best_weights=True)\n",
    "checkpointer = ModelCheckpoint(filepath='/tmp/weights.hdf5', verbose=1, save_best_only=True)\n"
   ]
  },
  {
   "cell_type": "code",
   "execution_count": 21,
   "metadata": {},
   "outputs": [
    {
     "name": "stdout",
     "output_type": "stream",
     "text": [
      "Model: \"sequential\"\n",
      "_________________________________________________________________\n",
      "Layer (type)                 Output Shape              Param #   \n",
      "=================================================================\n",
      "batch_normalization (BatchNo (None, 53, 512)           2048      \n",
      "_________________________________________________________________\n",
      "gru (GRU)                    (None, 53)                90153     \n",
      "_________________________________________________________________\n",
      "dense (Dense)                (None, 26)                1404      \n",
      "_________________________________________________________________\n",
      "dense_1 (Dense)              (None, 13)                351       \n",
      "_________________________________________________________________\n",
      "dense_2 (Dense)              (None, 1)                 14        \n",
      "=================================================================\n",
      "Total params: 93,970\n",
      "Trainable params: 92,946\n",
      "Non-trainable params: 1,024\n",
      "_________________________________________________________________\n",
      "None\n"
     ]
    }
   ],
   "source": [
    "from sklearn.model_selection import GridSearchCV\n",
    "from keras.wrappers.scikit_learn import KerasClassifier\n",
    "from keras.constraints import maxnorm\n",
    "\n",
    "\n",
    "def create_model():  \n",
    "    model = Sequential()\n",
    "    model.add(BatchNormalization(axis=-1, input_shape=(53,512)))\n",
    "    model.add(GRU(n_dim, dropout = 0.1, return_sequences=False, recurrent_dropout = 0.2))\n",
    "    model.add(Dense(26,activation = \"sigmoid\"))\n",
    "    model.add(Dense(13,activation = \"sigmoid\"))\n",
    "    model.add(Dense(1, kernel_initializer='uniform', activation='sigmoid'))          \n",
    "    keras.optimizers.Adam(lr=1e-5, decay=1e-6)\n",
    "    model.compile(loss='binary_crossentropy', metrics=['accuracy'])  \n",
    "    return model\n",
    "   \n",
    "  \n",
    "model = create_model()\n",
    "print(model.summary())"
   ]
  },
  {
   "cell_type": "code",
   "execution_count": 22,
   "metadata": {},
   "outputs": [
    {
     "name": "stdout",
     "output_type": "stream",
     "text": [
      "Epoch 1/80\n",
      "72/72 [==============================] - 6s 59ms/step - loss: 0.6864 - accuracy: 0.5465 - val_loss: 0.6732 - val_accuracy: 0.5867\n",
      "Epoch 2/80\n",
      "72/72 [==============================] - 4s 54ms/step - loss: 0.6546 - accuracy: 0.5892 - val_loss: 0.6409 - val_accuracy: 0.5867\n",
      "Epoch 3/80\n",
      "72/72 [==============================] - 4s 53ms/step - loss: 0.6185 - accuracy: 0.6290 - val_loss: 0.6132 - val_accuracy: 0.7333\n",
      "Epoch 4/80\n",
      "72/72 [==============================] - 4s 52ms/step - loss: 0.5928 - accuracy: 0.7524 - val_loss: 0.6094 - val_accuracy: 0.7000\n",
      "Epoch 5/80\n",
      "72/72 [==============================] - 4s 52ms/step - loss: 0.5642 - accuracy: 0.7764 - val_loss: 0.5674 - val_accuracy: 0.7333\n",
      "Epoch 6/80\n",
      "72/72 [==============================] - 4s 51ms/step - loss: 0.5205 - accuracy: 0.7986 - val_loss: 0.5923 - val_accuracy: 0.7467\n",
      "Epoch 7/80\n",
      "72/72 [==============================] - 4s 52ms/step - loss: 0.4856 - accuracy: 0.8159 - val_loss: 0.5918 - val_accuracy: 0.7067\n",
      "Epoch 8/80\n",
      "72/72 [==============================] - 4s 51ms/step - loss: 0.4500 - accuracy: 0.8284 - val_loss: 0.5524 - val_accuracy: 0.7467\n",
      "Epoch 9/80\n",
      "72/72 [==============================] - 4s 51ms/step - loss: 0.4254 - accuracy: 0.8525 - val_loss: 0.7213 - val_accuracy: 0.5800\n",
      "Epoch 10/80\n",
      "72/72 [==============================] - 4s 51ms/step - loss: 0.3994 - accuracy: 0.8561 - val_loss: 0.5728 - val_accuracy: 0.7667\n",
      "Epoch 11/80\n",
      "72/72 [==============================] - 4s 51ms/step - loss: 0.4017 - accuracy: 0.8424 - val_loss: 0.6087 - val_accuracy: 0.7133\n",
      "Epoch 12/80\n",
      "72/72 [==============================] - 4s 51ms/step - loss: 0.3543 - accuracy: 0.8722 - val_loss: 0.7092 - val_accuracy: 0.6267\n",
      "Epoch 13/80\n",
      "72/72 [==============================] - 4s 50ms/step - loss: 0.3028 - accuracy: 0.8966 - val_loss: 0.5802 - val_accuracy: 0.7400\n",
      "Epoch 14/80\n",
      "72/72 [==============================] - 4s 51ms/step - loss: 0.3130 - accuracy: 0.8948 - val_loss: 0.8298 - val_accuracy: 0.5867\n",
      "Epoch 15/80\n",
      "72/72 [==============================] - 4s 49ms/step - loss: 0.3329 - accuracy: 0.8843 - val_loss: 0.6680 - val_accuracy: 0.7000\n",
      "Epoch 16/80\n",
      "72/72 [==============================] - 4s 50ms/step - loss: 0.2794 - accuracy: 0.9104 - val_loss: 0.6393 - val_accuracy: 0.7000\n",
      "Epoch 17/80\n",
      "72/72 [==============================] - 3s 44ms/step - loss: 0.2608 - accuracy: 0.9143 - val_loss: 0.6495 - val_accuracy: 0.7067\n",
      "Epoch 18/80\n",
      "72/72 [==============================] - 3s 45ms/step - loss: 0.2501 - accuracy: 0.9259 - val_loss: 0.6450 - val_accuracy: 0.7400\n",
      "Epoch 19/80\n",
      "72/72 [==============================] - 3s 46ms/step - loss: 0.2437 - accuracy: 0.9246 - val_loss: 0.6816 - val_accuracy: 0.7267\n",
      "Epoch 20/80\n",
      "72/72 [==============================] - 3s 47ms/step - loss: 0.2100 - accuracy: 0.9267 - val_loss: 0.6628 - val_accuracy: 0.7333\n",
      "Epoch 21/80\n",
      "72/72 [==============================] - 3s 45ms/step - loss: 0.1983 - accuracy: 0.9384 - val_loss: 0.7058 - val_accuracy: 0.7200\n",
      "Epoch 22/80\n",
      "72/72 [==============================] - 3s 46ms/step - loss: 0.2135 - accuracy: 0.9348 - val_loss: 0.7139 - val_accuracy: 0.7000\n",
      "Epoch 23/80\n",
      "72/72 [==============================] - 3s 45ms/step - loss: 0.1893 - accuracy: 0.9390 - val_loss: 0.7975 - val_accuracy: 0.6800\n",
      "Epoch 24/80\n",
      "72/72 [==============================] - 3s 45ms/step - loss: 0.1631 - accuracy: 0.9560 - val_loss: 0.8193 - val_accuracy: 0.7067\n",
      "Epoch 25/80\n",
      "72/72 [==============================] - 3s 45ms/step - loss: 0.1343 - accuracy: 0.9623 - val_loss: 0.8270 - val_accuracy: 0.7200\n",
      "Epoch 26/80\n",
      "72/72 [==============================] - 3s 45ms/step - loss: 0.1692 - accuracy: 0.9474 - val_loss: 0.7804 - val_accuracy: 0.7133\n",
      "Epoch 27/80\n",
      "72/72 [==============================] - 3s 45ms/step - loss: 0.1334 - accuracy: 0.9643 - val_loss: 1.0613 - val_accuracy: 0.6000\n",
      "Epoch 28/80\n",
      "72/72 [==============================] - 3s 45ms/step - loss: 0.1247 - accuracy: 0.9518 - val_loss: 0.7832 - val_accuracy: 0.7400\n",
      "Epoch 29/80\n",
      "72/72 [==============================] - 3s 45ms/step - loss: 0.1462 - accuracy: 0.9556 - val_loss: 0.7599 - val_accuracy: 0.7600\n",
      "Epoch 30/80\n",
      "72/72 [==============================] - 3s 45ms/step - loss: 0.1039 - accuracy: 0.9739 - val_loss: 0.8752 - val_accuracy: 0.7400\n",
      "Epoch 31/80\n",
      "72/72 [==============================] - 3s 46ms/step - loss: 0.0757 - accuracy: 0.9802 - val_loss: 1.1741 - val_accuracy: 0.6333\n",
      "Epoch 32/80\n",
      "72/72 [==============================] - 3s 46ms/step - loss: 0.1094 - accuracy: 0.9708 - val_loss: 0.7866 - val_accuracy: 0.7333\n",
      "Epoch 33/80\n",
      "72/72 [==============================] - 3s 48ms/step - loss: 0.1319 - accuracy: 0.9579 - val_loss: 0.9648 - val_accuracy: 0.6867\n",
      "Epoch 34/80\n",
      "72/72 [==============================] - 3s 46ms/step - loss: 0.0982 - accuracy: 0.9713 - val_loss: 1.2708 - val_accuracy: 0.5667\n",
      "Epoch 35/80\n",
      "72/72 [==============================] - 3s 45ms/step - loss: 0.0927 - accuracy: 0.9708 - val_loss: 0.8332 - val_accuracy: 0.7667\n",
      "Epoch 36/80\n",
      "72/72 [==============================] - 3s 47ms/step - loss: 0.0759 - accuracy: 0.9821 - val_loss: 1.0434 - val_accuracy: 0.6933\n",
      "Epoch 37/80\n",
      "72/72 [==============================] - 4s 50ms/step - loss: 0.0680 - accuracy: 0.9835 - val_loss: 0.9176 - val_accuracy: 0.7400\n",
      "Epoch 38/80\n",
      "72/72 [==============================] - 3s 45ms/step - loss: 0.0454 - accuracy: 0.9887 - val_loss: 1.0797 - val_accuracy: 0.7067\n",
      "Epoch 39/80\n",
      "72/72 [==============================] - 3s 45ms/step - loss: 0.0773 - accuracy: 0.9771 - val_loss: 1.0892 - val_accuracy: 0.7200\n",
      "Epoch 40/80\n",
      "72/72 [==============================] - 3s 46ms/step - loss: 0.0589 - accuracy: 0.9814 - val_loss: 1.0624 - val_accuracy: 0.7133\n",
      "Epoch 41/80\n",
      "72/72 [==============================] - 3s 46ms/step - loss: 0.0772 - accuracy: 0.9799 - val_loss: 0.8430 - val_accuracy: 0.7800\n",
      "Epoch 42/80\n",
      "72/72 [==============================] - 3s 46ms/step - loss: 0.0635 - accuracy: 0.9852 - val_loss: 1.1133 - val_accuracy: 0.7000\n",
      "Epoch 43/80\n",
      "72/72 [==============================] - 3s 45ms/step - loss: 0.0623 - accuracy: 0.9801 - val_loss: 1.2022 - val_accuracy: 0.6867\n",
      "Epoch 44/80\n",
      "72/72 [==============================] - 3s 46ms/step - loss: 0.0483 - accuracy: 0.9853 - val_loss: 1.0325 - val_accuracy: 0.7267\n",
      "Epoch 45/80\n",
      "72/72 [==============================] - 3s 45ms/step - loss: 0.0564 - accuracy: 0.9874 - val_loss: 1.0521 - val_accuracy: 0.7400\n",
      "Epoch 46/80\n",
      "72/72 [==============================] - 3s 45ms/step - loss: 0.0493 - accuracy: 0.9894 - val_loss: 0.9128 - val_accuracy: 0.7667\n",
      "Epoch 47/80\n",
      "72/72 [==============================] - 3s 45ms/step - loss: 0.0524 - accuracy: 0.9755 - val_loss: 1.2251 - val_accuracy: 0.7000\n",
      "Epoch 48/80\n",
      "72/72 [==============================] - 3s 45ms/step - loss: 0.0410 - accuracy: 0.9911 - val_loss: 1.2740 - val_accuracy: 0.6533\n",
      "Epoch 49/80\n",
      "72/72 [==============================] - 3s 45ms/step - loss: 0.0316 - accuracy: 0.9947 - val_loss: 1.0553 - val_accuracy: 0.7333\n",
      "Epoch 50/80\n",
      "72/72 [==============================] - 3s 45ms/step - loss: 0.1034 - accuracy: 0.9686 - val_loss: 1.0416 - val_accuracy: 0.7333\n",
      "Epoch 51/80\n",
      "72/72 [==============================] - 3s 45ms/step - loss: 0.0556 - accuracy: 0.9833 - val_loss: 1.1540 - val_accuracy: 0.7200\n",
      "Epoch 52/80\n",
      "72/72 [==============================] - 3s 45ms/step - loss: 0.0411 - accuracy: 0.9902 - val_loss: 1.3289 - val_accuracy: 0.6800\n",
      "Epoch 53/80\n",
      "72/72 [==============================] - 3s 45ms/step - loss: 0.0299 - accuracy: 0.9923 - val_loss: 1.2914 - val_accuracy: 0.6933\n",
      "Epoch 54/80\n",
      "72/72 [==============================] - 3s 45ms/step - loss: 0.0564 - accuracy: 0.9844 - val_loss: 1.1854 - val_accuracy: 0.6800\n",
      "Epoch 55/80\n",
      "72/72 [==============================] - 3s 45ms/step - loss: 0.0602 - accuracy: 0.9840 - val_loss: 1.0824 - val_accuracy: 0.7133\n",
      "Epoch 56/80\n",
      "72/72 [==============================] - 3s 45ms/step - loss: 0.0423 - accuracy: 0.9878 - val_loss: 1.1784 - val_accuracy: 0.7200\n",
      "Epoch 57/80\n",
      "72/72 [==============================] - 3s 45ms/step - loss: 0.0308 - accuracy: 0.9900 - val_loss: 1.4891 - val_accuracy: 0.6667\n",
      "Epoch 58/80\n",
      "72/72 [==============================] - 3s 46ms/step - loss: 0.0411 - accuracy: 0.9870 - val_loss: 1.3674 - val_accuracy: 0.6667\n"
     ]
    },
    {
     "name": "stdout",
     "output_type": "stream",
     "text": [
      "Epoch 59/80\n",
      "72/72 [==============================] - 3s 44ms/step - loss: 0.0638 - accuracy: 0.9808 - val_loss: 1.1115 - val_accuracy: 0.7400\n",
      "Epoch 60/80\n",
      "72/72 [==============================] - 3s 44ms/step - loss: 0.0305 - accuracy: 0.9917 - val_loss: 1.1424 - val_accuracy: 0.7400\n",
      "Epoch 61/80\n",
      "72/72 [==============================] - 3s 45ms/step - loss: 0.0415 - accuracy: 0.9896 - val_loss: 1.2378 - val_accuracy: 0.7467\n",
      "Epoch 62/80\n",
      "72/72 [==============================] - 3s 45ms/step - loss: 0.0330 - accuracy: 0.9935 - val_loss: 1.3480 - val_accuracy: 0.7267\n",
      "Epoch 63/80\n",
      "72/72 [==============================] - 3s 44ms/step - loss: 0.0563 - accuracy: 0.9853 - val_loss: 1.4491 - val_accuracy: 0.6733\n",
      "Epoch 64/80\n",
      "72/72 [==============================] - 3s 44ms/step - loss: 0.0427 - accuracy: 0.9908 - val_loss: 1.3238 - val_accuracy: 0.7133\n",
      "Epoch 65/80\n",
      "72/72 [==============================] - 3s 44ms/step - loss: 0.0312 - accuracy: 0.9927 - val_loss: 1.5185 - val_accuracy: 0.6400\n",
      "Epoch 66/80\n",
      "72/72 [==============================] - 3s 45ms/step - loss: 0.0394 - accuracy: 0.9915 - val_loss: 1.2337 - val_accuracy: 0.7333\n",
      "Epoch 67/80\n",
      "72/72 [==============================] - 3s 45ms/step - loss: 0.0519 - accuracy: 0.9875 - val_loss: 1.2481 - val_accuracy: 0.7267\n",
      "Epoch 68/80\n",
      "72/72 [==============================] - 3s 44ms/step - loss: 0.0129 - accuracy: 0.9977 - val_loss: 1.0535 - val_accuracy: 0.7800\n",
      "Epoch 69/80\n",
      "72/72 [==============================] - 3s 44ms/step - loss: 0.0518 - accuracy: 0.9866 - val_loss: 1.1648 - val_accuracy: 0.7267\n",
      "Epoch 70/80\n",
      "72/72 [==============================] - 3s 44ms/step - loss: 0.0356 - accuracy: 0.9899 - val_loss: 1.1412 - val_accuracy: 0.7400\n",
      "Epoch 71/80\n",
      "72/72 [==============================] - 3s 44ms/step - loss: 0.0475 - accuracy: 0.9890 - val_loss: 1.2633 - val_accuracy: 0.7400\n",
      "Epoch 72/80\n",
      "72/72 [==============================] - 3s 44ms/step - loss: 0.0237 - accuracy: 0.9947 - val_loss: 1.3871 - val_accuracy: 0.6867\n",
      "Epoch 73/80\n",
      "72/72 [==============================] - 3s 44ms/step - loss: 0.0226 - accuracy: 0.9942 - val_loss: 1.3084 - val_accuracy: 0.7200\n",
      "Epoch 74/80\n",
      "72/72 [==============================] - 3s 44ms/step - loss: 0.0238 - accuracy: 0.9923 - val_loss: 1.3387 - val_accuracy: 0.7200\n",
      "Epoch 75/80\n",
      "72/72 [==============================] - 3s 44ms/step - loss: 0.0246 - accuracy: 0.9936 - val_loss: 1.5046 - val_accuracy: 0.6733\n",
      "Epoch 76/80\n",
      "72/72 [==============================] - 3s 46ms/step - loss: 0.0229 - accuracy: 0.9936 - val_loss: 1.5682 - val_accuracy: 0.6600\n",
      "Epoch 77/80\n",
      "72/72 [==============================] - 3s 45ms/step - loss: 0.0437 - accuracy: 0.9839 - val_loss: 1.1725 - val_accuracy: 0.7533\n",
      "Epoch 78/80\n",
      "72/72 [==============================] - 3s 45ms/step - loss: 0.0402 - accuracy: 0.9868 - val_loss: 1.3257 - val_accuracy: 0.7400\n",
      "Epoch 79/80\n",
      "72/72 [==============================] - 3s 48ms/step - loss: 0.0343 - accuracy: 0.9917 - val_loss: 1.3797 - val_accuracy: 0.7067\n",
      "Epoch 80/80\n",
      "72/72 [==============================] - 3s 45ms/step - loss: 0.0309 - accuracy: 0.9889 - val_loss: 1.2904 - val_accuracy: 0.7267\n"
     ]
    }
   ],
   "source": [
    "hist = model.fit(x_train, train_y, epochs=80, batch_size=16,\n",
    "                 validation_data = (x_test[:150], test_y[:150]), callbacks=[earlystop])"
   ]
  },
  {
   "cell_type": "code",
   "execution_count": 23,
   "metadata": {},
   "outputs": [
    {
     "name": "stdout",
     "output_type": "stream",
     "text": [
      "0.7059166684746743\n"
     ]
    }
   ],
   "source": [
    "print(sum(hist.history['val_accuracy'])/len(hist.history['val_accuracy']))"
   ]
  },
  {
   "cell_type": "code",
   "execution_count": 24,
   "metadata": {},
   "outputs": [
    {
     "name": "stdout",
     "output_type": "stream",
     "text": [
      "0.9938596487045288 0.7799999713897705\n"
     ]
    }
   ],
   "source": [
    "print(max(hist.history['accuracy']), max(hist.history['val_accuracy']))"
   ]
  },
  {
   "cell_type": "code",
   "execution_count": 25,
   "metadata": {},
   "outputs": [
    {
     "name": "stdout",
     "output_type": "stream",
     "text": [
      "[0.5866666436195374, 0.5866666436195374, 0.7333333492279053, 0.699999988079071, 0.7333333492279053, 0.746666669845581, 0.7066666483879089, 0.746666669845581, 0.5799999833106995, 0.7666666507720947, 0.7133333086967468, 0.6266666650772095, 0.7400000095367432, 0.5866666436195374, 0.699999988079071, 0.699999988079071, 0.7066666483879089, 0.7400000095367432, 0.7266666889190674, 0.7333333492279053, 0.7200000286102295, 0.699999988079071, 0.6800000071525574, 0.7066666483879089, 0.7200000286102295, 0.7133333086967468, 0.6000000238418579, 0.7400000095367432, 0.7599999904632568, 0.7400000095367432, 0.6333333253860474, 0.7333333492279053, 0.6866666674613953, 0.5666666626930237, 0.7666666507720947, 0.6933333277702332, 0.7400000095367432, 0.7066666483879089, 0.7200000286102295, 0.7133333086967468, 0.7799999713897705, 0.699999988079071, 0.6866666674613953, 0.7266666889190674, 0.7400000095367432, 0.7666666507720947, 0.699999988079071, 0.653333306312561, 0.7333333492279053, 0.7333333492279053, 0.7200000286102295, 0.6800000071525574, 0.6933333277702332, 0.6800000071525574, 0.7133333086967468, 0.7200000286102295, 0.6666666865348816, 0.6666666865348816, 0.7400000095367432, 0.7400000095367432, 0.746666669845581, 0.7266666889190674, 0.6733333468437195, 0.7133333086967468, 0.6399999856948853, 0.7333333492279053, 0.7266666889190674, 0.7799999713897705, 0.7266666889190674, 0.7400000095367432, 0.7400000095367432, 0.6866666674613953, 0.7200000286102295, 0.7200000286102295, 0.6733333468437195, 0.6600000262260437, 0.753333330154419, 0.7400000095367432, 0.7066666483879089, 0.7266666889190674]\n"
     ]
    }
   ],
   "source": [
    "print(hist.history['val_accuracy'])"
   ]
  },
  {
   "cell_type": "code",
   "execution_count": 76,
   "metadata": {},
   "outputs": [
    {
     "ename": "NameError",
     "evalue": "name 'y_test' is not defined",
     "output_type": "error",
     "traceback": [
      "\u001b[0;31m---------------------------------------------------------------------------\u001b[0m",
      "\u001b[0;31mNameError\u001b[0m                                 Traceback (most recent call last)",
      "\u001b[0;32m<ipython-input-76-e5d1ce60f3bf>\u001b[0m in \u001b[0;36m<module>\u001b[0;34m\u001b[0m\n\u001b[0;32m----> 1\u001b[0;31m \u001b[0mprint\u001b[0m\u001b[0;34m(\u001b[0m\u001b[0my_test\u001b[0m\u001b[0;34m[\u001b[0m\u001b[0;36m150\u001b[0m\u001b[0;34m:\u001b[0m\u001b[0;34m]\u001b[0m\u001b[0;34m)\u001b[0m\u001b[0;34m\u001b[0m\u001b[0;34m\u001b[0m\u001b[0m\n\u001b[0m",
      "\u001b[0;31mNameError\u001b[0m: name 'y_test' is not defined"
     ]
    }
   ],
   "source": [
    "print(y_test[150:])"
   ]
  },
  {
   "cell_type": "code",
   "execution_count": 73,
   "metadata": {},
   "outputs": [
    {
     "name": "stdout",
     "output_type": "stream",
     "text": [
      "[1. 1. 1. 1. 1. 1. 1. 1. 1. 1. 1. 1. 1. 0. 0. 0. 0. 0. 1. 0. 1. 1. 1. 1.\n",
      " 0. 0. 1. 1. 1. 1. 1. 1. 1. 1. 1. 1. 1. 1. 1. 1. 1. 1. 1. 1. 1. 0. 0. 0.\n",
      " 0. 0. 0. 0. 0. 0. 0. 0. 0. 1. 1. 0. 0. 0. 1. 0. 0. 1. 1. 1. 1. 0. 0. 0.\n",
      " 0. 0. 0. 0. 0. 0. 0. 0. 0. 0. 0. 0. 0. 0. 0. 0. 1. 0. 0. 1. 1. 0. 0. 0.\n",
      " 1. 1. 1. 0. 0. 0. 0. 0. 0. 0. 1. 1. 1. 1. 1. 1. 1. 1. 1. 1. 1. 1. 0. 0.\n",
      " 0. 1. 1. 1. 0. 0. 1. 1. 1. 0. 1. 1. 1. 1. 1. 1. 1. 1. 1. 1. 1. 1. 1. 1.\n",
      " 1. 1. 1. 1. 1. 1.]\n"
     ]
    }
   ],
   "source": [
    "print(test_y[150:])"
   ]
  },
  {
   "cell_type": "code",
   "execution_count": 26,
   "metadata": {},
   "outputs": [
    {
     "name": "stdout",
     "output_type": "stream",
     "text": [
      "3/3 [==============================] - 0s 16ms/step - loss: 1.3208 - accuracy: 0.7067\n",
      "[1.3208062648773193, 0.7066666483879089]\n"
     ]
    }
   ],
   "source": [
    "evaluate = model.evaluate(x_test[150:], test_y[150:], batch_size=53)\n",
    "print(evaluate)"
   ]
  },
  {
   "cell_type": "code",
   "execution_count": 71,
   "metadata": {},
   "outputs": [
    {
     "name": "stdout",
     "output_type": "stream",
     "text": [
      "[1.3208062648773193, 0.7066666483879089]\n"
     ]
    }
   ],
   "source": [
    "print(evaluate)"
   ]
  },
  {
   "cell_type": "code",
   "execution_count": 27,
   "metadata": {},
   "outputs": [
    {
     "data": {
      "image/png": "[encoded data removed]",
      "text/plain": [
       "<Figure size 432x288 with 2 Axes>"
      ]
     },
     "metadata": {
      "needs_background": "light"
     },
     "output_type": "display_data"
    }
   ],
   "source": [
    "fig, axs = plt.subplots(nrows=1, ncols=2, constrained_layout=True)\n",
    "ax = axs[0]\n",
    "ax.plot(hist.history['loss'], label='train')\n",
    "ax.plot(hist.history['val_loss'], label='val')\n",
    "ax.legend()\n",
    "ax.set_ylabel('loss')\n",
    "ax.set_xlabel('epochs')\n",
    "ax = axs[1] \n",
    "ax.plot(hist.history['accuracy'], label='train')\n",
    "ax.plot(hist.history['val_accuracy'], label='val')\n",
    "ax.legend()\n",
    "ax.set_ylabel('accuracy')\n",
    "ax.set_xlabel('epochs')\n",
    "plt.show()"
   ]
  },
  {
   "cell_type": "code",
   "execution_count": 28,
   "metadata": {},
   "outputs": [
    {
     "name": "stdout",
     "output_type": "stream",
     "text": [
      "INFO:tensorflow:Assets written to: GRU_1_trained/assets\n"
     ]
    }
   ],
   "source": [
    "model.save(\"GRU_1_trained\")\n"
   ]
  },
  {
   "cell_type": "code",
   "execution_count": 104,
   "metadata": {},
   "outputs": [],
   "source": [
    "def get_categorical_test_data(label1, label2, df,max_len):\n",
    "    count = 0\n",
    "    numpy_array = []\n",
    "    numpy_array_2 = []\n",
    "    cat_labels = []\n",
    "    zero_array = np.array([0]*512)\n",
    "    for i in range(len(df)):\n",
    "        if(df.Name[i][7] ==label1 or df.Name[i][7] ==label2):\n",
    "            if df.Name[i][7] ==label1:\n",
    "                cat_labels.append(0)\n",
    "            else:\n",
    "                cat_labels.append(1)\n",
    "            count += 1\n",
    "            try:\n",
    "                numpy_array_name = df.iloc[i].Name\n",
    "                numpy_array = np.load(\"/Users/sanjay/Documents/Audio-Embedding/test_npz_values/\" + numpy_array_name, allow_pickle=True)\n",
    "                numpy_array_1 = numpy_array.f.arr_0\n",
    "                numpy_array_2.append(numpy_array_1)\n",
    "\n",
    "            except:\n",
    "                print(i)\n",
    "    \n",
    "    numpy_array_3 = [[[]]]\n",
    "    for i in range(len(numpy_array_2)):\n",
    "        numpy_array_2[i] = np.transpose(numpy_array_2[i])\n",
    "        if max_len - len(numpy_array_2[i]) != 0:\n",
    "            for j in range((max_len - len(numpy_array_2[i]))):\n",
    "                numpy_array_2[i] = np.append(numpy_array_2[i],[zero_array],axis = 0)\n",
    "        numpy_array_2[i] = np.transpose(numpy_array_2[i])\n",
    "    for i in range(len(numpy_array_2)):\n",
    "        for j in range(len(numpy_array_2[i])):\n",
    "            k = 0\n",
    "            l = 0\n",
    "            while k<=519:\n",
    "                numpy_array_3.append(sum(numpy_array_2[i][j][k:k+10])/10)\n",
    "                k += 10    \n",
    "            numpy_array_3.append(sum(numpy_array_2[i][j][k:k+5])/5)\n",
    "    return np.array(numpy_array_3), count, cat_labels"
   ]
  },
  {
   "cell_type": "code",
   "execution_count": 175,
   "metadata": {},
   "outputs": [
    {
     "name": "stderr",
     "output_type": "stream",
     "text": [
      "/Users/sanjay/anaconda3/lib/python3.7/site-packages/ipykernel_launcher.py:38: VisibleDeprecationWarning: Creating an ndarray from ragged nested sequences (which is a list-or-tuple of lists-or-tuples-or ndarrays with different lengths or shapes) is deprecated. If you meant to do this, you must specify 'dtype=object' when creating the ndarray\n"
     ]
    }
   ],
   "source": [
    "neutral_calm_test_x, count, neutral_calm_test_y = get_categorical_test_data('1','2',df, max_len)"
   ]
  },
  {
   "cell_type": "code",
   "execution_count": 176,
   "metadata": {},
   "outputs": [
    {
     "name": "stdout",
     "output_type": "stream",
     "text": [
      "(1628161,)\n"
     ]
    }
   ],
   "source": [
    "print(neutral_calm_test_x.shape)"
   ]
  },
  {
   "cell_type": "code",
   "execution_count": 177,
   "metadata": {},
   "outputs": [],
   "source": [
    "neutral_calm_test_x = neutral_calm_test_x[1:]\n",
    "neutral_calm_test_x = np.array(neutral_calm_test_x)\n",
    "neutral_calm_test_x= neutral_calm_test_x.reshape((count, 53, 512))\n"
   ]
  },
  {
   "cell_type": "code",
   "execution_count": 178,
   "metadata": {},
   "outputs": [
    {
     "name": "stdout",
     "output_type": "stream",
     "text": [
      "(60, 53, 512) 60\n"
     ]
    }
   ],
   "source": [
    "print(neutral_calm_test_x.shape, len(neutral_calm_test_y))"
   ]
  },
  {
   "cell_type": "code",
   "execution_count": 179,
   "metadata": {},
   "outputs": [],
   "source": [
    "neutral_calm_test_x =  np.asarray(neutral_calm_test_x).astype(np.float32)\n",
    "neutral_calm_test_y = np.asarray(neutral_calm_test_y).astype(np.float32)"
   ]
  },
  {
   "cell_type": "code",
   "execution_count": 180,
   "metadata": {},
   "outputs": [],
   "source": [
    "preds_neutral_calm = model.predict(neutral_calm_test_x)\n",
    "preds_neutral_calm = [np.round(x) for x in preds_neutral_calm]\n",
    "preds_neutral_calm = np.asarray(preds_neutral_calm).astype(int)\n"
   ]
  },
  {
   "cell_type": "code",
   "execution_count": 112,
   "metadata": {},
   "outputs": [],
   "source": [
    "from sklearn.metrics import classification_report"
   ]
  },
  {
   "cell_type": "code",
   "execution_count": null,
   "metadata": {},
   "outputs": [],
   "source": []
  },
  {
   "cell_type": "code",
   "execution_count": 183,
   "metadata": {},
   "outputs": [
    {
     "name": "stdout",
     "output_type": "stream",
     "text": [
      "              precision    recall  f1-score   support\n",
      "\n",
      "         0.0       0.34      1.00      0.51        20\n",
      "         1.0       1.00      0.03      0.05        40\n",
      "\n",
      "    accuracy                           0.35        60\n",
      "   macro avg       0.67      0.51      0.28        60\n",
      "weighted avg       0.78      0.35      0.20        60\n",
      "\n"
     ]
    }
   ],
   "source": [
    "print(classification_report(neutral_calm_test_y, preds_neutral_calm))"
   ]
  },
  {
   "cell_type": "code",
   "execution_count": 165,
   "metadata": {},
   "outputs": [
    {
     "name": "stderr",
     "output_type": "stream",
     "text": [
      "/Users/sanjay/anaconda3/lib/python3.7/site-packages/ipykernel_launcher.py:38: VisibleDeprecationWarning: Creating an ndarray from ragged nested sequences (which is a list-or-tuple of lists-or-tuples-or ndarrays with different lengths or shapes) is deprecated. If you meant to do this, you must specify 'dtype=object' when creating the ndarray\n"
     ]
    }
   ],
   "source": [
    "happy_sad_test_x, count, happy_sad_test_y = get_categorical_test_data('3','4',df, max_len)\n",
    "happy_sad_test_x = happy_sad_test_x[1:]\n",
    "happy_sad_test_x = np.array(happy_sad_test_x)\n",
    "happy_sad_test_x= happy_sad_test_x.reshape((count, 53, 512))\n",
    "happy_sad_test_x =  np.asarray(happy_sad_test_x).astype(np.float32)\n",
    "happy_sad_test_y = np.asarray(happy_sad_test_y).astype(np.float32)\n",
    "preds_happy_sad = model.predict(happy_sad_test_x)\n",
    "preds_happy_sad = [np.round(x) for x in preds_happy_sad]\n"
   ]
  },
  {
   "cell_type": "code",
   "execution_count": 174,
   "metadata": {},
   "outputs": [
    {
     "name": "stdout",
     "output_type": "stream",
     "text": [
      "80\n",
      "              precision    recall  f1-score   support\n",
      "\n",
      "         0.0       0.60      0.60      0.60        40\n",
      "         1.0       0.60      0.60      0.60        40\n",
      "\n",
      "    accuracy                           0.60        80\n",
      "   macro avg       0.60      0.60      0.60        80\n",
      "weighted avg       0.60      0.60      0.60        80\n",
      "\n"
     ]
    }
   ],
   "source": [
    "preds_happy_sad = np.asarray(preds_happy_sad).astype(int)\n",
    "print(classification_report(happy_sad_test_y, preds_happy_sad))"
   ]
  },
  {
   "cell_type": "code",
   "execution_count": 185,
   "metadata": {},
   "outputs": [
    {
     "name": "stderr",
     "output_type": "stream",
     "text": [
      "/Users/sanjay/anaconda3/lib/python3.7/site-packages/ipykernel_launcher.py:38: VisibleDeprecationWarning: Creating an ndarray from ragged nested sequences (which is a list-or-tuple of lists-or-tuples-or ndarrays with different lengths or shapes) is deprecated. If you meant to do this, you must specify 'dtype=object' when creating the ndarray\n"
     ]
    }
   ],
   "source": [
    "anger_fear_test_x, count, anger_fear_test_y = get_categorical_test_data('5','6',df, max_len)\n",
    "anger_fear_test_x = anger_fear_test_x[1:]\n",
    "anger_fear_test_x = np.array(anger_fear_test_x)\n",
    "anger_fear_test_x= anger_fear_test_x.reshape((count, 53, 512))\n",
    "anger_fear_test_x =  np.asarray(anger_fear_test_x).astype(np.float32)\n",
    "anger_fear_test_y = np.asarray(anger_fear_test_y).astype(np.float32)\n",
    "preds_anger_fear = model.predict(anger_fear_test_x)\n",
    "preds_anger_fear = [np.round(x) for x in preds_anger_fear]"
   ]
  },
  {
   "cell_type": "code",
   "execution_count": 186,
   "metadata": {},
   "outputs": [
    {
     "name": "stdout",
     "output_type": "stream",
     "text": [
      "              precision    recall  f1-score   support\n",
      "\n",
      "         0.0       0.50      0.25      0.33        40\n",
      "         1.0       0.50      0.75      0.60        40\n",
      "\n",
      "    accuracy                           0.50        80\n",
      "   macro avg       0.50      0.50      0.47        80\n",
      "weighted avg       0.50      0.50      0.47        80\n",
      "\n"
     ]
    }
   ],
   "source": [
    "preds_anger_fear = np.asarray(preds_anger_fear).astype(int)\n",
    "print(classification_report(anger_fear_test_y, preds_anger_fear))"
   ]
  },
  {
   "cell_type": "code",
   "execution_count": 188,
   "metadata": {},
   "outputs": [
    {
     "name": "stderr",
     "output_type": "stream",
     "text": [
      "/Users/sanjay/anaconda3/lib/python3.7/site-packages/ipykernel_launcher.py:38: VisibleDeprecationWarning: Creating an ndarray from ragged nested sequences (which is a list-or-tuple of lists-or-tuples-or ndarrays with different lengths or shapes) is deprecated. If you meant to do this, you must specify 'dtype=object' when creating the ndarray\n"
     ]
    },
    {
     "name": "stdout",
     "output_type": "stream",
     "text": [
      "              precision    recall  f1-score   support\n",
      "\n",
      "         0.0       0.27      0.15      0.19        40\n",
      "         1.0       0.41      0.60      0.49        40\n",
      "\n",
      "    accuracy                           0.38        80\n",
      "   macro avg       0.34      0.38      0.34        80\n",
      "weighted avg       0.34      0.38      0.34        80\n",
      "\n"
     ]
    }
   ],
   "source": [
    "dis_surp_test_x, count, dis_surp_test_y = get_categorical_test_data('7','8',df, max_len)\n",
    "dis_surp_test_x = dis_surp_test_x[1:]\n",
    "dis_surp_test_x = np.array(dis_surp_test_x)\n",
    "dis_surp_test_x= dis_surp_test_x.reshape((count, 53, 512))\n",
    "dis_surp_test_x =  np.asarray(dis_surp_test_x).astype(np.float32)\n",
    "dis_surp_test_y = np.asarray(dis_surp_test_y).astype(np.float32)\n",
    "preds_dis_surp = model.predict(dis_surp_test_x)\n",
    "preds_dis_surp = [np.round(x) for x in preds_dis_surp]\n",
    "preds_dis_surp = np.asarray(preds_dis_surp).astype(int)\n",
    "print(classification_report(dis_surp_test_y, preds_dis_surp))"
   ]
  },
  {
   "cell_type": "code",
   "execution_count": null,
   "metadata": {},
   "outputs": [],
   "source": []
  }
 ],
 "metadata": {
  "kernelspec": {
   "display_name": "Python 3",
   "language": "python",
   "name": "python3"
  },
  "language_info": {
   "codemirror_mode": {
    "name": "ipython",
    "version": 3
   },
   "file_extension": ".py",
   "mimetype": "text/x-python",
   "name": "python",
   "nbconvert_exporter": "python",
   "pygments_lexer": "ipython3",
   "version": "3.7.7"
  }
 },
 "nbformat": 4,
 "nbformat_minor": 4
}
