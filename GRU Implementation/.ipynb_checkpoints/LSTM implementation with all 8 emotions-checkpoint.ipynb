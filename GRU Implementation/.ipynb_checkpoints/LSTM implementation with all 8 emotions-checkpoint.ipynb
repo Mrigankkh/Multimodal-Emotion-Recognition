{
 "cells": [
  {
   "cell_type": "code",
   "execution_count": 2,
   "metadata": {},
   "outputs": [
    {
     "name": "stdout",
     "output_type": "stream",
     "text": [
      "1140\n",
      "300\n"
     ]
    }
   ],
   "source": [
    "import pandas as pd\n",
    "import os \n",
    "import numpy as np\n",
    "import tensorflow as tf\n",
    "from tensorflow.keras.models import Sequential\n",
    "from tensorflow.keras.layers import Dense, Dropout, GRU\n",
    "from sklearn.model_selection import train_test_split\n",
    "import matplotlib.pyplot as plt\n",
    "from tensorflow.keras.layers import BatchNormalization\n",
    "from sklearn.preprocessing import OneHotEncoder\n",
    "from keras.utils import to_categorical\n",
    "from tensorflow import keras\n",
    "\n",
    "def npz_to_dataFrame():\n",
    "    label = 0\n",
    "    df = pd.DataFrame(columns = [\"Name\", \"Label\"])\n",
    "    for file_name in file:\n",
    "        label = file_name[7]\n",
    "        numpy_data = np.array([[file_name,label]])\n",
    "        df2 = pd.DataFrame(data = numpy_data, columns = [\"Name\", \"Label\"])\n",
    "        df = df.append(df2, ignore_index = True)   \n",
    "    return(df)\n",
    "    \n",
    "    \n",
    "file = os.listdir(\"/Users/sanjay/Desktop/Audio-Embedding/npz-values/\")    \n",
    "df = npz_to_dataFrame()\n",
    "df1 = df.drop([174,861])\n",
    "df = df1\n",
    "\n",
    "print(len(df))\n",
    "train_y = df.Label\n",
    "train_y = np.array(train_y)\n",
    "#y = y.reshape(-1, 1)\n",
    "train_x = df.drop('Label', axis = 1)\n",
    "'''enc = OneHotEncoder()\n",
    "y = enc.fit(y).categories\n",
    "print(y)'''\n",
    "file = os.listdir(\"/Users/sanjay/Desktop/Audio-Embedding/test_npz_values/\")    \n",
    "df = npz_to_dataFrame()\n",
    "'''df1 = df.drop([210,1088])\n",
    "df = df1'''\n",
    "print(len(df))\n",
    "test_y = df.Label\n",
    "test_y = np.array(test_y)\n",
    "#y = y.reshape(-1, 1)\n",
    "test_x = df.drop('Label', axis = 1)"
   ]
  },
  {
   "cell_type": "code",
   "execution_count": 3,
   "metadata": {},
   "outputs": [
    {
     "name": "stdout",
     "output_type": "stream",
     "text": [
      "['3' '3' '1' '2' '8' '8' '2' '2' '2' '1' '3' '3' '3' '3' '2' '1' '2' '2'\n",
      " '5' '6' '6' '5' '1' '2' '7' '4' '3' '3' '4' '7' '3' '7' '4' '4' '7' '3'\n",
      " '5' '6' '8' '2' '1' '2' '8' '6' '5' '5' '8' '6' '6' '8' '5' '7' '4' '4'\n",
      " '7' '4' '7' '7' '4' '8' '6' '5' '5' '6' '8' '6' '8' '5' '5' '8' '6' '4'\n",
      " '7' '7' '4' '3' '4' '7' '7' '4' '3' '8' '6' '5' '1' '2' '2' '5' '6' '8'\n",
      " '6' '8' '5' '5' '8' '6' '4' '7' '7' '4' '7' '4' '4' '7' '5' '6' '8' '8'\n",
      " '6' '5' '5' '8' '6' '6' '8' '5' '7' '4' '4' '7' '3' '3' '2' '1' '8' '8'\n",
      " '2' '2' '1' '2' '3' '3' '3' '3' '1' '2' '2' '2' '6' '5' '5' '6' '2' '1'\n",
      " '4' '7' '3' '3' '7' '4' '7' '4' '4' '7' '5' '6' '8' '8' '6' '5' '5' '8'\n",
      " '6' '2' '1' '2' '6' '8' '5' '3' '7' '4' '4' '7' '3' '4' '7' '7' '4' '8'\n",
      " '6' '5' '5' '6' '8' '6' '8' '5' '5' '8' '6' '4' '7' '7' '4' '3' '3' '1'\n",
      " '2' '2' '2' '8' '8' '2' '1' '3' '3' '7' '4' '3' '3' '4' '7' '2' '1' '5'\n",
      " '6' '6' '5' '2' '2' '1' '2' '3' '3' '3' '3' '2' '1' '2' '2' '8' '8' '1'\n",
      " '2' '3' '3' '4' '7' '3' '3' '7' '4' '1' '2' '6' '5' '5' '6' '2' '2' '2'\n",
      " '1' '3' '3' '4' '7' '7' '4' '8' '6' '5' '5' '6' '8' '6' '8' '5' '2' '2'\n",
      " '1' '5' '8' '6' '3' '4' '7' '7' '4' '3' '7' '4' '4' '7' '5' '6' '8' '8'\n",
      " '6' '5' '5' '8' '6' '6' '8' '5' '7' '4' '4' '7']\n"
     ]
    }
   ],
   "source": [
    "print(test_y)"
   ]
  },
  {
   "cell_type": "code",
   "execution_count": 4,
   "metadata": {},
   "outputs": [],
   "source": [
    "def get_train_data(df, max_len):\n",
    "    numpy_array = []\n",
    "    numpy_array_2 = []\n",
    "    zero_array = np.array([0]*512)\n",
    "    for i in range(len(df)):\n",
    "        try:\n",
    "            numpy_array_name = df.iloc[i].Name\n",
    "            numpy_array = np.load(\"/Users/sanjay/Desktop/Audio-Embedding/npz-values/\" + numpy_array_name, allow_pickle=True)\n",
    "            numpy_array_1 = numpy_array.f.arr_0\n",
    "            numpy_array_2.append(numpy_array_1)\n",
    "            \n",
    "        except:\n",
    "            print(i)\n",
    "    \n",
    "    numpy_array_3 = [[[]]]\n",
    "    for i in range(len(numpy_array_2)):\n",
    "        numpy_array_2[i] = np.transpose(numpy_array_2[i])\n",
    "        if max_len - len(numpy_array_2[i]) != 0:\n",
    "            for j in range((max_len - len(numpy_array_2[i]))):\n",
    "                numpy_array_2[i] = np.append(numpy_array_2[i],[zero_array],axis = 0)\n",
    "        numpy_array_2[i] = np.transpose(numpy_array_2[i])\n",
    "    for i in range(len(numpy_array_2)):\n",
    "        for j in range(len(numpy_array_2[i])):\n",
    "            k = 0\n",
    "            l = 0\n",
    "            while k<=519:\n",
    "                numpy_array_3.append(sum(numpy_array_2[i][j][k:k+10])/10)\n",
    "                k += 10    \n",
    "            numpy_array_3.append(sum(numpy_array_2[i][j][k:k+5])/5)\n",
    "    return np.array(numpy_array_3)\n",
    "    "
   ]
  },
  {
   "cell_type": "code",
   "execution_count": 5,
   "metadata": {},
   "outputs": [],
   "source": [
    "def get_test_data(df, max_len):\n",
    "    numpy_array = []\n",
    "    numpy_array_2 = []\n",
    "    zero_array = np.array([0]*512)\n",
    "    for i in range(len(df)):\n",
    "        try:\n",
    "            numpy_array_name = df.iloc[i].Name\n",
    "            numpy_array = np.load(\"/Users/sanjay/Desktop/Audio-Embedding/test_npz_values/\" + numpy_array_name, allow_pickle=True)\n",
    "            numpy_array_1 = numpy_array.f.arr_0\n",
    "            numpy_array_2.append(numpy_array_1)\n",
    "            \n",
    "        except:\n",
    "            print(i)\n",
    "    \n",
    "    numpy_array_3 = [[[]]]\n",
    "    for i in range(len(numpy_array_2)):\n",
    "        numpy_array_2[i] = np.transpose(numpy_array_2[i])\n",
    "        if max_len - len(numpy_array_2[i]) != 0:\n",
    "            for j in range((max_len - len(numpy_array_2[i]))):\n",
    "                numpy_array_2[i] = np.append(numpy_array_2[i],[zero_array],axis = 0)\n",
    "        numpy_array_2[i] = np.transpose(numpy_array_2[i])\n",
    "    for i in range(len(numpy_array_2)):\n",
    "        for j in range(len(numpy_array_2[i])):\n",
    "            k = 0\n",
    "            l = 0\n",
    "            while k<=519:\n",
    "                numpy_array_3.append(sum(numpy_array_2[i][j][k:k+10])/10)\n",
    "                k += 10    \n",
    "            numpy_array_3.append(sum(numpy_array_2[i][j][k:k+5])/5)\n",
    "    return np.array(numpy_array_3)"
   ]
  },
  {
   "cell_type": "code",
   "execution_count": 6,
   "metadata": {},
   "outputs": [],
   "source": [
    "def get_maxlen(df):\n",
    "    numpy_array = []\n",
    "    numpy_array_2 = []\n",
    "    for i in range(len(df)):\n",
    "            numpy_array_name = df.iloc[i].Name\n",
    "            numpy_array = np.load(\"/Users/sanjay/Desktop/Audio-Embedding/npz-values/\" + numpy_array_name, allow_pickle=True)\n",
    "            numpy_array_1 = numpy_array.f.arr_0\n",
    "            numpy_array_2.append(numpy_array_1)\n",
    "    max_len = 0\n",
    "    for i in range(len(numpy_array_2)):\n",
    "        for j in range(len(numpy_array_2[i])):\n",
    "            if len(numpy_array_2[i][j]) > max_len:\n",
    "                max_len = len(numpy_array_2[i][j])\n",
    "    return max_len, numpy_array_2"
   ]
  },
  {
   "cell_type": "code",
   "execution_count": 7,
   "metadata": {},
   "outputs": [
    {
     "name": "stdout",
     "output_type": "stream",
     "text": [
      "(300, 53, 512) (1140, 53, 512) (1140,) (300,)\n"
     ]
    }
   ],
   "source": [
    "max_len = 525\n",
    "x_train = get_train_data(train_x, max_len)\n",
    "x_train = x_train[1:]\n",
    "x_train = np.array(x_train)\n",
    "x_train= x_train.reshape((1140, 53, 512))\n",
    "\n",
    "x_test = get_test_data(test_x, max_len)\n",
    "x_test = x_test[1:]\n",
    "x_test = np.array(x_test)\n",
    "x_test= x_test.reshape((300, 53, 512))\n",
    "\n",
    "print(x_test.shape, x_train.shape, train_y.shape, test_y.shape)\n",
    "\n"
   ]
  },
  {
   "cell_type": "code",
   "execution_count": 8,
   "metadata": {},
   "outputs": [],
   "source": [
    "x_train = np.asarray(x_train).astype(np.float32)\n",
    "train_y = np.asarray(train_y).astype(np.float32)\n",
    "x_test =  np.asarray(x_test).astype(np.float32)\n",
    "test_y = np.asarray(test_y).astype(np.float32)"
   ]
  },
  {
   "cell_type": "code",
   "execution_count": 9,
   "metadata": {},
   "outputs": [
    {
     "name": "stdout",
     "output_type": "stream",
     "text": [
      "53\n",
      "1140\n"
     ]
    }
   ],
   "source": [
    "n_dim = x_train.shape[1]  \n",
    "n_classes = train_y.shape[0] \n",
    "print(n_dim)\n",
    "print(n_classes)\n",
    "#print(test_x)"
   ]
  },
  {
   "cell_type": "code",
   "execution_count": 10,
   "metadata": {},
   "outputs": [],
   "source": [
    "from keras.callbacks import EarlyStopping, ModelCheckpoint\n",
    "\n",
    "earlystop = EarlyStopping(monitor='val_loss', mode='min', patience=75, restore_best_weights=True)\n",
    "checkpointer = ModelCheckpoint(filepath='/tmp/weights.hdf5', verbose=1, save_best_only=True)\n"
   ]
  },
  {
   "cell_type": "code",
   "execution_count": 12,
   "metadata": {},
   "outputs": [
    {
     "name": "stdout",
     "output_type": "stream",
     "text": [
      "Model: \"sequential_1\"\n",
      "_________________________________________________________________\n",
      "Layer (type)                 Output Shape              Param #   \n",
      "=================================================================\n",
      "batch_normalization_1 (Batch (None, 53, 512)           2048      \n",
      "_________________________________________________________________\n",
      "lstm (LSTM)                  (None, 53)                119992    \n",
      "_________________________________________________________________\n",
      "dense (Dense)                (None, 9)                 486       \n",
      "=================================================================\n",
      "Total params: 122,526\n",
      "Trainable params: 121,502\n",
      "Non-trainable params: 1,024\n",
      "_________________________________________________________________\n",
      "None\n"
     ]
    }
   ],
   "source": [
    "from sklearn.model_selection import GridSearchCV\n",
    "from keras.wrappers.scikit_learn import KerasClassifier\n",
    "from keras.constraints import maxnorm\n",
    "from tensorflow.keras.layers import LSTM\n",
    "\n",
    "\n",
    "def create_model():  \n",
    "    model = Sequential()\n",
    "    model.add(BatchNormalization(axis=-1, input_shape=(53,512)))\n",
    "    model.add(LSTM(n_dim, dropout = 0.1, return_sequences=False, recurrent_dropout = 0.2))\n",
    "    model.add(Dense(9, kernel_initializer='uniform', activation='softmax'))          \n",
    "    keras.optimizers.Adam(lr=1e-5, decay=1e-6)\n",
    "    model.compile(loss='sparse_categorical_crossentropy', metrics=['accuracy'])  \n",
    "    return model\n",
    "   \n",
    "  \n",
    "model = create_model()\n",
    "print(model.summary())"
   ]
  },
  {
   "cell_type": "code",
   "execution_count": 13,
   "metadata": {},
   "outputs": [
    {
     "name": "stdout",
     "output_type": "stream",
     "text": [
      "Train on 1140 samples, validate on 150 samples\n",
      "Epoch 1/100\n",
      "1140/1140 [==============================] - 4s 3ms/sample - loss: 1.9736 - accuracy: 0.2904 - val_loss: 2.0945 - val_accuracy: 0.2067\n",
      "Epoch 2/100\n",
      "1140/1140 [==============================] - 2s 2ms/sample - loss: 1.6411 - accuracy: 0.4377 - val_loss: 1.9911 - val_accuracy: 0.2867\n",
      "Epoch 3/100\n",
      "1140/1140 [==============================] - 2s 2ms/sample - loss: 1.4351 - accuracy: 0.5412 - val_loss: 1.8635 - val_accuracy: 0.3133\n",
      "Epoch 4/100\n",
      "1140/1140 [==============================] - 2s 2ms/sample - loss: 1.2495 - accuracy: 0.6114 - val_loss: 1.6840 - val_accuracy: 0.3667\n",
      "Epoch 5/100\n",
      "1140/1140 [==============================] - 2s 2ms/sample - loss: 1.0997 - accuracy: 0.6632 - val_loss: 1.6587 - val_accuracy: 0.3867\n",
      "Epoch 6/100\n",
      "1140/1140 [==============================] - 2s 2ms/sample - loss: 0.9700 - accuracy: 0.7035 - val_loss: 1.4871 - val_accuracy: 0.4867\n",
      "Epoch 7/100\n",
      "1140/1140 [==============================] - 2s 2ms/sample - loss: 0.8276 - accuracy: 0.7658 - val_loss: 1.4486 - val_accuracy: 0.4800\n",
      "Epoch 8/100\n",
      "1140/1140 [==============================] - 2s 2ms/sample - loss: 0.7199 - accuracy: 0.7833 - val_loss: 1.4302 - val_accuracy: 0.4733\n",
      "Epoch 9/100\n",
      "1140/1140 [==============================] - 2s 2ms/sample - loss: 0.6538 - accuracy: 0.7965 - val_loss: 1.3456 - val_accuracy: 0.5133\n",
      "Epoch 10/100\n",
      "1140/1140 [==============================] - 2s 2ms/sample - loss: 0.5417 - accuracy: 0.8439 - val_loss: 1.4809 - val_accuracy: 0.4867\n",
      "Epoch 11/100\n",
      "1140/1140 [==============================] - 2s 2ms/sample - loss: 0.4721 - accuracy: 0.8728 - val_loss: 1.3547 - val_accuracy: 0.5467\n",
      "Epoch 12/100\n",
      "1140/1140 [==============================] - 2s 2ms/sample - loss: 0.3995 - accuracy: 0.8807 - val_loss: 1.5691 - val_accuracy: 0.5200\n",
      "Epoch 13/100\n",
      "1140/1140 [==============================] - 2s 2ms/sample - loss: 0.3626 - accuracy: 0.8965 - val_loss: 1.4823 - val_accuracy: 0.5467\n",
      "Epoch 14/100\n",
      "1140/1140 [==============================] - 2s 2ms/sample - loss: 0.3224 - accuracy: 0.9105 - val_loss: 1.4024 - val_accuracy: 0.6000\n",
      "Epoch 15/100\n",
      "1140/1140 [==============================] - 2s 2ms/sample - loss: 0.2701 - accuracy: 0.9333 - val_loss: 1.5933 - val_accuracy: 0.5067\n",
      "Epoch 16/100\n",
      "1140/1140 [==============================] - 2s 2ms/sample - loss: 0.2368 - accuracy: 0.9412 - val_loss: 1.5035 - val_accuracy: 0.5333\n",
      "Epoch 17/100\n",
      "1140/1140 [==============================] - 2s 2ms/sample - loss: 0.2306 - accuracy: 0.9386 - val_loss: 1.7340 - val_accuracy: 0.5267\n",
      "Epoch 18/100\n",
      "1140/1140 [==============================] - 2s 2ms/sample - loss: 0.1639 - accuracy: 0.9640 - val_loss: 1.6550 - val_accuracy: 0.5600\n",
      "Epoch 19/100\n",
      "1140/1140 [==============================] - 2s 2ms/sample - loss: 0.1664 - accuracy: 0.9579 - val_loss: 1.8524 - val_accuracy: 0.5333\n",
      "Epoch 20/100\n",
      "1140/1140 [==============================] - 2s 2ms/sample - loss: 0.1560 - accuracy: 0.9614 - val_loss: 1.6997 - val_accuracy: 0.5333\n",
      "Epoch 21/100\n",
      "1140/1140 [==============================] - 2s 2ms/sample - loss: 0.1470 - accuracy: 0.9623 - val_loss: 1.5924 - val_accuracy: 0.5733\n",
      "Epoch 22/100\n",
      "1140/1140 [==============================] - 2s 2ms/sample - loss: 0.0992 - accuracy: 0.9825 - val_loss: 2.0711 - val_accuracy: 0.5200\n",
      "Epoch 23/100\n",
      "1140/1140 [==============================] - 2s 2ms/sample - loss: 0.1297 - accuracy: 0.9675 - val_loss: 1.8185 - val_accuracy: 0.5533\n",
      "Epoch 24/100\n",
      "1140/1140 [==============================] - 2s 2ms/sample - loss: 0.1006 - accuracy: 0.9746 - val_loss: 1.5868 - val_accuracy: 0.6000\n",
      "Epoch 25/100\n",
      "1140/1140 [==============================] - 2s 2ms/sample - loss: 0.0893 - accuracy: 0.9807 - val_loss: 1.6545 - val_accuracy: 0.6200\n",
      "Epoch 26/100\n",
      "1140/1140 [==============================] - 2s 2ms/sample - loss: 0.0851 - accuracy: 0.9798 - val_loss: 1.6406 - val_accuracy: 0.5667\n",
      "Epoch 27/100\n",
      "1140/1140 [==============================] - 2s 2ms/sample - loss: 0.0871 - accuracy: 0.9737 - val_loss: 1.6820 - val_accuracy: 0.6067\n",
      "Epoch 28/100\n",
      "1140/1140 [==============================] - 2s 2ms/sample - loss: 0.0708 - accuracy: 0.9842 - val_loss: 1.9295 - val_accuracy: 0.5600\n",
      "Epoch 29/100\n",
      "1140/1140 [==============================] - 2s 2ms/sample - loss: 0.0627 - accuracy: 0.9868 - val_loss: 1.7867 - val_accuracy: 0.6000\n",
      "Epoch 30/100\n",
      "1140/1140 [==============================] - 2s 2ms/sample - loss: 0.0576 - accuracy: 0.9877 - val_loss: 1.7700 - val_accuracy: 0.5667\n",
      "Epoch 31/100\n",
      "1140/1140 [==============================] - 2s 2ms/sample - loss: 0.0679 - accuracy: 0.9842 - val_loss: 1.8938 - val_accuracy: 0.5467\n",
      "Epoch 32/100\n",
      "1140/1140 [==============================] - 2s 2ms/sample - loss: 0.0458 - accuracy: 0.9886 - val_loss: 1.9378 - val_accuracy: 0.5333\n",
      "Epoch 33/100\n",
      "1140/1140 [==============================] - 2s 2ms/sample - loss: 0.0561 - accuracy: 0.9851 - val_loss: 1.9515 - val_accuracy: 0.5333\n",
      "Epoch 34/100\n",
      "1140/1140 [==============================] - 2s 2ms/sample - loss: 0.0511 - accuracy: 0.9868 - val_loss: 1.9402 - val_accuracy: 0.5667\n",
      "Epoch 35/100\n",
      "1140/1140 [==============================] - 2s 2ms/sample - loss: 0.0433 - accuracy: 0.9877 - val_loss: 2.1246 - val_accuracy: 0.5600\n",
      "Epoch 36/100\n",
      "1140/1140 [==============================] - 2s 2ms/sample - loss: 0.0499 - accuracy: 0.9886 - val_loss: 1.9499 - val_accuracy: 0.5867\n",
      "Epoch 37/100\n",
      "1140/1140 [==============================] - 2s 2ms/sample - loss: 0.0302 - accuracy: 0.9956 - val_loss: 2.0402 - val_accuracy: 0.5933\n",
      "Epoch 38/100\n",
      "1140/1140 [==============================] - 2s 2ms/sample - loss: 0.0427 - accuracy: 0.9895 - val_loss: 1.9338 - val_accuracy: 0.5867\n",
      "Epoch 39/100\n",
      "1140/1140 [==============================] - 2s 2ms/sample - loss: 0.0445 - accuracy: 0.9904 - val_loss: 1.9501 - val_accuracy: 0.5867\n",
      "Epoch 40/100\n",
      "1140/1140 [==============================] - 2s 2ms/sample - loss: 0.0303 - accuracy: 0.9930 - val_loss: 1.9357 - val_accuracy: 0.5933\n",
      "Epoch 41/100\n",
      "1140/1140 [==============================] - 2s 2ms/sample - loss: 0.0342 - accuracy: 0.9904 - val_loss: 2.3423 - val_accuracy: 0.5000\n",
      "Epoch 42/100\n",
      "1140/1140 [==============================] - 2s 2ms/sample - loss: 0.0322 - accuracy: 0.9895 - val_loss: 2.0834 - val_accuracy: 0.5667\n",
      "Epoch 43/100\n",
      "1140/1140 [==============================] - 2s 2ms/sample - loss: 0.0184 - accuracy: 0.9965 - val_loss: 2.2657 - val_accuracy: 0.5467\n",
      "Epoch 44/100\n",
      "1140/1140 [==============================] - 2s 2ms/sample - loss: 0.0393 - accuracy: 0.9904 - val_loss: 2.0768 - val_accuracy: 0.5867\n",
      "Epoch 45/100\n",
      "1140/1140 [==============================] - 2s 2ms/sample - loss: 0.0225 - accuracy: 0.9956 - val_loss: 2.0013 - val_accuracy: 0.6333\n",
      "Epoch 46/100\n",
      "1140/1140 [==============================] - 2s 2ms/sample - loss: 0.0495 - accuracy: 0.9833 - val_loss: 2.1257 - val_accuracy: 0.5333\n",
      "Epoch 47/100\n",
      "1140/1140 [==============================] - 2s 2ms/sample - loss: 0.0157 - accuracy: 0.9982 - val_loss: 2.1398 - val_accuracy: 0.5733\n",
      "Epoch 48/100\n",
      "1140/1140 [==============================] - 2s 2ms/sample - loss: 0.0329 - accuracy: 0.9904 - val_loss: 2.1631 - val_accuracy: 0.5600\n",
      "Epoch 49/100\n",
      "1140/1140 [==============================] - 2s 2ms/sample - loss: 0.0233 - accuracy: 0.9930 - val_loss: 2.1310 - val_accuracy: 0.5867\n",
      "Epoch 50/100\n",
      "1140/1140 [==============================] - 2s 2ms/sample - loss: 0.0166 - accuracy: 0.9982 - val_loss: 2.1141 - val_accuracy: 0.5933\n",
      "Epoch 51/100\n",
      "1140/1140 [==============================] - 2s 2ms/sample - loss: 0.0193 - accuracy: 0.9956 - val_loss: 2.2437 - val_accuracy: 0.5533\n",
      "Epoch 52/100\n",
      "1140/1140 [==============================] - 2s 2ms/sample - loss: 0.0227 - accuracy: 0.9956 - val_loss: 2.4684 - val_accuracy: 0.5533\n",
      "Epoch 53/100\n",
      "1140/1140 [==============================] - 2s 2ms/sample - loss: 0.0151 - accuracy: 0.9974 - val_loss: 2.5665 - val_accuracy: 0.5467\n",
      "Epoch 54/100\n",
      "1140/1140 [==============================] - 2s 2ms/sample - loss: 0.0214 - accuracy: 0.9939 - val_loss: 2.4532 - val_accuracy: 0.5667\n",
      "Epoch 55/100\n",
      "1140/1140 [==============================] - 2s 2ms/sample - loss: 0.0229 - accuracy: 0.9939 - val_loss: 2.3313 - val_accuracy: 0.5867\n",
      "Epoch 56/100\n",
      "1140/1140 [==============================] - 2s 2ms/sample - loss: 0.0184 - accuracy: 0.9947 - val_loss: 2.2923 - val_accuracy: 0.6000\n",
      "Epoch 57/100\n",
      "1140/1140 [==============================] - 2s 2ms/sample - loss: 0.0098 - accuracy: 0.9991 - val_loss: 2.2008 - val_accuracy: 0.5800\n",
      "Epoch 58/100\n",
      "1140/1140 [==============================] - 2s 2ms/sample - loss: 0.0258 - accuracy: 0.9912 - val_loss: 2.2579 - val_accuracy: 0.5800\n",
      "Epoch 59/100\n",
      "1140/1140 [==============================] - 2s 2ms/sample - loss: 0.0173 - accuracy: 0.9947 - val_loss: 2.0475 - val_accuracy: 0.6400\n",
      "Epoch 60/100\n",
      "1140/1140 [==============================] - 2s 2ms/sample - loss: 0.0070 - accuracy: 1.0000 - val_loss: 2.3069 - val_accuracy: 0.5667\n",
      "Epoch 61/100\n",
      "1140/1140 [==============================] - 2s 2ms/sample - loss: 0.0178 - accuracy: 0.9939 - val_loss: 2.1225 - val_accuracy: 0.6267\n",
      "Epoch 62/100\n",
      "1140/1140 [==============================] - 2s 2ms/sample - loss: 0.0147 - accuracy: 0.9939 - val_loss: 2.3791 - val_accuracy: 0.5600\n",
      "Epoch 63/100\n",
      "1140/1140 [==============================] - 2s 2ms/sample - loss: 0.0221 - accuracy: 0.9939 - val_loss: 2.2490 - val_accuracy: 0.5933\n",
      "Epoch 64/100\n",
      "1140/1140 [==============================] - 2s 2ms/sample - loss: 0.0211 - accuracy: 0.9947 - val_loss: 2.2887 - val_accuracy: 0.5867\n",
      "Epoch 65/100\n",
      "1140/1140 [==============================] - 2s 2ms/sample - loss: 0.0059 - accuracy: 0.9991 - val_loss: 2.4782 - val_accuracy: 0.5667\n",
      "Epoch 66/100\n",
      "1140/1140 [==============================] - 2s 2ms/sample - loss: 0.0139 - accuracy: 0.9982 - val_loss: 2.3317 - val_accuracy: 0.6133\n",
      "Epoch 67/100\n",
      "1140/1140 [==============================] - 2s 2ms/sample - loss: 0.0077 - accuracy: 0.9991 - val_loss: 2.7067 - val_accuracy: 0.5333\n",
      "Epoch 68/100\n",
      "1140/1140 [==============================] - 2s 2ms/sample - loss: 0.0185 - accuracy: 0.9930 - val_loss: 2.4389 - val_accuracy: 0.5800\n",
      "Epoch 69/100\n",
      "1140/1140 [==============================] - 2s 2ms/sample - loss: 0.0181 - accuracy: 0.9947 - val_loss: 2.4194 - val_accuracy: 0.5867\n",
      "Epoch 70/100\n",
      "1140/1140 [==============================] - 2s 2ms/sample - loss: 0.0094 - accuracy: 0.9991 - val_loss: 2.5558 - val_accuracy: 0.5333\n",
      "Epoch 71/100\n",
      "1140/1140 [==============================] - 2s 2ms/sample - loss: 0.0166 - accuracy: 0.9947 - val_loss: 2.4710 - val_accuracy: 0.5600\n",
      "Epoch 72/100\n",
      "1140/1140 [==============================] - 2s 2ms/sample - loss: 0.0141 - accuracy: 0.9965 - val_loss: 2.3866 - val_accuracy: 0.5600\n",
      "Epoch 73/100\n",
      "1140/1140 [==============================] - 2s 2ms/sample - loss: 0.0101 - accuracy: 0.9974 - val_loss: 2.3743 - val_accuracy: 0.5800\n",
      "Epoch 74/100\n",
      "1140/1140 [==============================] - 2s 2ms/sample - loss: 0.0177 - accuracy: 0.9956 - val_loss: 2.5134 - val_accuracy: 0.5733\n",
      "Epoch 75/100\n",
      "1140/1140 [==============================] - 2s 2ms/sample - loss: 0.0170 - accuracy: 0.9947 - val_loss: 2.2300 - val_accuracy: 0.5533\n",
      "Epoch 76/100\n",
      "1140/1140 [==============================] - 2s 2ms/sample - loss: 0.0113 - accuracy: 0.9982 - val_loss: 2.5933 - val_accuracy: 0.5667\n",
      "Epoch 77/100\n",
      "1140/1140 [==============================] - 2s 2ms/sample - loss: 0.0158 - accuracy: 0.9956 - val_loss: 2.4483 - val_accuracy: 0.5667\n",
      "Epoch 78/100\n",
      "  40/1140 [>.............................] - ETA: 2s"
     ]
    },
    {
     "name": "stderr",
     "output_type": "stream",
     "text": [
      "/Users/sanjay/anaconda3/lib/python3.7/site-packages/keras/callbacks/callbacks.py:846: RuntimeWarning: Early stopping conditioned on metric `val_loss` which is not available. Available metrics are: \n",
      "  (self.monitor, ','.join(list(logs.keys()))), RuntimeWarning\n"
     ]
    },
    {
     "ename": "KeyboardInterrupt",
     "evalue": "",
     "output_type": "error",
     "traceback": [
      "\u001b[0;31m---------------------------------------------------------------------------\u001b[0m",
      "\u001b[0;31mKeyboardInterrupt\u001b[0m                         Traceback (most recent call last)",
      "\u001b[0;32m<ipython-input-13-6e60f63d71fe>\u001b[0m in \u001b[0;36m<module>\u001b[0;34m\u001b[0m\n\u001b[1;32m      1\u001b[0m hist = model.fit(x_train, train_y, epochs=100, batch_size=40, \n\u001b[0;32m----> 2\u001b[0;31m          validation_data = (x_test[:150], test_y[:150]), callbacks=[earlystop])\n\u001b[0m",
      "\u001b[0;32m~/anaconda3/lib/python3.7/site-packages/tensorflow_core/python/keras/engine/training.py\u001b[0m in \u001b[0;36mfit\u001b[0;34m(self, x, y, batch_size, epochs, verbose, callbacks, validation_split, validation_data, shuffle, class_weight, sample_weight, initial_epoch, steps_per_epoch, validation_steps, validation_freq, max_queue_size, workers, use_multiprocessing, **kwargs)\u001b[0m\n\u001b[1;32m    817\u001b[0m         \u001b[0mmax_queue_size\u001b[0m\u001b[0;34m=\u001b[0m\u001b[0mmax_queue_size\u001b[0m\u001b[0;34m,\u001b[0m\u001b[0;34m\u001b[0m\u001b[0;34m\u001b[0m\u001b[0m\n\u001b[1;32m    818\u001b[0m         \u001b[0mworkers\u001b[0m\u001b[0;34m=\u001b[0m\u001b[0mworkers\u001b[0m\u001b[0;34m,\u001b[0m\u001b[0;34m\u001b[0m\u001b[0;34m\u001b[0m\u001b[0m\n\u001b[0;32m--> 819\u001b[0;31m         use_multiprocessing=use_multiprocessing)\n\u001b[0m\u001b[1;32m    820\u001b[0m \u001b[0;34m\u001b[0m\u001b[0m\n\u001b[1;32m    821\u001b[0m   def evaluate(self,\n",
      "\u001b[0;32m~/anaconda3/lib/python3.7/site-packages/tensorflow_core/python/keras/engine/training_v2.py\u001b[0m in \u001b[0;36mfit\u001b[0;34m(self, model, x, y, batch_size, epochs, verbose, callbacks, validation_split, validation_data, shuffle, class_weight, sample_weight, initial_epoch, steps_per_epoch, validation_steps, validation_freq, max_queue_size, workers, use_multiprocessing, **kwargs)\u001b[0m\n\u001b[1;32m    340\u001b[0m                 \u001b[0mmode\u001b[0m\u001b[0;34m=\u001b[0m\u001b[0mModeKeys\u001b[0m\u001b[0;34m.\u001b[0m\u001b[0mTRAIN\u001b[0m\u001b[0;34m,\u001b[0m\u001b[0;34m\u001b[0m\u001b[0;34m\u001b[0m\u001b[0m\n\u001b[1;32m    341\u001b[0m                 \u001b[0mtraining_context\u001b[0m\u001b[0;34m=\u001b[0m\u001b[0mtraining_context\u001b[0m\u001b[0;34m,\u001b[0m\u001b[0;34m\u001b[0m\u001b[0;34m\u001b[0m\u001b[0m\n\u001b[0;32m--> 342\u001b[0;31m                 total_epochs=epochs)\n\u001b[0m\u001b[1;32m    343\u001b[0m             \u001b[0mcbks\u001b[0m\u001b[0;34m.\u001b[0m\u001b[0mmake_logs\u001b[0m\u001b[0;34m(\u001b[0m\u001b[0mmodel\u001b[0m\u001b[0;34m,\u001b[0m \u001b[0mepoch_logs\u001b[0m\u001b[0;34m,\u001b[0m \u001b[0mtraining_result\u001b[0m\u001b[0;34m,\u001b[0m \u001b[0mModeKeys\u001b[0m\u001b[0;34m.\u001b[0m\u001b[0mTRAIN\u001b[0m\u001b[0;34m)\u001b[0m\u001b[0;34m\u001b[0m\u001b[0;34m\u001b[0m\u001b[0m\n\u001b[1;32m    344\u001b[0m \u001b[0;34m\u001b[0m\u001b[0m\n",
      "\u001b[0;32m~/anaconda3/lib/python3.7/site-packages/tensorflow_core/python/keras/engine/training_v2.py\u001b[0m in \u001b[0;36mrun_one_epoch\u001b[0;34m(model, iterator, execution_function, dataset_size, batch_size, strategy, steps_per_epoch, num_samples, mode, training_context, total_epochs)\u001b[0m\n\u001b[1;32m    126\u001b[0m         step=step, mode=mode, size=current_batch_size) as batch_logs:\n\u001b[1;32m    127\u001b[0m       \u001b[0;32mtry\u001b[0m\u001b[0;34m:\u001b[0m\u001b[0;34m\u001b[0m\u001b[0;34m\u001b[0m\u001b[0m\n\u001b[0;32m--> 128\u001b[0;31m         \u001b[0mbatch_outs\u001b[0m \u001b[0;34m=\u001b[0m \u001b[0mexecution_function\u001b[0m\u001b[0;34m(\u001b[0m\u001b[0miterator\u001b[0m\u001b[0;34m)\u001b[0m\u001b[0;34m\u001b[0m\u001b[0;34m\u001b[0m\u001b[0m\n\u001b[0m\u001b[1;32m    129\u001b[0m       \u001b[0;32mexcept\u001b[0m \u001b[0;34m(\u001b[0m\u001b[0mStopIteration\u001b[0m\u001b[0;34m,\u001b[0m \u001b[0merrors\u001b[0m\u001b[0;34m.\u001b[0m\u001b[0mOutOfRangeError\u001b[0m\u001b[0;34m)\u001b[0m\u001b[0;34m:\u001b[0m\u001b[0;34m\u001b[0m\u001b[0;34m\u001b[0m\u001b[0m\n\u001b[1;32m    130\u001b[0m         \u001b[0;31m# TODO(kaftan): File bug about tf function and errors.OutOfRangeError?\u001b[0m\u001b[0;34m\u001b[0m\u001b[0;34m\u001b[0m\u001b[0;34m\u001b[0m\u001b[0m\n",
      "\u001b[0;32m~/anaconda3/lib/python3.7/site-packages/tensorflow_core/python/keras/engine/training_v2_utils.py\u001b[0m in \u001b[0;36mexecution_function\u001b[0;34m(input_fn)\u001b[0m\n\u001b[1;32m     96\u001b[0m     \u001b[0;31m# `numpy` translates Tensors to values in Eager mode.\u001b[0m\u001b[0;34m\u001b[0m\u001b[0;34m\u001b[0m\u001b[0;34m\u001b[0m\u001b[0m\n\u001b[1;32m     97\u001b[0m     return nest.map_structure(_non_none_constant_value,\n\u001b[0;32m---> 98\u001b[0;31m                               distributed_function(input_fn))\n\u001b[0m\u001b[1;32m     99\u001b[0m \u001b[0;34m\u001b[0m\u001b[0m\n\u001b[1;32m    100\u001b[0m   \u001b[0;32mreturn\u001b[0m \u001b[0mexecution_function\u001b[0m\u001b[0;34m\u001b[0m\u001b[0;34m\u001b[0m\u001b[0m\n",
      "\u001b[0;32m~/anaconda3/lib/python3.7/site-packages/tensorflow_core/python/eager/def_function.py\u001b[0m in \u001b[0;36m__call__\u001b[0;34m(self, *args, **kwds)\u001b[0m\n\u001b[1;32m    566\u001b[0m         \u001b[0mxla_context\u001b[0m\u001b[0;34m.\u001b[0m\u001b[0mExit\u001b[0m\u001b[0;34m(\u001b[0m\u001b[0;34m)\u001b[0m\u001b[0;34m\u001b[0m\u001b[0;34m\u001b[0m\u001b[0m\n\u001b[1;32m    567\u001b[0m     \u001b[0;32melse\u001b[0m\u001b[0;34m:\u001b[0m\u001b[0;34m\u001b[0m\u001b[0;34m\u001b[0m\u001b[0m\n\u001b[0;32m--> 568\u001b[0;31m       \u001b[0mresult\u001b[0m \u001b[0;34m=\u001b[0m \u001b[0mself\u001b[0m\u001b[0;34m.\u001b[0m\u001b[0m_call\u001b[0m\u001b[0;34m(\u001b[0m\u001b[0;34m*\u001b[0m\u001b[0margs\u001b[0m\u001b[0;34m,\u001b[0m \u001b[0;34m**\u001b[0m\u001b[0mkwds\u001b[0m\u001b[0;34m)\u001b[0m\u001b[0;34m\u001b[0m\u001b[0;34m\u001b[0m\u001b[0m\n\u001b[0m\u001b[1;32m    569\u001b[0m \u001b[0;34m\u001b[0m\u001b[0m\n\u001b[1;32m    570\u001b[0m     \u001b[0;32mif\u001b[0m \u001b[0mtracing_count\u001b[0m \u001b[0;34m==\u001b[0m \u001b[0mself\u001b[0m\u001b[0;34m.\u001b[0m\u001b[0m_get_tracing_count\u001b[0m\u001b[0;34m(\u001b[0m\u001b[0;34m)\u001b[0m\u001b[0;34m:\u001b[0m\u001b[0;34m\u001b[0m\u001b[0;34m\u001b[0m\u001b[0m\n",
      "\u001b[0;32m~/anaconda3/lib/python3.7/site-packages/tensorflow_core/python/eager/def_function.py\u001b[0m in \u001b[0;36m_call\u001b[0;34m(self, *args, **kwds)\u001b[0m\n\u001b[1;32m    597\u001b[0m       \u001b[0;31m# In this case we have created variables on the first call, so we run the\u001b[0m\u001b[0;34m\u001b[0m\u001b[0;34m\u001b[0m\u001b[0;34m\u001b[0m\u001b[0m\n\u001b[1;32m    598\u001b[0m       \u001b[0;31m# defunned version which is guaranteed to never create variables.\u001b[0m\u001b[0;34m\u001b[0m\u001b[0;34m\u001b[0m\u001b[0;34m\u001b[0m\u001b[0m\n\u001b[0;32m--> 599\u001b[0;31m       \u001b[0;32mreturn\u001b[0m \u001b[0mself\u001b[0m\u001b[0;34m.\u001b[0m\u001b[0m_stateless_fn\u001b[0m\u001b[0;34m(\u001b[0m\u001b[0;34m*\u001b[0m\u001b[0margs\u001b[0m\u001b[0;34m,\u001b[0m \u001b[0;34m**\u001b[0m\u001b[0mkwds\u001b[0m\u001b[0;34m)\u001b[0m  \u001b[0;31m# pylint: disable=not-callable\u001b[0m\u001b[0;34m\u001b[0m\u001b[0;34m\u001b[0m\u001b[0m\n\u001b[0m\u001b[1;32m    600\u001b[0m     \u001b[0;32melif\u001b[0m \u001b[0mself\u001b[0m\u001b[0;34m.\u001b[0m\u001b[0m_stateful_fn\u001b[0m \u001b[0;32mis\u001b[0m \u001b[0;32mnot\u001b[0m \u001b[0;32mNone\u001b[0m\u001b[0;34m:\u001b[0m\u001b[0;34m\u001b[0m\u001b[0;34m\u001b[0m\u001b[0m\n\u001b[1;32m    601\u001b[0m       \u001b[0;31m# Release the lock early so that multiple threads can perform the call\u001b[0m\u001b[0;34m\u001b[0m\u001b[0;34m\u001b[0m\u001b[0;34m\u001b[0m\u001b[0m\n",
      "\u001b[0;32m~/anaconda3/lib/python3.7/site-packages/tensorflow_core/python/eager/function.py\u001b[0m in \u001b[0;36m__call__\u001b[0;34m(self, *args, **kwargs)\u001b[0m\n\u001b[1;32m   2361\u001b[0m     \u001b[0;32mwith\u001b[0m \u001b[0mself\u001b[0m\u001b[0;34m.\u001b[0m\u001b[0m_lock\u001b[0m\u001b[0;34m:\u001b[0m\u001b[0;34m\u001b[0m\u001b[0;34m\u001b[0m\u001b[0m\n\u001b[1;32m   2362\u001b[0m       \u001b[0mgraph_function\u001b[0m\u001b[0;34m,\u001b[0m \u001b[0margs\u001b[0m\u001b[0;34m,\u001b[0m \u001b[0mkwargs\u001b[0m \u001b[0;34m=\u001b[0m \u001b[0mself\u001b[0m\u001b[0;34m.\u001b[0m\u001b[0m_maybe_define_function\u001b[0m\u001b[0;34m(\u001b[0m\u001b[0margs\u001b[0m\u001b[0;34m,\u001b[0m \u001b[0mkwargs\u001b[0m\u001b[0;34m)\u001b[0m\u001b[0;34m\u001b[0m\u001b[0;34m\u001b[0m\u001b[0m\n\u001b[0;32m-> 2363\u001b[0;31m     \u001b[0;32mreturn\u001b[0m \u001b[0mgraph_function\u001b[0m\u001b[0;34m.\u001b[0m\u001b[0m_filtered_call\u001b[0m\u001b[0;34m(\u001b[0m\u001b[0margs\u001b[0m\u001b[0;34m,\u001b[0m \u001b[0mkwargs\u001b[0m\u001b[0;34m)\u001b[0m  \u001b[0;31m# pylint: disable=protected-access\u001b[0m\u001b[0;34m\u001b[0m\u001b[0;34m\u001b[0m\u001b[0m\n\u001b[0m\u001b[1;32m   2364\u001b[0m \u001b[0;34m\u001b[0m\u001b[0m\n\u001b[1;32m   2365\u001b[0m   \u001b[0;34m@\u001b[0m\u001b[0mproperty\u001b[0m\u001b[0;34m\u001b[0m\u001b[0;34m\u001b[0m\u001b[0m\n",
      "\u001b[0;32m~/anaconda3/lib/python3.7/site-packages/tensorflow_core/python/eager/function.py\u001b[0m in \u001b[0;36m_filtered_call\u001b[0;34m(self, args, kwargs)\u001b[0m\n\u001b[1;32m   1609\u001b[0m          if isinstance(t, (ops.Tensor,\n\u001b[1;32m   1610\u001b[0m                            resource_variable_ops.BaseResourceVariable))),\n\u001b[0;32m-> 1611\u001b[0;31m         self.captured_inputs)\n\u001b[0m\u001b[1;32m   1612\u001b[0m \u001b[0;34m\u001b[0m\u001b[0m\n\u001b[1;32m   1613\u001b[0m   \u001b[0;32mdef\u001b[0m \u001b[0m_call_flat\u001b[0m\u001b[0;34m(\u001b[0m\u001b[0mself\u001b[0m\u001b[0;34m,\u001b[0m \u001b[0margs\u001b[0m\u001b[0;34m,\u001b[0m \u001b[0mcaptured_inputs\u001b[0m\u001b[0;34m,\u001b[0m \u001b[0mcancellation_manager\u001b[0m\u001b[0;34m=\u001b[0m\u001b[0;32mNone\u001b[0m\u001b[0;34m)\u001b[0m\u001b[0;34m:\u001b[0m\u001b[0;34m\u001b[0m\u001b[0;34m\u001b[0m\u001b[0m\n",
      "\u001b[0;32m~/anaconda3/lib/python3.7/site-packages/tensorflow_core/python/eager/function.py\u001b[0m in \u001b[0;36m_call_flat\u001b[0;34m(self, args, captured_inputs, cancellation_manager)\u001b[0m\n\u001b[1;32m   1690\u001b[0m       \u001b[0;31m# No tape is watching; skip to running the function.\u001b[0m\u001b[0;34m\u001b[0m\u001b[0;34m\u001b[0m\u001b[0;34m\u001b[0m\u001b[0m\n\u001b[1;32m   1691\u001b[0m       return self._build_call_outputs(self._inference_function.call(\n\u001b[0;32m-> 1692\u001b[0;31m           ctx, args, cancellation_manager=cancellation_manager))\n\u001b[0m\u001b[1;32m   1693\u001b[0m     forward_backward = self._select_forward_and_backward_functions(\n\u001b[1;32m   1694\u001b[0m         \u001b[0margs\u001b[0m\u001b[0;34m,\u001b[0m\u001b[0;34m\u001b[0m\u001b[0;34m\u001b[0m\u001b[0m\n",
      "\u001b[0;32m~/anaconda3/lib/python3.7/site-packages/tensorflow_core/python/eager/function.py\u001b[0m in \u001b[0;36mcall\u001b[0;34m(self, ctx, args, cancellation_manager)\u001b[0m\n\u001b[1;32m    543\u001b[0m               \u001b[0minputs\u001b[0m\u001b[0;34m=\u001b[0m\u001b[0margs\u001b[0m\u001b[0;34m,\u001b[0m\u001b[0;34m\u001b[0m\u001b[0;34m\u001b[0m\u001b[0m\n\u001b[1;32m    544\u001b[0m               \u001b[0mattrs\u001b[0m\u001b[0;34m=\u001b[0m\u001b[0;34m(\u001b[0m\u001b[0;34m\"executor_type\"\u001b[0m\u001b[0;34m,\u001b[0m \u001b[0mexecutor_type\u001b[0m\u001b[0;34m,\u001b[0m \u001b[0;34m\"config_proto\"\u001b[0m\u001b[0;34m,\u001b[0m \u001b[0mconfig\u001b[0m\u001b[0;34m)\u001b[0m\u001b[0;34m,\u001b[0m\u001b[0;34m\u001b[0m\u001b[0;34m\u001b[0m\u001b[0m\n\u001b[0;32m--> 545\u001b[0;31m               ctx=ctx)\n\u001b[0m\u001b[1;32m    546\u001b[0m         \u001b[0;32melse\u001b[0m\u001b[0;34m:\u001b[0m\u001b[0;34m\u001b[0m\u001b[0;34m\u001b[0m\u001b[0m\n\u001b[1;32m    547\u001b[0m           outputs = execute.execute_with_cancellation(\n",
      "\u001b[0;32m~/anaconda3/lib/python3.7/site-packages/tensorflow_core/python/eager/execute.py\u001b[0m in \u001b[0;36mquick_execute\u001b[0;34m(op_name, num_outputs, inputs, attrs, ctx, name)\u001b[0m\n\u001b[1;32m     59\u001b[0m     tensors = pywrap_tensorflow.TFE_Py_Execute(ctx._handle, device_name,\n\u001b[1;32m     60\u001b[0m                                                \u001b[0mop_name\u001b[0m\u001b[0;34m,\u001b[0m \u001b[0minputs\u001b[0m\u001b[0;34m,\u001b[0m \u001b[0mattrs\u001b[0m\u001b[0;34m,\u001b[0m\u001b[0;34m\u001b[0m\u001b[0;34m\u001b[0m\u001b[0m\n\u001b[0;32m---> 61\u001b[0;31m                                                num_outputs)\n\u001b[0m\u001b[1;32m     62\u001b[0m   \u001b[0;32mexcept\u001b[0m \u001b[0mcore\u001b[0m\u001b[0;34m.\u001b[0m\u001b[0m_NotOkStatusException\u001b[0m \u001b[0;32mas\u001b[0m \u001b[0me\u001b[0m\u001b[0;34m:\u001b[0m\u001b[0;34m\u001b[0m\u001b[0;34m\u001b[0m\u001b[0m\n\u001b[1;32m     63\u001b[0m     \u001b[0;32mif\u001b[0m \u001b[0mname\u001b[0m \u001b[0;32mis\u001b[0m \u001b[0;32mnot\u001b[0m \u001b[0;32mNone\u001b[0m\u001b[0;34m:\u001b[0m\u001b[0;34m\u001b[0m\u001b[0;34m\u001b[0m\u001b[0m\n",
      "\u001b[0;31mKeyboardInterrupt\u001b[0m: "
     ]
    }
   ],
   "source": [
    "hist = model.fit(x_train, train_y, epochs=100, batch_size=40, \n",
    "         validation_data = (x_test[:150], test_y[:150]), callbacks=[earlystop])"
   ]
  },
  {
   "cell_type": "code",
   "execution_count": 14,
   "metadata": {},
   "outputs": [
    {
     "ename": "NameError",
     "evalue": "name 'hist' is not defined",
     "output_type": "error",
     "traceback": [
      "\u001b[0;31m---------------------------------------------------------------------------\u001b[0m",
      "\u001b[0;31mNameError\u001b[0m                                 Traceback (most recent call last)",
      "\u001b[0;32m<ipython-input-14-1a34c32d33d1>\u001b[0m in \u001b[0;36m<module>\u001b[0;34m\u001b[0m\n\u001b[0;32m----> 1\u001b[0;31m \u001b[0mprint\u001b[0m\u001b[0;34m(\u001b[0m\u001b[0mmax\u001b[0m\u001b[0;34m(\u001b[0m\u001b[0mhist\u001b[0m\u001b[0;34m.\u001b[0m\u001b[0mhistory\u001b[0m\u001b[0;34m[\u001b[0m\u001b[0;34m'accuracy'\u001b[0m\u001b[0;34m]\u001b[0m\u001b[0;34m)\u001b[0m\u001b[0;34m,\u001b[0m \u001b[0mmax\u001b[0m\u001b[0;34m(\u001b[0m\u001b[0mhist\u001b[0m\u001b[0;34m.\u001b[0m\u001b[0mhistory\u001b[0m\u001b[0;34m[\u001b[0m\u001b[0;34m'val_accuracy'\u001b[0m\u001b[0;34m]\u001b[0m\u001b[0;34m)\u001b[0m\u001b[0;34m)\u001b[0m\u001b[0;34m\u001b[0m\u001b[0;34m\u001b[0m\u001b[0m\n\u001b[0m",
      "\u001b[0;31mNameError\u001b[0m: name 'hist' is not defined"
     ]
    }
   ],
   "source": [
    "print(max(hist.history['accuracy']), max(hist.history['val_accuracy']))"
   ]
  },
  {
   "cell_type": "code",
   "execution_count": 19,
   "metadata": {},
   "outputs": [
    {
     "name": "stdout",
     "output_type": "stream",
     "text": [
      "150/150 [==============================] - 0s 396us/sample - loss: 1.3329 - accuracy: 0.5133\n",
      "[1.3328516658147176, 0.5133333]\n"
     ]
    }
   ],
   "source": [
    "evaluate = model.evaluate(x_test[150:], test_y[150:], batch_size=53)\n",
    "print(evaluate)"
   ]
  },
  {
   "cell_type": "code",
   "execution_count": 20,
   "metadata": {},
   "outputs": [
    {
     "data": {
      "image/png": "[encoded data removed]",
      "text/plain": [
       "<Figure size 432x288 with 2 Axes>"
      ]
     },
     "metadata": {
      "needs_background": "light"
     },
     "output_type": "display_data"
    }
   ],
   "source": [
    "fig, axs = plt.subplots(nrows=1, ncols=2, constrained_layout=True)\n",
    "ax = axs[0]\n",
    "ax.plot(hist.history['loss'], label='train')\n",
    "ax.plot(hist.history['val_loss'], label='val')\n",
    "ax.legend()\n",
    "ax.set_ylabel('loss')\n",
    "ax.set_xlabel('epochs')\n",
    "ax = axs[1] \n",
    "ax.plot(hist.history['accuracy'], label='train')\n",
    "ax.plot(hist.history['val_accuracy'], label='val')\n",
    "ax.legend()\n",
    "ax.set_ylabel('accuracy')\n",
    "ax.set_xlabel('epochs')\n",
    "plt.show()"
   ]
  },
  {
   "cell_type": "code",
   "execution_count": null,
   "metadata": {},
   "outputs": [],
   "source": []
  },
  {
   "cell_type": "code",
   "execution_count": null,
   "metadata": {},
   "outputs": [],
   "source": []
  },
  {
   "cell_type": "code",
   "execution_count": null,
   "metadata": {},
   "outputs": [],
   "source": []
  },
  {
   "cell_type": "code",
   "execution_count": null,
   "metadata": {},
   "outputs": [],
   "source": []
  },
  {
   "cell_type": "code",
   "execution_count": null,
   "metadata": {},
   "outputs": [],
   "source": []
  },
  {
   "cell_type": "code",
   "execution_count": null,
   "metadata": {},
   "outputs": [],
   "source": []
  },
  {
   "cell_type": "code",
   "execution_count": null,
   "metadata": {},
   "outputs": [],
   "source": []
  },
  {
   "cell_type": "code",
   "execution_count": null,
   "metadata": {},
   "outputs": [],
   "source": []
  }
 ],
 "metadata": {
  "kernelspec": {
   "display_name": "Python 3",
   "language": "python",
   "name": "python3"
  },
  "language_info": {
   "codemirror_mode": {
    "name": "ipython",
    "version": 3
   },
   "file_extension": ".py",
   "mimetype": "text/x-python",
   "name": "python",
   "nbconvert_exporter": "python",
   "pygments_lexer": "ipython3",
   "version": "3.7.7"
  }
 },
 "nbformat": 4,
 "nbformat_minor": 4
}
