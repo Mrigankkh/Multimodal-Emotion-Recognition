{
 "cells": [
  {
   "cell_type": "code",
   "execution_count": 1,
   "metadata": {},
   "outputs": [
    {
     "name": "stderr",
     "output_type": "stream",
     "text": [
      "Using TensorFlow backend.\n"
     ]
    },
    {
     "name": "stdout",
     "output_type": "stream",
     "text": [
      "1140\n",
      "300\n"
     ]
    }
   ],
   "source": [
    "import pandas as pd\n",
    "import os \n",
    "import numpy as np\n",
    "import tensorflow as tf\n",
    "from tensorflow.keras.models import Sequential\n",
    "from tensorflow.keras.layers import Dense, Dropout, GRU\n",
    "from sklearn.model_selection import train_test_split\n",
    "import matplotlib.pyplot as plt\n",
    "from tensorflow.keras.layers import BatchNormalization\n",
    "from sklearn.preprocessing import OneHotEncoder\n",
    "from keras.utils import to_categorical\n",
    "from tensorflow import keras\n",
    "\n",
    "def npz_to_dataFrame():\n",
    "    label = 0\n",
    "    df = pd.DataFrame(columns = [\"Name\", \"Label\"])\n",
    "    for file_name in file:\n",
    "        label = file_name[7]\n",
    "        numpy_data = np.array([[file_name,label]])\n",
    "        df2 = pd.DataFrame(data = numpy_data, columns = [\"Name\", \"Label\"])\n",
    "        df = df.append(df2, ignore_index = True)   \n",
    "    return(df)\n",
    "    \n",
    "    \n",
    "file = os.listdir(\"/Users/sanjay/Documents/Audio-Embedding/npz-values/\")    \n",
    "df = npz_to_dataFrame()\n",
    "df1 = df.drop([174,861])\n",
    "df = df1\n",
    "\n",
    "print(len(df))\n",
    "train_y = df.Label\n",
    "train_y = np.array(train_y)\n",
    "#y = y.reshape(-1, 1)\n",
    "train_x = df.drop('Label', axis = 1)\n",
    "'''enc = OneHotEncoder()\n",
    "y = enc.fit(y).categories\n",
    "print(y)'''\n",
    "file = os.listdir(\"/Users/sanjay/Documents/Audio-Embedding/test_npz_values/\")    \n",
    "df = npz_to_dataFrame()\n",
    "'''df1 = df.drop([210,1088])\n",
    "df = df1'''\n",
    "print(len(df))\n",
    "df2 = pd.concat([df1,df])\n",
    "test_y = df.Label\n",
    "test_y = np.array(test_y)\n",
    "#y = y.reshape(-1, 1)\n",
    "test_x = df.drop('Label', axis = 1)"
   ]
  },
  {
   "cell_type": "code",
   "execution_count": 2,
   "metadata": {},
   "outputs": [
    {
     "name": "stdout",
     "output_type": "stream",
     "text": [
      "Label\n",
      "1     96\n",
      "2    192\n",
      "3    192\n",
      "4    192\n",
      "5    192\n",
      "6    192\n",
      "7    192\n",
      "8    192\n",
      "dtype: int64\n"
     ]
    }
   ],
   "source": [
    "df3 = df2.pivot_table(index='Label', columns='Name', aggfunc=len)\n",
    "print(df3.count(axis='columns'))"
   ]
  },
  {
   "cell_type": "code",
   "execution_count": 3,
   "metadata": {},
   "outputs": [],
   "source": [
    "def get_train_data(df, max_len):\n",
    "    numpy_array = []\n",
    "    numpy_array_2 = []\n",
    "    zero_array = np.array([0]*512)\n",
    "    for i in range(len(df)):\n",
    "        try:\n",
    "            numpy_array_name = df.iloc[i].Name\n",
    "            numpy_array = np.load(\"/Users/sanjay/Documents/Audio-Embedding/npz-values/\" + numpy_array_name, allow_pickle=True)\n",
    "            numpy_array_1 = numpy_array.f.arr_0\n",
    "            numpy_array_2.append(numpy_array_1)\n",
    "            \n",
    "        except:\n",
    "            print(i)\n",
    "    \n",
    "    numpy_array_3 = [[[]]]\n",
    "    for i in range(len(numpy_array_2)):\n",
    "        numpy_array_2[i] = np.transpose(numpy_array_2[i])\n",
    "        if max_len - len(numpy_array_2[i]) != 0:\n",
    "            for j in range((max_len - len(numpy_array_2[i]))):\n",
    "                numpy_array_2[i] = np.append(numpy_array_2[i],[zero_array],axis = 0)\n",
    "        numpy_array_2[i] = np.transpose(numpy_array_2[i])\n",
    "    for i in range(len(numpy_array_2)):\n",
    "        for j in range(len(numpy_array_2[i])):\n",
    "            k = 0\n",
    "            l = 0\n",
    "            while k<=519:\n",
    "                numpy_array_3.append(sum(numpy_array_2[i][j][k:k+10])/10)\n",
    "                k += 10    \n",
    "            numpy_array_3.append(sum(numpy_array_2[i][j][k:k+5])/5)\n",
    "    return np.array(numpy_array_3)\n",
    "    "
   ]
  },
  {
   "cell_type": "code",
   "execution_count": 4,
   "metadata": {},
   "outputs": [],
   "source": [
    "def get_test_data(df, max_len):\n",
    "    numpy_array = []\n",
    "    numpy_array_2 = []\n",
    "    zero_array = np.array([0]*512)\n",
    "    for i in range(len(df)):\n",
    "        try:\n",
    "            numpy_array_name = df.iloc[i].Name\n",
    "            numpy_array = np.load(\"/Users/sanjay/Documents/Audio-Embedding/test_npz_values/\" + numpy_array_name, allow_pickle=True)\n",
    "            numpy_array_1 = numpy_array.f.arr_0\n",
    "            numpy_array_2.append(numpy_array_1)\n",
    "            \n",
    "        except:\n",
    "            print(i)\n",
    "    \n",
    "    numpy_array_3 = [[[]]]\n",
    "    for i in range(len(numpy_array_2)):\n",
    "        numpy_array_2[i] = np.transpose(numpy_array_2[i])\n",
    "        if max_len - len(numpy_array_2[i]) != 0:\n",
    "            for j in range((max_len - len(numpy_array_2[i]))):\n",
    "                numpy_array_2[i] = np.append(numpy_array_2[i],[zero_array],axis = 0)\n",
    "        numpy_array_2[i] = np.transpose(numpy_array_2[i])\n",
    "    for i in range(len(numpy_array_2)):\n",
    "        for j in range(len(numpy_array_2[i])):\n",
    "            k = 0\n",
    "            l = 0\n",
    "            while k<=519:\n",
    "                numpy_array_3.append(sum(numpy_array_2[i][j][k:k+10])/10)\n",
    "                k += 10    \n",
    "            numpy_array_3.append(sum(numpy_array_2[i][j][k:k+5])/5)\n",
    "    return np.array(numpy_array_3)"
   ]
  },
  {
   "cell_type": "code",
   "execution_count": 5,
   "metadata": {},
   "outputs": [],
   "source": [
    "def get_maxlen(df):\n",
    "    numpy_array = []\n",
    "    numpy_array_2 = []\n",
    "    for i in range(len(df)):\n",
    "            numpy_array_name = df.iloc[i].Name\n",
    "            numpy_array = np.load(\"/Users/sanjay/Documents/Audio-Embedding/npz-values/\" + numpy_array_name, allow_pickle=True)\n",
    "            numpy_array_1 = numpy_array.f.arr_0\n",
    "            numpy_array_2.append(numpy_array_1)\n",
    "    max_len = 0\n",
    "    for i in range(len(numpy_array_2)):\n",
    "        for j in range(len(numpy_array_2[i])):\n",
    "            if len(numpy_array_2[i][j]) > max_len:\n",
    "                max_len = len(numpy_array_2[i][j])\n",
    "    return max_len, numpy_array_2"
   ]
  },
  {
   "cell_type": "code",
   "execution_count": 6,
   "metadata": {},
   "outputs": [
    {
     "name": "stdout",
     "output_type": "stream",
     "text": [
      "(300, 53, 512) (1140, 53, 512) (1140,) (300,)\n"
     ]
    }
   ],
   "source": [
    "max_len = 525\n",
    "x_train = get_train_data(train_x, max_len)\n",
    "x_train = x_train[1:]\n",
    "x_train = np.array(x_train)\n",
    "\n",
    "x_train= x_train.reshape((1140, 53, 512))\n",
    "\n",
    "x_test = get_test_data(test_x, max_len)\n",
    "x_test = x_test[1:]\n",
    "x_test = np.array(x_test)\n",
    "x_test= x_test.reshape((300, 53, 512))\n",
    "\n",
    "print(x_test.shape, x_train.shape, train_y.shape, test_y.shape)\n",
    "\n"
   ]
  },
  {
   "cell_type": "code",
   "execution_count": 7,
   "metadata": {},
   "outputs": [],
   "source": [
    "x_train = np.asarray(x_train).astype(np.float32)\n",
    "train_y = np.asarray(train_y).astype(np.float32)\n",
    "y_train = [i-1 for i in train_y]\n",
    "y_train = np.asarray(y_train).astype(np.float32)\n",
    "x_test =  np.asarray(x_test).astype(np.float32)\n",
    "test_y = np.asarray(test_y).astype(np.float32)\n",
    "y_test = [i-1 for i in test_y]\n",
    "y_test = np.array(y_test).astype(np.float32)"
   ]
  },
  {
   "cell_type": "code",
   "execution_count": 8,
   "metadata": {},
   "outputs": [
    {
     "name": "stdout",
     "output_type": "stream",
     "text": [
      "53\n",
      "1140\n"
     ]
    }
   ],
   "source": [
    "n_dim = x_train.shape[1]  \n",
    "n_classes = train_y.shape[0] \n",
    "print(n_dim)\n",
    "print(n_classes)\n",
    "#print(test_x)"
   ]
  },
  {
   "cell_type": "code",
   "execution_count": 9,
   "metadata": {},
   "outputs": [],
   "source": [
    "from keras.callbacks import EarlyStopping, ModelCheckpoint\n",
    "\n",
    "earlystop = EarlyStopping(monitor='val_loss', mode='min', patience=75, restore_best_weights=True)\n",
    "checkpointer = ModelCheckpoint(filepath='/tmp/weights.hdf5', verbose=1, save_best_only=True)\n"
   ]
  },
  {
   "cell_type": "code",
   "execution_count": 10,
   "metadata": {},
   "outputs": [
    {
     "name": "stdout",
     "output_type": "stream",
     "text": [
      "Model: \"sequential\"\n",
      "_________________________________________________________________\n",
      "Layer (type)                 Output Shape              Param #   \n",
      "=================================================================\n",
      "batch_normalization (BatchNo (None, 53, 512)           2048      \n",
      "_________________________________________________________________\n",
      "gru (GRU)                    (None, 53)                90153     \n",
      "_________________________________________________________________\n",
      "dense (Dense)                (None, 53)                2862      \n",
      "_________________________________________________________________\n",
      "dense_1 (Dense)              (None, 26)                1404      \n",
      "_________________________________________________________________\n",
      "dense_2 (Dense)              (None, 13)                351       \n",
      "_________________________________________________________________\n",
      "dense_3 (Dense)              (None, 8)                 112       \n",
      "=================================================================\n",
      "Total params: 96,930\n",
      "Trainable params: 95,906\n",
      "Non-trainable params: 1,024\n",
      "_________________________________________________________________\n",
      "None\n"
     ]
    }
   ],
   "source": [
    "from sklearn.model_selection import GridSearchCV\n",
    "from keras.wrappers.scikit_learn import KerasClassifier\n",
    "from keras.constraints import maxnorm\n",
    "\n",
    "\n",
    "def create_model():  \n",
    "    model = Sequential()\n",
    "    model.add(BatchNormalization(axis=-1, input_shape=(53,512)))\n",
    "    model.add(GRU(n_dim, dropout = 0.1, return_sequences=False, recurrent_dropout = 0.2))\n",
    "    model.add(Dense(53, kernel_initializer='uniform', activation='relu'))\n",
    "    model.add(Dense(26, kernel_initializer='uniform', activation='relu'))\n",
    "    model.add(Dense(13, kernel_initializer='uniform', activation='relu'))\n",
    "    model.add(Dense(8, kernel_initializer='uniform', activation='softmax'))\n",
    "    keras.optimizers.Adam(lr=1e-5, decay=1e-6)\n",
    "    model.compile(loss='sparse_categorical_crossentropy', metrics=['accuracy'])  \n",
    "    return model\n",
    "   \n",
    "  \n",
    "model = create_model()\n",
    "print(model.summary())"
   ]
  },
  {
   "cell_type": "code",
   "execution_count": 11,
   "metadata": {},
   "outputs": [
    {
     "name": "stdout",
     "output_type": "stream",
     "text": [
      "Train on 1140 samples, validate on 300 samples\n",
      "Epoch 1/80\n",
      "1140/1140 [==============================] - 4s 4ms/sample - loss: 2.0523 - accuracy: 0.1298 - val_loss: 2.0235 - val_accuracy: 0.1733\n",
      "Epoch 2/80\n",
      "1140/1140 [==============================] - 2s 2ms/sample - loss: 1.9027 - accuracy: 0.2412 - val_loss: 1.9239 - val_accuracy: 0.2433\n",
      "Epoch 3/80\n",
      "1140/1140 [==============================] - 2s 2ms/sample - loss: 1.7836 - accuracy: 0.2605 - val_loss: 1.8586 - val_accuracy: 0.2767\n",
      "Epoch 4/80\n",
      "1140/1140 [==============================] - 2s 2ms/sample - loss: 1.6792 - accuracy: 0.2781 - val_loss: 1.7203 - val_accuracy: 0.3067\n",
      "Epoch 5/80\n",
      "1140/1140 [==============================] - 2s 2ms/sample - loss: 1.5918 - accuracy: 0.3070 - val_loss: 1.6618 - val_accuracy: 0.3367\n",
      "Epoch 6/80\n",
      "1140/1140 [==============================] - 2s 2ms/sample - loss: 1.5157 - accuracy: 0.3579 - val_loss: 1.7618 - val_accuracy: 0.2600\n",
      "Epoch 7/80\n",
      "1140/1140 [==============================] - 2s 2ms/sample - loss: 1.4497 - accuracy: 0.3921 - val_loss: 1.6304 - val_accuracy: 0.3300\n",
      "Epoch 8/80\n",
      "1140/1140 [==============================] - 3s 2ms/sample - loss: 1.4105 - accuracy: 0.4202 - val_loss: 1.6316 - val_accuracy: 0.3567\n",
      "Epoch 9/80\n",
      "1140/1140 [==============================] - 2s 2ms/sample - loss: 1.3777 - accuracy: 0.4202 - val_loss: 1.6600 - val_accuracy: 0.3267\n",
      "Epoch 10/80\n",
      "1140/1140 [==============================] - 2s 2ms/sample - loss: 1.3460 - accuracy: 0.4228 - val_loss: 1.7546 - val_accuracy: 0.3867\n",
      "Epoch 11/80\n",
      "1140/1140 [==============================] - 2s 2ms/sample - loss: 1.2820 - accuracy: 0.4509 - val_loss: 1.7491 - val_accuracy: 0.3267\n",
      "Epoch 12/80\n",
      "1140/1140 [==============================] - 2s 2ms/sample - loss: 1.2692 - accuracy: 0.4421 - val_loss: 1.8157 - val_accuracy: 0.2900\n",
      "Epoch 13/80\n",
      "1140/1140 [==============================] - 2s 2ms/sample - loss: 1.2135 - accuracy: 0.4535 - val_loss: 1.8607 - val_accuracy: 0.3233\n",
      "Epoch 14/80\n",
      "1140/1140 [==============================] - 2s 2ms/sample - loss: 1.1906 - accuracy: 0.4614 - val_loss: 1.9757 - val_accuracy: 0.2800\n",
      "Epoch 15/80\n",
      "1140/1140 [==============================] - 2s 2ms/sample - loss: 1.1457 - accuracy: 0.4763 - val_loss: 1.9157 - val_accuracy: 0.3000\n",
      "Epoch 16/80\n",
      "1140/1140 [==============================] - 2s 2ms/sample - loss: 1.1195 - accuracy: 0.5018 - val_loss: 2.0458 - val_accuracy: 0.3500\n",
      "Epoch 17/80\n",
      "1140/1140 [==============================] - 2s 2ms/sample - loss: 1.1027 - accuracy: 0.4851 - val_loss: 2.1122 - val_accuracy: 0.3833\n",
      "Epoch 18/80\n",
      "1140/1140 [==============================] - 2s 2ms/sample - loss: 1.0570 - accuracy: 0.5184 - val_loss: 2.1679 - val_accuracy: 0.3200\n",
      "Epoch 19/80\n",
      "1140/1140 [==============================] - 2s 2ms/sample - loss: 1.0259 - accuracy: 0.5202 - val_loss: 2.4188 - val_accuracy: 0.3400\n",
      "Epoch 20/80\n",
      "1140/1140 [==============================] - 2s 2ms/sample - loss: 1.0473 - accuracy: 0.5088 - val_loss: 2.4827 - val_accuracy: 0.3067\n",
      "Epoch 21/80\n",
      "1140/1140 [==============================] - 2s 2ms/sample - loss: 0.9697 - accuracy: 0.5474 - val_loss: 2.5136 - val_accuracy: 0.3100\n",
      "Epoch 22/80\n",
      "1140/1140 [==============================] - 2s 2ms/sample - loss: 0.9789 - accuracy: 0.5404 - val_loss: 2.6929 - val_accuracy: 0.2867\n",
      "Epoch 23/80\n",
      "1140/1140 [==============================] - 2s 2ms/sample - loss: 0.9404 - accuracy: 0.5509 - val_loss: 2.4389 - val_accuracy: 0.3967\n",
      "Epoch 24/80\n",
      "1140/1140 [==============================] - 2s 2ms/sample - loss: 0.9441 - accuracy: 0.5482 - val_loss: 2.5586 - val_accuracy: 0.3267\n",
      "Epoch 25/80\n",
      "1140/1140 [==============================] - 2s 2ms/sample - loss: 0.8875 - accuracy: 0.5921 - val_loss: 2.9516 - val_accuracy: 0.2900\n",
      "Epoch 26/80\n",
      "1140/1140 [==============================] - 2s 2ms/sample - loss: 0.8675 - accuracy: 0.5895 - val_loss: 2.5959 - val_accuracy: 0.3600\n",
      "Epoch 27/80\n",
      "1140/1140 [==============================] - 2s 2ms/sample - loss: 0.8575 - accuracy: 0.5912 - val_loss: 2.8967 - val_accuracy: 0.3367\n",
      "Epoch 28/80\n",
      "1140/1140 [==============================] - 2s 2ms/sample - loss: 0.8611 - accuracy: 0.6018 - val_loss: 2.9834 - val_accuracy: 0.3700\n",
      "Epoch 29/80\n",
      "1140/1140 [==============================] - 2s 2ms/sample - loss: 0.8047 - accuracy: 0.6298 - val_loss: 3.0082 - val_accuracy: 0.4033\n",
      "Epoch 30/80\n",
      "1140/1140 [==============================] - 2s 2ms/sample - loss: 0.8038 - accuracy: 0.6272 - val_loss: 3.1524 - val_accuracy: 0.3533\n",
      "Epoch 31/80\n",
      "1140/1140 [==============================] - 2s 2ms/sample - loss: 0.7696 - accuracy: 0.6386 - val_loss: 3.1940 - val_accuracy: 0.3867\n",
      "Epoch 32/80\n",
      "1140/1140 [==============================] - 2s 2ms/sample - loss: 0.7463 - accuracy: 0.6535 - val_loss: 3.6007 - val_accuracy: 0.3200\n",
      "Epoch 33/80\n",
      "1140/1140 [==============================] - 2s 2ms/sample - loss: 0.7368 - accuracy: 0.6579 - val_loss: 3.5534 - val_accuracy: 0.3233\n",
      "Epoch 34/80\n",
      "1140/1140 [==============================] - 2s 2ms/sample - loss: 0.7181 - accuracy: 0.6596 - val_loss: 3.4514 - val_accuracy: 0.4067\n",
      "Epoch 35/80\n",
      "1140/1140 [==============================] - 2s 2ms/sample - loss: 0.6746 - accuracy: 0.6781 - val_loss: 3.6140 - val_accuracy: 0.3733\n",
      "Epoch 36/80\n",
      "1140/1140 [==============================] - 2s 2ms/sample - loss: 0.7071 - accuracy: 0.6746 - val_loss: 3.5160 - val_accuracy: 0.3767\n",
      "Epoch 37/80\n",
      "1140/1140 [==============================] - 2s 2ms/sample - loss: 0.6641 - accuracy: 0.6930 - val_loss: 3.9193 - val_accuracy: 0.4033\n",
      "Epoch 38/80\n",
      "1140/1140 [==============================] - 2s 2ms/sample - loss: 0.6283 - accuracy: 0.7096 - val_loss: 4.2041 - val_accuracy: 0.4233\n",
      "Epoch 39/80\n",
      "1140/1140 [==============================] - 2s 2ms/sample - loss: 0.6721 - accuracy: 0.6877 - val_loss: 3.9052 - val_accuracy: 0.3867\n",
      "Epoch 40/80\n",
      "1140/1140 [==============================] - 2s 2ms/sample - loss: 0.6108 - accuracy: 0.7114 - val_loss: 4.4401 - val_accuracy: 0.3233\n",
      "Epoch 41/80\n",
      "1140/1140 [==============================] - 2s 2ms/sample - loss: 0.6009 - accuracy: 0.7281 - val_loss: 4.0698 - val_accuracy: 0.4067\n",
      "Epoch 42/80\n",
      "1140/1140 [==============================] - 2s 2ms/sample - loss: 0.5808 - accuracy: 0.7307 - val_loss: 4.7721 - val_accuracy: 0.4100\n",
      "Epoch 43/80\n",
      "1140/1140 [==============================] - 2s 2ms/sample - loss: 0.5581 - accuracy: 0.7377 - val_loss: 4.6162 - val_accuracy: 0.4433\n",
      "Epoch 44/80\n",
      "1140/1140 [==============================] - 2s 2ms/sample - loss: 0.5444 - accuracy: 0.7386 - val_loss: 4.6080 - val_accuracy: 0.4500\n",
      "Epoch 45/80\n",
      "1140/1140 [==============================] - 2s 2ms/sample - loss: 0.5424 - accuracy: 0.7298 - val_loss: 4.6582 - val_accuracy: 0.3767\n",
      "Epoch 46/80\n",
      "1140/1140 [==============================] - 2s 2ms/sample - loss: 0.5305 - accuracy: 0.7518 - val_loss: 4.4649 - val_accuracy: 0.4433\n",
      "Epoch 47/80\n",
      "1140/1140 [==============================] - 2s 2ms/sample - loss: 0.5124 - accuracy: 0.7561 - val_loss: 4.7676 - val_accuracy: 0.3933\n",
      "Epoch 48/80\n",
      "1140/1140 [==============================] - 2s 2ms/sample - loss: 0.4851 - accuracy: 0.7623 - val_loss: 4.6889 - val_accuracy: 0.4100\n",
      "Epoch 49/80\n",
      "1140/1140 [==============================] - 2s 2ms/sample - loss: 0.4698 - accuracy: 0.7711 - val_loss: 4.4993 - val_accuracy: 0.4600\n",
      "Epoch 50/80\n",
      "1140/1140 [==============================] - 2s 2ms/sample - loss: 0.4844 - accuracy: 0.7807 - val_loss: 4.8124 - val_accuracy: 0.4533\n",
      "Epoch 51/80\n",
      "1140/1140 [==============================] - 2s 2ms/sample - loss: 0.4847 - accuracy: 0.7649 - val_loss: 4.4238 - val_accuracy: 0.4367\n",
      "Epoch 52/80\n",
      "1140/1140 [==============================] - 2s 2ms/sample - loss: 0.4556 - accuracy: 0.7974 - val_loss: 5.3255 - val_accuracy: 0.3867\n",
      "Epoch 53/80\n",
      "1140/1140 [==============================] - 2s 2ms/sample - loss: 0.4602 - accuracy: 0.7956 - val_loss: 4.8301 - val_accuracy: 0.4300\n",
      "Epoch 54/80\n",
      "1140/1140 [==============================] - 2s 2ms/sample - loss: 0.4199 - accuracy: 0.8026 - val_loss: 5.1620 - val_accuracy: 0.4233\n",
      "Epoch 55/80\n",
      "1140/1140 [==============================] - 2s 2ms/sample - loss: 0.4400 - accuracy: 0.7789 - val_loss: 5.3369 - val_accuracy: 0.4367\n",
      "Epoch 56/80\n"
     ]
    },
    {
     "name": "stdout",
     "output_type": "stream",
     "text": [
      "1140/1140 [==============================] - 2s 2ms/sample - loss: 0.4146 - accuracy: 0.8035 - val_loss: 5.6006 - val_accuracy: 0.4333\n",
      "Epoch 57/80\n",
      "1140/1140 [==============================] - 2s 2ms/sample - loss: 0.4432 - accuracy: 0.7974 - val_loss: 5.8967 - val_accuracy: 0.3867\n",
      "Epoch 58/80\n",
      "1140/1140 [==============================] - 2s 2ms/sample - loss: 0.4103 - accuracy: 0.7991 - val_loss: 5.5302 - val_accuracy: 0.4333\n",
      "Epoch 59/80\n",
      "1140/1140 [==============================] - 2s 2ms/sample - loss: 0.4017 - accuracy: 0.8123 - val_loss: 5.2574 - val_accuracy: 0.4133\n",
      "Epoch 60/80\n",
      "1140/1140 [==============================] - 2s 2ms/sample - loss: 0.3890 - accuracy: 0.8123 - val_loss: 6.0799 - val_accuracy: 0.3867\n",
      "Epoch 61/80\n",
      "1140/1140 [==============================] - 2s 2ms/sample - loss: 0.4031 - accuracy: 0.8254 - val_loss: 5.8832 - val_accuracy: 0.4500\n",
      "Epoch 62/80\n",
      "1140/1140 [==============================] - 2s 2ms/sample - loss: 0.3704 - accuracy: 0.8307 - val_loss: 5.9498 - val_accuracy: 0.4467\n",
      "Epoch 63/80\n",
      "1140/1140 [==============================] - 2s 2ms/sample - loss: 0.3950 - accuracy: 0.8254 - val_loss: 6.3097 - val_accuracy: 0.4267\n",
      "Epoch 64/80\n",
      "1140/1140 [==============================] - 2s 2ms/sample - loss: 0.3591 - accuracy: 0.8474 - val_loss: 6.0572 - val_accuracy: 0.4700\n",
      "Epoch 65/80\n",
      "1140/1140 [==============================] - 2s 2ms/sample - loss: 0.3569 - accuracy: 0.8482 - val_loss: 5.7109 - val_accuracy: 0.3667\n",
      "Epoch 66/80\n",
      "1140/1140 [==============================] - 2s 2ms/sample - loss: 0.3560 - accuracy: 0.8430 - val_loss: 6.6085 - val_accuracy: 0.4867\n",
      "Epoch 67/80\n",
      "1140/1140 [==============================] - 2s 2ms/sample - loss: 0.3376 - accuracy: 0.8500 - val_loss: 6.3032 - val_accuracy: 0.4767\n",
      "Epoch 68/80\n",
      "1140/1140 [==============================] - 2s 2ms/sample - loss: 0.3502 - accuracy: 0.8719 - val_loss: 6.2337 - val_accuracy: 0.4333\n",
      "Epoch 69/80\n",
      "1140/1140 [==============================] - 2s 2ms/sample - loss: 0.2967 - accuracy: 0.8860 - val_loss: 6.0583 - val_accuracy: 0.4367\n",
      "Epoch 70/80\n",
      "1140/1140 [==============================] - 2s 2ms/sample - loss: 0.2871 - accuracy: 0.8868 - val_loss: 5.0808 - val_accuracy: 0.4033\n",
      "Epoch 71/80\n",
      "1140/1140 [==============================] - 2s 2ms/sample - loss: 0.2921 - accuracy: 0.8842 - val_loss: 5.9745 - val_accuracy: 0.4533\n",
      "Epoch 72/80\n",
      "1140/1140 [==============================] - 2s 2ms/sample - loss: 0.2712 - accuracy: 0.8974 - val_loss: 5.8955 - val_accuracy: 0.4167\n",
      "Epoch 73/80\n",
      "1140/1140 [==============================] - 2s 2ms/sample - loss: 0.2625 - accuracy: 0.9105 - val_loss: 6.3991 - val_accuracy: 0.4600\n",
      "Epoch 74/80\n",
      "1140/1140 [==============================] - 2s 2ms/sample - loss: 0.2480 - accuracy: 0.9018 - val_loss: 6.3318 - val_accuracy: 0.4733\n",
      "Epoch 75/80\n",
      "1140/1140 [==============================] - 2s 2ms/sample - loss: 0.2386 - accuracy: 0.9167 - val_loss: 5.7277 - val_accuracy: 0.4500\n",
      "Epoch 76/80\n",
      "1140/1140 [==============================] - 2s 2ms/sample - loss: 0.2167 - accuracy: 0.9219 - val_loss: 6.6577 - val_accuracy: 0.4533\n",
      "Epoch 77/80\n",
      "1140/1140 [==============================] - 2s 2ms/sample - loss: 0.2030 - accuracy: 0.9272 - val_loss: 7.5940 - val_accuracy: 0.4367\n",
      "Epoch 78/80\n",
      "1140/1140 [==============================] - 2s 2ms/sample - loss: 0.2034 - accuracy: 0.9316 - val_loss: 6.1204 - val_accuracy: 0.4800\n",
      "Epoch 79/80\n",
      "1140/1140 [==============================] - 2s 2ms/sample - loss: 0.1828 - accuracy: 0.9412 - val_loss: 6.2885 - val_accuracy: 0.5133\n",
      "Epoch 80/80\n",
      "1140/1140 [==============================] - 2s 2ms/sample - loss: 0.1715 - accuracy: 0.9491 - val_loss: 6.3849 - val_accuracy: 0.4600\n"
     ]
    }
   ],
   "source": [
    "hist = model.fit(x_train, y_train, epochs=80, batch_size=32, \n",
    "         validation_data = (x_test, y_test), callbacks=[earlystop])"
   ]
  },
  {
   "cell_type": "code",
   "execution_count": 12,
   "metadata": {},
   "outputs": [
    {
     "name": "stdout",
     "output_type": "stream",
     "text": [
      "0.9491228 0.5133333\n"
     ]
    }
   ],
   "source": [
    "print(max(hist.history['accuracy']), max(hist.history['val_accuracy']))"
   ]
  },
  {
   "cell_type": "code",
   "execution_count": 14,
   "metadata": {},
   "outputs": [
    {
     "name": "stdout",
     "output_type": "stream",
     "text": [
      "300/300 [==============================] - 0s 487us/sample - loss: 6.3849 - accuracy: 0.4600\n",
      "[6.384886315663656, 0.46]\n"
     ]
    }
   ],
   "source": [
    "evaluate = model.evaluate(x_test, y_test, batch_size=32)\n",
    "print(evaluate)"
   ]
  },
  {
   "cell_type": "code",
   "execution_count": 15,
   "metadata": {},
   "outputs": [
    {
     "data": {
      "image/png": "[encoded data removed]",
      "text/plain": [
       "<Figure size 432x288 with 2 Axes>"
      ]
     },
     "metadata": {
      "needs_background": "light"
     },
     "output_type": "display_data"
    }
   ],
   "source": [
    "fig, axs = plt.subplots(nrows=1, ncols=2, constrained_layout=True)\n",
    "ax = axs[0]\n",
    "ax.plot(hist.history['loss'], label='train')\n",
    "ax.plot(hist.history['val_loss'], label='val')\n",
    "ax.legend()\n",
    "ax.set_ylabel('loss')\n",
    "ax.set_xlabel('epochs')\n",
    "ax = axs[1] \n",
    "ax.plot(hist.history['accuracy'], label='train')\n",
    "ax.plot(hist.history['val_accuracy'], label='val')\n",
    "ax.legend()\n",
    "ax.set_ylabel('accuracy')\n",
    "ax.set_xlabel('epochs')\n",
    "plt.show()"
   ]
  },
  {
   "cell_type": "code",
   "execution_count": null,
   "metadata": {},
   "outputs": [],
   "source": []
  },
  {
   "cell_type": "code",
   "execution_count": null,
   "metadata": {},
   "outputs": [],
   "source": []
  },
  {
   "cell_type": "code",
   "execution_count": null,
   "metadata": {},
   "outputs": [],
   "source": []
  },
  {
   "cell_type": "code",
   "execution_count": null,
   "metadata": {},
   "outputs": [],
   "source": []
  },
  {
   "cell_type": "code",
   "execution_count": null,
   "metadata": {},
   "outputs": [],
   "source": []
  },
  {
   "cell_type": "code",
   "execution_count": null,
   "metadata": {},
   "outputs": [],
   "source": []
  },
  {
   "cell_type": "code",
   "execution_count": null,
   "metadata": {},
   "outputs": [],
   "source": []
  },
  {
   "cell_type": "code",
   "execution_count": null,
   "metadata": {},
   "outputs": [],
   "source": []
  }
 ],
 "metadata": {
  "kernelspec": {
   "display_name": "Python 3",
   "language": "python",
   "name": "python3"
  },
  "language_info": {
   "codemirror_mode": {
    "name": "ipython",
    "version": 3
   },
   "file_extension": ".py",
   "mimetype": "text/x-python",
   "name": "python",
   "nbconvert_exporter": "python",
   "pygments_lexer": "ipython3",
   "version": "3.7.7"
  }
 },
 "nbformat": 4,
 "nbformat_minor": 4
}
